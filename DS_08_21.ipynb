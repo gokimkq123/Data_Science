{
 "cells": [
  {
   "cell_type": "markdown",
   "id": "b4e68c983b73e2ce",
   "metadata": {},
   "source": [
    "<h1> 파이썬 리스트에서 배열 만들기"
   ]
  },
  {
   "cell_type": "code",
   "execution_count": 3,
   "id": "62ce682c0dadd156",
   "metadata": {
    "ExecuteTime": {
     "end_time": "2024-08-21T07:21:46.633499Z",
     "start_time": "2024-08-21T07:21:46.558312Z"
    }
   },
   "outputs": [],
   "source": [
    "import numpy as np\n",
    "from mpmath import linspace\n",
    "from numpy.core.numeric import newaxis"
   ]
  },
  {
   "cell_type": "code",
   "execution_count": 9,
   "id": "717da912d08fe15e",
   "metadata": {
    "ExecuteTime": {
     "end_time": "2024-08-21T07:29:45.878297Z",
     "start_time": "2024-08-21T07:29:45.869598Z"
    },
    "jupyter": {
     "source_hidden": true
    },
    "scrolled": true
   },
   "outputs": [
    {
     "data": {
      "text/plain": [
       "array([1, 2, 3, 4, 5])"
      ]
     },
     "execution_count": 9,
     "metadata": {},
     "output_type": "execute_result"
    }
   ],
   "source": [
    "np.array([1,2,3,4,5])"
   ]
  },
  {
   "cell_type": "markdown",
   "id": "5699569bad0abf9a",
   "metadata": {},
   "source": [
    "<h4>NumPy는 배열의 모든 요소가 같아야한다\n",
    "<h4>아니라면 상위 타입을 취하게 된다."
   ]
  },
  {
   "cell_type": "code",
   "execution_count": 12,
   "id": "c0a5e15c55ddf7bc",
   "metadata": {
    "ExecuteTime": {
     "end_time": "2024-08-21T07:32:26.060138Z",
     "start_time": "2024-08-21T07:32:26.054952Z"
    }
   },
   "outputs": [
    {
     "data": {
      "text/plain": [
       "array([1., 2., 3., 4.])"
      ]
     },
     "execution_count": 12,
     "metadata": {},
     "output_type": "execute_result"
    }
   ],
   "source": [
    "np.array([1.2,3,4,5,])"
   ]
  },
  {
   "cell_type": "code",
   "execution_count": 13,
   "id": "6f8189634067b90f",
   "metadata": {
    "ExecuteTime": {
     "end_time": "2024-08-21T07:32:33.063519Z",
     "start_time": "2024-08-21T07:32:33.059210Z"
    }
   },
   "outputs": [
    {
     "data": {
      "text/plain": [
       "array([1., 2., 3., 4.])"
      ]
     },
     "execution_count": 13,
     "metadata": {},
     "output_type": "execute_result"
    }
   ],
   "source": [
    "np.array([1,2,3,4], dtype=float)    # 데이터 타입 설정"
   ]
  },
  {
   "cell_type": "code",
   "execution_count": 15,
   "id": "f74fe0871011902d",
   "metadata": {
    "ExecuteTime": {
     "end_time": "2024-08-21T07:34:08.343902Z",
     "start_time": "2024-08-21T07:34:08.337821Z"
    }
   },
   "outputs": [
    {
     "data": {
      "text/plain": [
       "array([[2, 3, 4],\n",
       "       [4, 5, 6],\n",
       "       [6, 7, 8]])"
      ]
     },
     "execution_count": 15,
     "metadata": {},
     "output_type": "execute_result"
    }
   ],
   "source": [
    "np.array([range(i, i + 3) for i in [2, 4, 6]])"
   ]
  },
  {
   "cell_type": "code",
   "execution_count": 30,
   "id": "90b81b53cd726429",
   "metadata": {
    "ExecuteTime": {
     "end_time": "2024-08-21T07:45:59.956176Z",
     "start_time": "2024-08-21T07:45:59.947487Z"
    }
   },
   "outputs": [
    {
     "name": "stdout",
     "output_type": "stream",
     "text": [
      "[0 0 0 0 0 0 0 0 0 0] \n",
      "\n",
      "[[1. 1. 1. 1. 1.]\n",
      " [1. 1. 1. 1. 1.]\n",
      " [1. 1. 1. 1. 1.]] \n",
      "\n",
      "[[3.14 3.14 3.14 3.14 3.14]\n",
      " [3.14 3.14 3.14 3.14 3.14]\n",
      " [3.14 3.14 3.14 3.14 3.14]] \n",
      "\n",
      "[ 0  2  4  6  8 10 12 14 16 18] \n",
      "\n",
      "[0.   0.25 0.5  0.75 1.  ] \n",
      "\n",
      "[[0.49209129 0.28169191 0.71014924]\n",
      " [0.20911703 0.22435963 0.49345775]\n",
      " [0.78273094 0.16291704 0.20759985]] \n",
      "\n",
      "[[ 1.01570668e+00  1.74378749e+00  7.71512904e-01]\n",
      " [-3.01438528e-01 -8.81827777e-01  6.90829097e-01]\n",
      " [-2.33461852e+00 -6.79566863e-05  4.47392652e-02]] \n",
      "\n",
      "[[5 1 3]\n",
      " [4 9 8]\n",
      " [3 9 2]] \n",
      "\n",
      "[[1. 0. 0.]\n",
      " [0. 1. 0.]\n",
      " [0. 0. 1.]] \n",
      "\n"
     ]
    }
   ],
   "source": [
    "# 0으로 채운 길이 10의 정수 배열 만들기\n",
    "print(np.zeros(10, dtype=int), '\\n')\n",
    "\n",
    "# 1로 채운 3 x 5 부동 소수점 배열 만들기\n",
    "print(np.ones((3, 5), dtype=float), '\\n')\n",
    "\n",
    "# 3.14로 채운 3 x 5 배열 만들기\n",
    "print(np.full((3, 5), 3.14), '\\n')\n",
    "\n",
    "# 선형 수열로 채운 배열 만들기\n",
    "print(np.arange(0, 20, 2), '\\n')\n",
    "\n",
    "# 0과 1사이에 일정한 간격을 가진 다섯 개의 값으로 채운 배열 만들기\n",
    "print(np.linspace(0, 1, 5), '\\n')\n",
    "\n",
    "# 균등하게 분포된 3 x 3 배열 만들기\n",
    "print(np.random.random((3, 3)), '\\n')\n",
    "\n",
    "# 정규 분포(평균 0, 표준 편차 = 1)의 난수로 채운 3 x 3 배열 만들기\n",
    "print(np.random.normal(0, 1, (3, 3)), '\\n')\n",
    "\n",
    "# [0, 10] 구간의 임의의 정수로 채운 3 x 3 배열 만들기\n",
    "print(np.random.randint(0, 10, (3, 3)), '\\n')\n",
    "\n",
    "# 3 x 3 단위 행렬 만들기\n",
    "print(np.eye(3), '\\n')"
   ]
  },
  {
   "cell_type": "markdown",
   "id": "8bc8a64d6ac329b8",
   "metadata": {},
   "source": [
    "<h1> NumPy 배열 기초"
   ]
  },
  {
   "cell_type": "markdown",
   "id": "311d1d55994450d5",
   "metadata": {},
   "source": [
    "<h3> 배열 속성 지정"
   ]
  },
  {
   "cell_type": "code",
   "execution_count": 32,
   "id": "eae813d0c5d06985",
   "metadata": {
    "ExecuteTime": {
     "end_time": "2024-08-21T07:55:39.161509Z",
     "start_time": "2024-08-21T07:55:39.156391Z"
    }
   },
   "outputs": [
    {
     "name": "stdout",
     "output_type": "stream",
     "text": [
      "x3 ndim:  3\n",
      "x3 shape:  (3, 4, 5)\n",
      "x3 size:  60\n",
      "dtype int64\n"
     ]
    }
   ],
   "source": [
    "np.random.seed(0) # 똑같은 난수 배열이 생성되지 않게 시드 값 설정\n",
    "\n",
    "x1 = np.random.randint(10, size = 6)\n",
    "x2 = np.random.randint(10, size = (3, 4))\n",
    "x3 = np.random.randint(10, size = (3, 4, 5))\n",
    "\n",
    "print(\"x3 ndim: \", x3.ndim) # 차원의 개수\n",
    "print(\"x3 shape: \", x3.shape) # 각 차원의 크기\n",
    "print(\"x3 size: \", x3.size) # 전체 배열의 크기\n",
    "print(\"dtype\", x3.dtype) # 각 요소의 타입"
   ]
  },
  {
   "cell_type": "markdown",
   "id": "85e2579987250fe3",
   "metadata": {},
   "source": [
    "<h3> 배열 인덱싱 : 단일 요소 접근"
   ]
  },
  {
   "cell_type": "code",
   "execution_count": 37,
   "id": "87b153022e52ee07",
   "metadata": {
    "ExecuteTime": {
     "end_time": "2024-08-21T07:58:29.485081Z",
     "start_time": "2024-08-21T07:58:29.480090Z"
    }
   },
   "outputs": [
    {
     "name": "stdout",
     "output_type": "stream",
     "text": [
      "[5 0 3 3 7 9]\n",
      "5\n",
      "9 \n",
      "\n",
      "[[3 5 2 4]\n",
      " [7 6 8 8]\n",
      " [1 6 7 7]]\n",
      "3\n",
      "7 \n",
      "\n"
     ]
    }
   ],
   "source": [
    "print(x1)\n",
    "print(x1[0])\n",
    "print(x1[-1], '\\n')\n",
    "\n",
    "print(x2)\n",
    "print(x2[0, 0])\n",
    "print(x2[2, -1], '\\n')"
   ]
  },
  {
   "cell_type": "markdown",
   "id": "1b890673fd7e2e4c",
   "metadata": {},
   "source": [
    "<h3> 배열 슬라이싱 : 하위 배열 접근"
   ]
  },
  {
   "cell_type": "markdown",
   "id": "ef4b4179e784205d",
   "metadata": {},
   "source": [
    "<h4> 1차원 하위 배열\n",
    "<h4> x[start:stop:step]"
   ]
  },
  {
   "cell_type": "code",
   "execution_count": 51,
   "id": "58bc14e54abcf9cf",
   "metadata": {
    "ExecuteTime": {
     "end_time": "2024-08-21T08:07:12.992346Z",
     "start_time": "2024-08-21T08:07:12.987620Z"
    }
   },
   "outputs": [
    {
     "name": "stdout",
     "output_type": "stream",
     "text": [
      "[5 0 3 3 7 9]\n",
      "[5 0 3 3 7]\n",
      "[9]\n",
      "[3 3 7]\n",
      "[5 3 7]\n",
      "[0 3 9] \n",
      "\n",
      "[9 7 3 3 0 5]\n",
      "[9 3 0]\n"
     ]
    }
   ],
   "source": [
    "print(x1)\n",
    "print(x1[:5]) # 첫 다섯개 요소\n",
    "print(x1[5:]) # 인덱스 5 다음 요소\n",
    "print(x1[2:5]) # 중간 하위 배열 \n",
    "print(x1[::2]) # 2의 배수일때 걸러 구성\n",
    "print(x1[1::2], '\\n') # 인덱스 1에서 시작\n",
    "\n",
    "print(x1[::-1]) # 모든 요소를 거꾸로 나열\n",
    "print(x1[5::-2]) # 인덱스 5부터 거꾸로 나열"
   ]
  },
  {
   "cell_type": "markdown",
   "id": "bd4ebfee6afc587b",
   "metadata": {},
   "source": [
    "<h4> 다차원 하위 배열"
   ]
  },
  {
   "cell_type": "code",
   "execution_count": 56,
   "id": "9d0cf048694ea2ac",
   "metadata": {
    "ExecuteTime": {
     "end_time": "2024-08-21T08:10:26.091930Z",
     "start_time": "2024-08-21T08:10:26.087679Z"
    }
   },
   "outputs": [
    {
     "name": "stdout",
     "output_type": "stream",
     "text": [
      "[[3 5 2 4]\n",
      " [7 6 8 8]\n",
      " [1 6 7 7]] \n",
      "\n",
      "[[3 5 2]\n",
      " [7 6 8]] \n",
      "\n",
      "[[3 2]\n",
      " [7 8]\n",
      " [1 7]] \n",
      "\n",
      "[3 7 1]\n",
      "[3 5 2 4]\n"
     ]
    }
   ],
   "source": [
    "print(x2, '\\n')\n",
    "print(x2[:2, :3], '\\n') # 두개의 행 3개의 열\n",
    "print(x2[:3, ::2], '\\n') # 모든 행, 2의 배수 걸러 하나 씩\n",
    "\n",
    "print(x2[:, 0]) # x2의 첫 번째 열\n",
    "print(x2[0, :]) # x2의 첫 번째 행"
   ]
  },
  {
   "cell_type": "markdown",
   "id": "3dbb2e55e65a3dba",
   "metadata": {},
   "source": [
    "<h3> 배열의 사본 만들기"
   ]
  },
  {
   "cell_type": "code",
   "execution_count": 58,
   "id": "9d49be7f2a27ecbd",
   "metadata": {
    "ExecuteTime": {
     "end_time": "2024-08-21T08:12:39.182623Z",
     "start_time": "2024-08-21T08:12:39.178313Z"
    }
   },
   "outputs": [
    {
     "data": {
      "text/plain": [
       "array([[3, 5, 2, 4],\n",
       "       [7, 6, 8, 8],\n",
       "       [1, 6, 7, 7]])"
      ]
     },
     "execution_count": 58,
     "metadata": {},
     "output_type": "execute_result"
    }
   ],
   "source": [
    "x2_sub_copy = x2.copy() # x2_sub_copy를 수정해도 원래 배열이 그대로 유지\n",
    "\n",
    "x2"
   ]
  },
  {
   "cell_type": "markdown",
   "id": "c1411c3afc58bd6",
   "metadata": {},
   "source": [
    "<h1> 배열 재구조화"
   ]
  },
  {
   "cell_type": "code",
   "execution_count": 59,
   "id": "48b634402936a891",
   "metadata": {
    "ExecuteTime": {
     "end_time": "2024-08-21T08:14:22.307067Z",
     "start_time": "2024-08-21T08:14:22.303557Z"
    }
   },
   "outputs": [
    {
     "data": {
      "text/plain": [
       "array([[1, 2, 3],\n",
       "       [4, 5, 6],\n",
       "       [7, 8, 9]])"
      ]
     },
     "execution_count": 59,
     "metadata": {},
     "output_type": "execute_result"
    }
   ],
   "source": [
    "grid = np.arange(1, 10).reshape(3, 3)   # 이 코드가 동작하려면 배열의 규모가 형상이 변경된 배열의 규모와 일치해야한다.\n",
    "grid"
   ]
  },
  {
   "cell_type": "code",
   "execution_count": 63,
   "id": "74868dd994151e3b",
   "metadata": {
    "ExecuteTime": {
     "end_time": "2024-08-21T08:19:30.779157Z",
     "start_time": "2024-08-21T08:19:30.775181Z"
    }
   },
   "outputs": [
    {
     "name": "stdout",
     "output_type": "stream",
     "text": [
      "[[1 2 3 4 5]]\n",
      "[[1 2 3 4 5]] \n",
      "\n",
      "[[1]\n",
      " [2]\n",
      " [3]\n",
      " [4]\n",
      " [5]]\n",
      "[[1]\n",
      " [2]\n",
      " [3]\n",
      " [4]\n",
      " [5]]\n"
     ]
    }
   ],
   "source": [
    "# 두 가지 배열 재구조 방식\n",
    "\n",
    "# reshape을 이용한 행 벡터\n",
    "x = np.array([1, 2, 3, 4, 5])\n",
    "print(x.reshape(1, 5))\n",
    "# newaxis를 이용한 행 벡터\n",
    "print(x[np.newaxis, :], '\\n')\n",
    "\n",
    "# reshape을 이용한 열 벡터\n",
    "x = np.array([1, 2, 3, 4, 5])\n",
    "print(x.reshape(5, 1))\n",
    "\n",
    "# newaxis를 이용한 열 벡터\n",
    "print(x[:, np.newaxis])"
   ]
  },
  {
   "cell_type": "markdown",
   "id": "81f2fc07adf22e13",
   "metadata": {},
   "source": [
    "<h1> 배열 연결 및 분할"
   ]
  },
  {
   "cell_type": "markdown",
   "id": "13c3f2504c3f93a8",
   "metadata": {},
   "source": [
    "<h3> 배열 연결"
   ]
  },
  {
   "cell_type": "code",
   "execution_count": 64,
   "id": "1b17d47c169d6411",
   "metadata": {
    "ExecuteTime": {
     "end_time": "2024-08-21T08:22:25.531356Z",
     "start_time": "2024-08-21T08:22:25.524478Z"
    }
   },
   "outputs": [
    {
     "data": {
      "text/plain": [
       "array([  1,   2,   3,   4,   5, 100, 101, 102, 103, 104])"
      ]
     },
     "execution_count": 64,
     "metadata": {},
     "output_type": "execute_result"
    }
   ],
   "source": [
    "x = np.array([1, 2, 3, 4, 5])\n",
    "y = np.array([100,101,102,103,104])\n",
    "\n",
    "np.concatenate((x, y)) # 2 차원 배열도 가능하다"
   ]
  },
  {
   "cell_type": "code",
   "execution_count": 80,
   "id": "b30cb1d441fae7ee",
   "metadata": {
    "ExecuteTime": {
     "end_time": "2024-08-21T08:28:11.236157Z",
     "start_time": "2024-08-21T08:28:11.233426Z"
    }
   },
   "outputs": [
    {
     "name": "stdout",
     "output_type": "stream",
     "text": [
      "[[1 2 3]\n",
      " [1 2 3]\n",
      " [4 5 6]] \n",
      "\n",
      "[[  1   2   3  99]\n",
      " [  4   5   6 200]]\n"
     ]
    }
   ],
   "source": [
    "x = np.array([1, 2, 3])\n",
    "grid = np.arange(1,7).reshape(2, 3)\n",
    "\n",
    "print(np.vstack([x, grid]), '\\n') # 혼합된 차원의 배열은 np.vstack(수직 스택)이 명확하다.\n",
    "\n",
    "y = np.array([[99], [200]])\n",
    "print(np.hstack([grid, y])) # 혼합된 차원의 배열은 np.hstack(수평 스택)이 명확하다.\n"
   ]
  },
  {
   "metadata": {},
   "cell_type": "code",
   "outputs": [],
   "execution_count": null,
   "source": "",
   "id": "8797fd3f60c833a7"
  },
  {
   "cell_type": "markdown",
   "id": "97974a71434c559c",
   "metadata": {},
   "source": [
    "<h3> 배열 분할"
   ]
  },
  {
   "cell_type": "code",
   "execution_count": 85,
   "id": "d2d4cf67c35adfd4",
   "metadata": {
    "ExecuteTime": {
     "end_time": "2024-08-21T08:31:36.084630Z",
     "start_time": "2024-08-21T08:31:36.081731Z"
    }
   },
   "outputs": [
    {
     "data": {
      "text/plain": [
       "(array([1, 2, 3]), array([99, 99]), array([3, 2, 1]))"
      ]
     },
     "execution_count": 85,
     "metadata": {},
     "output_type": "execute_result"
    }
   ],
   "source": [
    "x = [1, 2, 3, 99, 99, 3, 2, 1]\n",
    "x1, x2, x3 = np.split(x, [3, 5])\n",
    "\n",
    "x1,x2,x3"
   ]
  },
  {
   "cell_type": "code",
   "execution_count": 94,
   "id": "4b28c18f4dba6595",
   "metadata": {
    "ExecuteTime": {
     "end_time": "2024-08-21T08:33:21.145879Z",
     "start_time": "2024-08-21T08:33:21.142680Z"
    }
   },
   "outputs": [
    {
     "name": "stdout",
     "output_type": "stream",
     "text": [
      "[[ 0  1  2  3]\n",
      " [ 4  5  6  7]\n",
      " [ 8  9 10 11]\n",
      " [12 13 14 15]] \n",
      "\n",
      "[[0 1 2 3]\n",
      " [4 5 6 7]] \n",
      "\n",
      "[[ 8  9 10 11]\n",
      " [12 13 14 15]]\n"
     ]
    }
   ],
   "source": [
    "grid = np.arange(16).reshape((4,4))\n",
    "\n",
    "upper, lower = np.vsplit(grid, [2])\n",
    "\n",
    "print(grid,'\\n')\n",
    "print(upper,'\\n')\n",
    "print(lower)"
   ]
  },
  {
   "cell_type": "code",
   "execution_count": 95,
   "id": "ebadce2dad5dbc19",
   "metadata": {
    "ExecuteTime": {
     "end_time": "2024-08-21T08:33:58.731687Z",
     "start_time": "2024-08-21T08:33:58.729140Z"
    }
   },
   "outputs": [
    {
     "name": "stdout",
     "output_type": "stream",
     "text": [
      "[[ 0  1  2  3]\n",
      " [ 4  5  6  7]\n",
      " [ 8  9 10 11]\n",
      " [12 13 14 15]] \n",
      "\n",
      "[[ 0  1]\n",
      " [ 4  5]\n",
      " [ 8  9]\n",
      " [12 13]] \n",
      "\n",
      "[[ 2  3]\n",
      " [ 6  7]\n",
      " [10 11]\n",
      " [14 15]]\n"
     ]
    }
   ],
   "source": [
    "grid = np.arange(16).reshape((4,4))\n",
    "\n",
    "left, right = np.hsplit(grid, [2])\n",
    "\n",
    "print(grid,'\\n')\n",
    "print(left,'\\n')\n",
    "print(right)"
   ]
  }
 ],
 "metadata": {
  "kernelspec": {
   "display_name": "Python 3 (ipykernel)",
   "language": "python",
   "name": "python3"
  },
  "language_info": {
   "codemirror_mode": {
    "name": "ipython",
    "version": 3
   },
   "file_extension": ".py",
   "mimetype": "text/x-python",
   "name": "python",
   "nbconvert_exporter": "python",
   "pygments_lexer": "ipython3",
   "version": "3.12.4"
  }
 },
 "nbformat": 4,
 "nbformat_minor": 5
}
