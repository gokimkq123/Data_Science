{
 "cells": [
  {
   "cell_type": "code",
   "id": "initial_id",
   "metadata": {
    "collapsed": true,
    "ExecuteTime": {
     "end_time": "2024-09-11T05:59:27.636875Z",
     "start_time": "2024-09-11T05:59:26.693800Z"
    }
   },
   "source": [
    "import numpy as np\n",
    "import pandas as pd\n",
    "from numpy.array_api import trunc\n"
   ],
   "outputs": [],
   "execution_count": 3
  },
  {
   "metadata": {},
   "cell_type": "markdown",
   "source": "# Pandas Series 객체",
   "id": "5f688cfe16052351"
  },
  {
   "metadata": {
    "ExecuteTime": {
     "end_time": "2024-09-11T06:01:17.806778Z",
     "start_time": "2024-09-11T06:01:17.797097Z"
    }
   },
   "cell_type": "code",
   "source": [
    "# Series는 인덱싱된 데이터의 1차원 배열이다\n",
    "data = pd.Series([0.25, 0.5, 0.75, 1.0])\n",
    "data"
   ],
   "id": "16ff37ec2b0ae55f",
   "outputs": [
    {
     "data": {
      "text/plain": [
       "0    0.25\n",
       "1    0.50\n",
       "2    0.75\n",
       "3    1.00\n",
       "dtype: float64"
      ]
     },
     "execution_count": 4,
     "metadata": {},
     "output_type": "execute_result"
    }
   ],
   "execution_count": 4
  },
  {
   "metadata": {
    "ExecuteTime": {
     "end_time": "2024-09-11T06:03:00.066943Z",
     "start_time": "2024-09-11T06:03:00.063709Z"
    }
   },
   "cell_type": "code",
   "source": [
    "# values는 NumPy 배열이다.\n",
    "print(data.values)"
   ],
   "id": "e8d4284713279d8d",
   "outputs": [
    {
     "name": "stdout",
     "output_type": "stream",
     "text": [
      "[0.25 0.5  0.75 1.  ]\n"
     ]
    }
   ],
   "execution_count": 5
  },
  {
   "metadata": {},
   "cell_type": "markdown",
   "source": "### Series: 일반화된 NumPy 배열",
   "id": "ddaa3cee2ae6dbab"
  },
  {
   "metadata": {
    "ExecuteTime": {
     "end_time": "2024-09-11T06:06:04.533106Z",
     "start_time": "2024-09-11T06:06:04.528671Z"
    }
   },
   "cell_type": "code",
   "source": [
    "# Series는 인덱스로 문자열을 사용할 수 있다\n",
    "data = pd.Series([0.25, 0.5, 0.75, 1.0], index=['a', 'b', 'c', 'd'])\n",
    "\n",
    "print(data)\n",
    "print(data['a'])\n",
    "\n",
    "# 인접하지 않거나 연속적이지 않은 인덱스를 사용할 수 도 있다\n",
    "data = pd.Series([0.25, 0.5, 0.75, 1.0], index=[2, 5, 7, 9])\n",
    "print(data)\n",
    "print(data[2])"
   ],
   "id": "26266f023139d5d9",
   "outputs": [
    {
     "name": "stdout",
     "output_type": "stream",
     "text": [
      "a    0.25\n",
      "b    0.50\n",
      "c    0.75\n",
      "d    1.00\n",
      "dtype: float64\n",
      "0.25\n",
      "2    0.25\n",
      "5    0.50\n",
      "7    0.75\n",
      "9    1.00\n",
      "dtype: float64\n",
      "0.25\n"
     ]
    }
   ],
   "execution_count": 9
  },
  {
   "metadata": {},
   "cell_type": "markdown",
   "source": "# Pandas DataFrame 객체",
   "id": "a28f73d05cc7ee25"
  },
  {
   "metadata": {},
   "cell_type": "markdown",
   "source": [
    "### DataFrame: 일반화된 NumPy 배열\n",
    "\n",
    "#### Series가 1차원 배열이라면, DataFrame은 2차원 배열이라고 볼 수 있다"
   ],
   "id": "a0d015336ef67ae8"
  },
  {
   "metadata": {
    "ExecuteTime": {
     "end_time": "2024-09-11T06:15:33.770291Z",
     "start_time": "2024-09-11T06:15:33.762957Z"
    }
   },
   "cell_type": "code",
   "source": [
    "F_dict = {'a' : 123, 'b' : 456, 'c' : 789, 'd' : 101112}\n",
    "S_dict = {'a' : 111, 'b' : 222, 'c' : 333, 'd' : 444}\n",
    "\n",
    "F_D = pd.Series(F_dict)\n",
    "S_D = pd.Series(S_dict)\n",
    "\n",
    "Frame = pd.DataFrame({'first' : F_D, 'second' : S_D})\n",
    "\n",
    "print(Frame, '\\n')\n",
    "print(Frame.index)\n",
    "print(Frame.columns , '\\n')\n",
    "print(Frame['first'])"
   ],
   "id": "62e27140d5cd79e6",
   "outputs": [
    {
     "name": "stdout",
     "output_type": "stream",
     "text": [
      "    first  second\n",
      "a     123     111\n",
      "b     456     222\n",
      "c     789     333\n",
      "d  101112     444 \n",
      "\n",
      "Index(['a', 'b', 'c', 'd'], dtype='object')\n",
      "Index(['first', 'second'], dtype='object') \n",
      "\n",
      "a       123\n",
      "b       456\n",
      "c       789\n",
      "d    101112\n",
      "Name: first, dtype: int64\n"
     ]
    }
   ],
   "execution_count": 21
  },
  {
   "metadata": {},
   "cell_type": "markdown",
   "source": "# Pandas Index 객체",
   "id": "6d6025aaaf914c1e"
  },
  {
   "metadata": {},
   "cell_type": "markdown",
   "source": "### 인덱서: loc, iloc",
   "id": "164b0df5f7f203c7"
  },
  {
   "metadata": {
    "ExecuteTime": {
     "end_time": "2024-09-11T06:52:08.303831Z",
     "start_time": "2024-09-11T06:52:08.297178Z"
    }
   },
   "cell_type": "code",
   "source": [
    "data = pd.Series(['a', 'b', 'c'], index=[1, 3, 5])\n",
    "\n",
    "# 인덱싱할 때 명시적인 인덱스 사용\n",
    "print(data[1])\n",
    "\n",
    "# 슬라이싱할 때 암묵적 인덱스 사용\n",
    "print(data[1:3])"
   ],
   "id": "26514cd91a2b4b14",
   "outputs": [
    {
     "name": "stdout",
     "output_type": "stream",
     "text": [
      "a\n",
      "3    b\n",
      "5    c\n",
      "dtype: object\n"
     ]
    }
   ],
   "execution_count": 23
  },
  {
   "metadata": {
    "ExecuteTime": {
     "end_time": "2024-09-11T06:54:43.370839Z",
     "start_time": "2024-09-11T06:54:43.365115Z"
    }
   },
   "cell_type": "code",
   "source": [
    "# loc 속성은 언제나 명시적인 인덱스를 참조하는 인덱싱과 슬라이싱을 가능하게 한다\n",
    "print(data.loc[1])\n",
    "print(data.loc[1:3], '\\n')\n",
    "\n",
    "# iloc 속성은 인덱싱과 슬라이싱에서 언제나 암묵적인 파이썬 스타일의 인덱스를 참조하게 해준다\n",
    "print(data.iloc[1])\n",
    "print(data.iloc[1:3])"
   ],
   "id": "679d58dc86d4b281",
   "outputs": [
    {
     "name": "stdout",
     "output_type": "stream",
     "text": [
      "a\n",
      "1    a\n",
      "3    b\n",
      "dtype: object \n",
      "\n",
      "b\n",
      "3    b\n",
      "5    c\n",
      "dtype: object\n"
     ]
    }
   ],
   "execution_count": 33
  },
  {
   "metadata": {},
   "cell_type": "markdown",
   "source": "# 누락된 데이터 처리하기",
   "id": "25182b23e9642619"
  },
  {
   "metadata": {},
   "cell_type": "markdown",
   "source": "### NaN: 누락된 숫자 데이터",
   "id": "e85cfbce4deb6b43"
  },
  {
   "metadata": {
    "ExecuteTime": {
     "end_time": "2024-09-11T07:26:25.065205Z",
     "start_time": "2024-09-11T07:26:25.061566Z"
    }
   },
   "cell_type": "code",
   "source": [
    "val = np.array([1, np.nan, 3, 4])\n",
    "print(val.dtype, '\\n')\n",
    "\n",
    "# NaN이 포함된 산술 연산의 결과는 NaN이 된다\n",
    "print(1 + np.nan)\n",
    "print(0 * np.nan)\n",
    "print(val.min(), '\\n')\n",
    "\n",
    "# 누락된 값을 무시하는 몇 가지 특별한 집계 연산\n",
    "print(np.nansum(val), np.nanmin(val), '\\n')"
   ],
   "id": "e2432a57fd0ba632",
   "outputs": [
    {
     "name": "stdout",
     "output_type": "stream",
     "text": [
      "float64 \n",
      "\n",
      "nan\n",
      "nan\n",
      "nan \n",
      "\n",
      "8.0 1.0 \n",
      "\n"
     ]
    }
   ],
   "execution_count": 41
  },
  {
   "metadata": {},
   "cell_type": "markdown",
   "source": [
    "### 널 값 연산하기\n",
    "\n",
    "#### isnull() : 누락 값을 가리키는 부울 마스크를 생성\n",
    "#### notnull() : isnull()의 역\n",
    "#### dropna() : 데이터에 필터를 적용한 버전을 반환\n",
    "#### fillna() : 누락 값을 채우거나 전가된 데이터 사본을 반환"
   ],
   "id": "3c8998c702049c"
  },
  {
   "metadata": {
    "ExecuteTime": {
     "end_time": "2024-09-11T07:31:23.352295Z",
     "start_time": "2024-09-11T07:31:23.347384Z"
    }
   },
   "cell_type": "code",
   "source": [
    "data = pd.Series([1, np.nan, 'hello', None])\n",
    "\n",
    "print(data.isnull(), '\\n')\n",
    "print(data[data.notnull()], '\\n')\n",
    "print(data.dropna(), '\\n')"
   ],
   "id": "456c0cc8b4e8920a",
   "outputs": [
    {
     "name": "stdout",
     "output_type": "stream",
     "text": [
      "0    False\n",
      "1     True\n",
      "2    False\n",
      "3     True\n",
      "dtype: bool \n",
      "\n",
      "0        1\n",
      "2    hello\n",
      "dtype: object \n",
      "\n",
      "0        1\n",
      "2    hello\n",
      "dtype: object\n"
     ]
    }
   ],
   "execution_count": 44
  },
  {
   "metadata": {
    "ExecuteTime": {
     "end_time": "2024-09-11T07:37:40.887571Z",
     "start_time": "2024-09-11T07:37:40.877428Z"
    }
   },
   "cell_type": "code",
   "source": [
    "df = pd.DataFrame([[1, np.nan, 2],\n",
    "                   [2, 3, 5],\n",
    "                   [np.nan, 4, 6]])\n",
    "\n",
    "# DataFrame에서는 단일 값만 삭제할 수 없다\n",
    "print(df.dropna(), '\\n')\n",
    "print(df.dropna(axis='columns'))\n",
    "\n",
    "\n",
    "# how = 'all'을 통해 모두 널 값인 행이나 열만 삭제할 수 있다\n",
    "df[3] = np.nan\n",
    "\n",
    "print(df)\n",
    "print(df.dropna(axis='columns', how='all'))\n",
    "\n",
    "\n",
    "# 조금 더 세부적으로 제어하기 위해 thresh 매개변수를 통해 행이나 열에서 널이 아닌 값이 최소 몇 개가 있어야하는지 지정할 수 있다\n",
    "print(df.dropna(axis='rows', thresh=3))"
   ],
   "id": "75e75fc9ff5b63e",
   "outputs": [
    {
     "name": "stdout",
     "output_type": "stream",
     "text": [
      "     0    1  2\n",
      "1  2.0  3.0  5 \n",
      "\n",
      "   2\n",
      "0  2\n",
      "1  5\n",
      "2  6\n",
      "     0    1  2   3\n",
      "0  1.0  NaN  2 NaN\n",
      "1  2.0  3.0  5 NaN\n",
      "2  NaN  4.0  6 NaN\n",
      "     0    1  2\n",
      "0  1.0  NaN  2\n",
      "1  2.0  3.0  5\n",
      "2  NaN  4.0  6\n",
      "     0    1  2   3\n",
      "1  2.0  3.0  5 NaN\n"
     ]
    }
   ],
   "execution_count": 53
  },
  {
   "metadata": {},
   "cell_type": "markdown",
   "source": "### 널 값 채우기",
   "id": "f31b7b3aa5b701f2"
  },
  {
   "metadata": {
    "ExecuteTime": {
     "end_time": "2024-09-11T07:58:25.596080Z",
     "start_time": "2024-09-11T07:58:25.587267Z"
    }
   },
   "cell_type": "code",
   "source": [
    "data = pd.Series([1, np.nan, 2, None, 3], index=list('abcde'))\n",
    "\n",
    "print(data, '\\n')\n",
    "print(data.fillna(0), '\\n')\n",
    "\n",
    "# 이전 값으로 채우기\n",
    "print(data.fillna(method='ffill'), '\\n')\n",
    "\n",
    "# 다음에 오는 값으로 채우기\n",
    "print(data.fillna(method='bfill'), '\\n')\n"
   ],
   "id": "39212d066d888dcd",
   "outputs": [
    {
     "name": "stdout",
     "output_type": "stream",
     "text": [
      "a    1.0\n",
      "b    NaN\n",
      "c    2.0\n",
      "d    NaN\n",
      "e    3.0\n",
      "dtype: float64 \n",
      "\n",
      "a    1.0\n",
      "b    0.0\n",
      "c    2.0\n",
      "d    0.0\n",
      "e    3.0\n",
      "dtype: float64 \n",
      "\n",
      "a    1.0\n",
      "b    1.0\n",
      "c    2.0\n",
      "d    2.0\n",
      "e    3.0\n",
      "dtype: float64 \n",
      "\n",
      "a    1.0\n",
      "b    2.0\n",
      "c    2.0\n",
      "d    3.0\n",
      "e    3.0\n",
      "dtype: float64 \n",
      "\n"
     ]
    },
    {
     "name": "stderr",
     "output_type": "stream",
     "text": [
      "/var/folders/gt/tz5c2kn54nb9jgb_djd6v8x00000gn/T/ipykernel_37613/2464473949.py:7: FutureWarning: Series.fillna with 'method' is deprecated and will raise in a future version. Use obj.ffill() or obj.bfill() instead.\n",
      "  print(data.fillna(method='ffill'), '\\n')\n",
      "/var/folders/gt/tz5c2kn54nb9jgb_djd6v8x00000gn/T/ipykernel_37613/2464473949.py:10: FutureWarning: Series.fillna with 'method' is deprecated and will raise in a future version. Use obj.ffill() or obj.bfill() instead.\n",
      "  print(data.fillna(method='bfill'), '\\n')\n"
     ]
    }
   ],
   "execution_count": 64
  },
  {
   "metadata": {},
   "cell_type": "markdown",
   "source": "# 데이터세트 결합: Concat, Append",
   "id": "ddcf147fa512b08b"
  },
  {
   "metadata": {
    "ExecuteTime": {
     "end_time": "2024-09-11T08:48:03.958096Z",
     "start_time": "2024-09-11T08:48:03.953381Z"
    }
   },
   "cell_type": "code",
   "source": [
    "# DataFrame 생성 함수\n",
    "def make_df(cols, ind):\n",
    "    data = {c : [str(c) + str(i) for i in ind]\n",
    "                for c in cols}\n",
    "    return pd.DataFrame(data, ind)\n",
    "\n",
    "make_df('ABC', range(3))\n"
   ],
   "id": "6780ce749ddf5478",
   "outputs": [
    {
     "data": {
      "text/plain": [
       "    A   B   C\n",
       "0  A0  B0  C0\n",
       "1  A1  B1  C1\n",
       "2  A2  B2  C2"
      ],
      "text/html": [
       "<div>\n",
       "<style scoped>\n",
       "    .dataframe tbody tr th:only-of-type {\n",
       "        vertical-align: middle;\n",
       "    }\n",
       "\n",
       "    .dataframe tbody tr th {\n",
       "        vertical-align: top;\n",
       "    }\n",
       "\n",
       "    .dataframe thead th {\n",
       "        text-align: right;\n",
       "    }\n",
       "</style>\n",
       "<table border=\"1\" class=\"dataframe\">\n",
       "  <thead>\n",
       "    <tr style=\"text-align: right;\">\n",
       "      <th></th>\n",
       "      <th>A</th>\n",
       "      <th>B</th>\n",
       "      <th>C</th>\n",
       "    </tr>\n",
       "  </thead>\n",
       "  <tbody>\n",
       "    <tr>\n",
       "      <th>0</th>\n",
       "      <td>A0</td>\n",
       "      <td>B0</td>\n",
       "      <td>C0</td>\n",
       "    </tr>\n",
       "    <tr>\n",
       "      <th>1</th>\n",
       "      <td>A1</td>\n",
       "      <td>B1</td>\n",
       "      <td>C1</td>\n",
       "    </tr>\n",
       "    <tr>\n",
       "      <th>2</th>\n",
       "      <td>A2</td>\n",
       "      <td>B2</td>\n",
       "      <td>C2</td>\n",
       "    </tr>\n",
       "  </tbody>\n",
       "</table>\n",
       "</div>"
      ]
     },
     "execution_count": 70,
     "metadata": {},
     "output_type": "execute_result"
    }
   ],
   "execution_count": 70
  },
  {
   "metadata": {},
   "cell_type": "markdown",
   "source": "### pd.concat을 이용한 간단한 연결  ",
   "id": "eb52e88f8d1558d3"
  },
  {
   "metadata": {
    "ExecuteTime": {
     "end_time": "2024-09-11T08:52:01.758517Z",
     "start_time": "2024-09-11T08:52:01.750264Z"
    }
   },
   "cell_type": "code",
   "source": [
    "ser1 = pd.Series(['A', 'B', 'C'], index=[1, 2, 3])\n",
    "ser2 = pd.Series(['D', 'E', 'F'], index=[4, 5, 6])\n",
    "\n",
    "print(pd.concat([ser1, ser2]), '\\n')\n",
    "\n",
    "df1 = make_df('AB', [1, 2])\n",
    "df2 = make_df('AB', [3, 4])\n",
    "\n",
    "# 기본적으로 연결은 행 단위(즉, axis = 0)로 일어난다\n",
    "print(pd.concat([df1, df2]), '\\n')"
   ],
   "id": "1f7d8c886f0c88c1",
   "outputs": [
    {
     "name": "stdout",
     "output_type": "stream",
     "text": [
      "1    A\n",
      "2    B\n",
      "3    C\n",
      "4    D\n",
      "5    E\n",
      "6    F\n",
      "dtype: object \n",
      "\n",
      "    A   B\n",
      "1  A1  B1\n",
      "2  A2  B2\n",
      "3  A3  B3\n",
      "4  A4  B4 \n",
      "\n"
     ]
    }
   ],
   "execution_count": 73
  },
  {
   "metadata": {},
   "cell_type": "markdown",
   "source": "### 인덱스 복제",
   "id": "fd1b40e5d84a084a"
  },
  {
   "metadata": {
    "ExecuteTime": {
     "end_time": "2024-09-11T09:12:58.367848Z",
     "start_time": "2024-09-11T09:12:58.353143Z"
    }
   },
   "cell_type": "code",
   "source": [
    "# Pandas는 복제된 인덱스를 가지더라도 인덱스를 유지한다\n",
    "x = make_df('AB', [0, 1])\n",
    "y = make_df('AB', [2, 3])\n",
    "y.index = x.index\n",
    "\n",
    "print(x)\n",
    "print(y)\n",
    "print(pd.concat([x, y]))"
   ],
   "id": "dbaf5c1a691915e0",
   "outputs": [
    {
     "name": "stdout",
     "output_type": "stream",
     "text": [
      "    A   B\n",
      "0  A0  B0\n",
      "1  A1  B1\n",
      "    A   B\n",
      "0  A2  B2\n",
      "1  A3  B3\n",
      "    A   B\n",
      "0  A0  B0\n",
      "1  A1  B1\n",
      "0  A2  B2\n",
      "1  A3  B3\n",
      "ValueError: Indexes have overlapping values: Index([0, 1], dtype='int64')\n"
     ]
    }
   ],
   "execution_count": 81
  },
  {
   "metadata": {
    "ExecuteTime": {
     "end_time": "2024-09-11T09:13:10.469137Z",
     "start_time": "2024-09-11T09:13:10.464989Z"
    }
   },
   "cell_type": "code",
   "source": [
    "# 인덱스 반복을 에러로 잡는다\n",
    "try:\n",
    "    # verify_integrity는 중복 인덱스가 있을 때 예외가 발생한다. \n",
    "    pd.concat([x, y], verify_integrity=True)\n",
    "\n",
    "except ValueError as e:\n",
    "    print(\"ValueError:\", e)"
   ],
   "id": "93ad0ddaf0aa6d33",
   "outputs": [
    {
     "name": "stdout",
     "output_type": "stream",
     "text": [
      "ValueError: Indexes have overlapping values: Index([0, 1], dtype='int64')\n"
     ]
    }
   ],
   "execution_count": 82
  },
  {
   "metadata": {
    "ExecuteTime": {
     "end_time": "2024-09-11T09:14:08.915839Z",
     "start_time": "2024-09-11T09:14:08.906421Z"
    }
   },
   "cell_type": "code",
   "source": [
    "# 인덱스를 무시\n",
    "pd.concat([x, y], ignore_index=True)"
   ],
   "id": "c66cea367d6fa2a6",
   "outputs": [
    {
     "data": {
      "text/plain": [
       "    A   B\n",
       "0  A0  B0\n",
       "1  A1  B1\n",
       "2  A2  B2\n",
       "3  A3  B3"
      ],
      "text/html": [
       "<div>\n",
       "<style scoped>\n",
       "    .dataframe tbody tr th:only-of-type {\n",
       "        vertical-align: middle;\n",
       "    }\n",
       "\n",
       "    .dataframe tbody tr th {\n",
       "        vertical-align: top;\n",
       "    }\n",
       "\n",
       "    .dataframe thead th {\n",
       "        text-align: right;\n",
       "    }\n",
       "</style>\n",
       "<table border=\"1\" class=\"dataframe\">\n",
       "  <thead>\n",
       "    <tr style=\"text-align: right;\">\n",
       "      <th></th>\n",
       "      <th>A</th>\n",
       "      <th>B</th>\n",
       "    </tr>\n",
       "  </thead>\n",
       "  <tbody>\n",
       "    <tr>\n",
       "      <th>0</th>\n",
       "      <td>A0</td>\n",
       "      <td>B0</td>\n",
       "    </tr>\n",
       "    <tr>\n",
       "      <th>1</th>\n",
       "      <td>A1</td>\n",
       "      <td>B1</td>\n",
       "    </tr>\n",
       "    <tr>\n",
       "      <th>2</th>\n",
       "      <td>A2</td>\n",
       "      <td>B2</td>\n",
       "    </tr>\n",
       "    <tr>\n",
       "      <th>3</th>\n",
       "      <td>A3</td>\n",
       "      <td>B3</td>\n",
       "    </tr>\n",
       "  </tbody>\n",
       "</table>\n",
       "</div>"
      ]
     },
     "execution_count": 83,
     "metadata": {},
     "output_type": "execute_result"
    }
   ],
   "execution_count": 83
  },
  {
   "metadata": {
    "ExecuteTime": {
     "end_time": "2024-09-11T09:14:59.388309Z",
     "start_time": "2024-09-11T09:14:59.381229Z"
    }
   },
   "cell_type": "code",
   "source": [
    "# 다중 인덱스 키 추가\n",
    "pd.concat([x, y], keys=['x', 'y'])"
   ],
   "id": "ed7e9d08cb7d43d3",
   "outputs": [
    {
     "data": {
      "text/plain": [
       "      A   B\n",
       "x 0  A0  B0\n",
       "  1  A1  B1\n",
       "y 0  A2  B2\n",
       "  1  A3  B3"
      ],
      "text/html": [
       "<div>\n",
       "<style scoped>\n",
       "    .dataframe tbody tr th:only-of-type {\n",
       "        vertical-align: middle;\n",
       "    }\n",
       "\n",
       "    .dataframe tbody tr th {\n",
       "        vertical-align: top;\n",
       "    }\n",
       "\n",
       "    .dataframe thead th {\n",
       "        text-align: right;\n",
       "    }\n",
       "</style>\n",
       "<table border=\"1\" class=\"dataframe\">\n",
       "  <thead>\n",
       "    <tr style=\"text-align: right;\">\n",
       "      <th></th>\n",
       "      <th></th>\n",
       "      <th>A</th>\n",
       "      <th>B</th>\n",
       "    </tr>\n",
       "  </thead>\n",
       "  <tbody>\n",
       "    <tr>\n",
       "      <th rowspan=\"2\" valign=\"top\">x</th>\n",
       "      <th>0</th>\n",
       "      <td>A0</td>\n",
       "      <td>B0</td>\n",
       "    </tr>\n",
       "    <tr>\n",
       "      <th>1</th>\n",
       "      <td>A1</td>\n",
       "      <td>B1</td>\n",
       "    </tr>\n",
       "    <tr>\n",
       "      <th rowspan=\"2\" valign=\"top\">y</th>\n",
       "      <th>0</th>\n",
       "      <td>A2</td>\n",
       "      <td>B2</td>\n",
       "    </tr>\n",
       "    <tr>\n",
       "      <th>1</th>\n",
       "      <td>A3</td>\n",
       "      <td>B3</td>\n",
       "    </tr>\n",
       "  </tbody>\n",
       "</table>\n",
       "</div>"
      ]
     },
     "execution_count": 84,
     "metadata": {},
     "output_type": "execute_result"
    }
   ],
   "execution_count": 84
  },
  {
   "metadata": {},
   "cell_type": "markdown",
   "source": "### 조인을 이용한 연결",
   "id": "423b09d061a85b6a"
  },
  {
   "metadata": {
    "ExecuteTime": {
     "end_time": "2024-09-11T09:22:29.249039Z",
     "start_time": "2024-09-11T09:22:29.237076Z"
    }
   },
   "cell_type": "code",
   "source": [
    "df5 = make_df('ABC', [1, 2])\n",
    "df6 = make_df('BCD', [3, 4])\n",
    "\n",
    "print(df5)\n",
    "print(df6)\n",
    "print(pd.concat([df5, df6]), '\\n')\n",
    "\n",
    "# 기본적으로 조인은 입력 열의 합집합(join = 'outer')이지만, join = 'inner'를 사용해 이를 열의 교집합으로 바꿀 수 있다.\n",
    "print(pd.concat([df5, df6], join='inner'), '\\n')\n",
    "\n",
    "# 또는 join_axes 인수를 사용해 남은 열의 인덱스를 직접 지정하는 것이다.\n",
    "# join_axes는 이제 사용하지 않으므로 reindex를 사용한다\n",
    "print(pd.concat([df5, df6]).reindex(df5.columns), '\\n')"
   ],
   "id": "f4087d691f18e009",
   "outputs": [
    {
     "name": "stdout",
     "output_type": "stream",
     "text": [
      "    A   B   C\n",
      "1  A1  B1  C1\n",
      "2  A2  B2  C2\n",
      "    B   C   D\n",
      "3  B3  C3  D3\n",
      "4  B4  C4  D4\n",
      "     A   B   C    D\n",
      "1   A1  B1  C1  NaN\n",
      "2   A2  B2  C2  NaN\n",
      "3  NaN  B3  C3   D3\n",
      "4  NaN  B4  C4   D4 \n",
      "\n",
      "    B   C\n",
      "1  B1  C1\n",
      "2  B2  C2\n",
      "3  B3  C3\n",
      "4  B4  C4 \n",
      "\n",
      "     A    B    C    D\n",
      "A  NaN  NaN  NaN  NaN\n",
      "B  NaN  NaN  NaN  NaN\n",
      "C  NaN  NaN  NaN  NaN \n",
      "\n"
     ]
    }
   ],
   "execution_count": 93
  },
  {
   "metadata": {},
   "cell_type": "code",
   "outputs": [],
   "execution_count": null,
   "source": "",
   "id": "d0f590e019e72138"
  }
 ],
 "metadata": {
  "kernelspec": {
   "display_name": "Python 3",
   "language": "python",
   "name": "python3"
  },
  "language_info": {
   "codemirror_mode": {
    "name": "ipython",
    "version": 2
   },
   "file_extension": ".py",
   "mimetype": "text/x-python",
   "name": "python",
   "nbconvert_exporter": "python",
   "pygments_lexer": "ipython2",
   "version": "2.7.6"
  }
 },
 "nbformat": 4,
 "nbformat_minor": 5
}
