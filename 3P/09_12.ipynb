{
 "cells": [
  {
   "cell_type": "code",
   "execution_count": 2,
   "id": "initial_id",
   "metadata": {
    "ExecuteTime": {
     "end_time": "2024-09-12T06:57:15.758561Z",
     "start_time": "2024-09-12T06:57:15.755838Z"
    },
    "collapsed": true,
    "jupyter": {
     "outputs_hidden": true
    }
   },
   "outputs": [],
   "source": [
    "import pandas as pd\n",
    "import numpy as np\n",
    "from bokeh.colors.named import greenyellow"
   ]
  },
  {
   "cell_type": "markdown",
   "id": "833cc7bed121fd48",
   "metadata": {},
   "source": [
    "# 데이터세트 결합하기: 병합과 조인"
   ]
  },
  {
   "cell_type": "code",
   "execution_count": 11,
   "id": "ab9dc17aea541387",
   "metadata": {
    "ExecuteTime": {
     "end_time": "2024-09-12T07:04:57.903604Z",
     "start_time": "2024-09-12T07:04:57.894814Z"
    }
   },
   "outputs": [
    {
     "name": "stdout",
     "output_type": "stream",
     "text": [
      "  name      group\n",
      "0  kim  badminton\n",
      "1  han         us\n",
      "2  min         us\n",
      "  name height\n",
      "0  kim    192\n",
      "1  han    176\n",
      "2  min    160 \n",
      "\n"
     ]
    },
    {
     "data": {
      "text/html": [
       "<div>\n",
       "<style scoped>\n",
       "    .dataframe tbody tr th:only-of-type {\n",
       "        vertical-align: middle;\n",
       "    }\n",
       "\n",
       "    .dataframe tbody tr th {\n",
       "        vertical-align: top;\n",
       "    }\n",
       "\n",
       "    .dataframe thead th {\n",
       "        text-align: right;\n",
       "    }\n",
       "</style>\n",
       "<table border=\"1\" class=\"dataframe\">\n",
       "  <thead>\n",
       "    <tr style=\"text-align: right;\">\n",
       "      <th></th>\n",
       "      <th>name</th>\n",
       "      <th>group</th>\n",
       "      <th>height</th>\n",
       "    </tr>\n",
       "  </thead>\n",
       "  <tbody>\n",
       "    <tr>\n",
       "      <th>0</th>\n",
       "      <td>kim</td>\n",
       "      <td>badminton</td>\n",
       "      <td>192</td>\n",
       "    </tr>\n",
       "    <tr>\n",
       "      <th>1</th>\n",
       "      <td>han</td>\n",
       "      <td>us</td>\n",
       "      <td>176</td>\n",
       "    </tr>\n",
       "    <tr>\n",
       "      <th>2</th>\n",
       "      <td>min</td>\n",
       "      <td>us</td>\n",
       "      <td>160</td>\n",
       "    </tr>\n",
       "  </tbody>\n",
       "</table>\n",
       "</div>"
      ],
      "text/plain": [
       "  name      group height\n",
       "0  kim  badminton    192\n",
       "1  han         us    176\n",
       "2  min         us    160"
      ]
     },
     "execution_count": 11,
     "metadata": {},
     "output_type": "execute_result"
    }
   ],
   "source": [
    "df1 = pd.DataFrame({'name' : ['kim', 'han', 'min'],\n",
    "                    'group' : ['badminton', 'us', 'us']\n",
    "                    })\n",
    "df2 = pd.DataFrame({'name' : ['kim', 'han', 'min'],\n",
    "                    'height' : ['192', '176', '160']\n",
    "                    })\n",
    "\n",
    "print(df1);print(df2, '\\n')\n",
    "\n",
    "df3 = pd.merge(df1, df2)\n",
    "df3"
   ]
  },
  {
   "cell_type": "code",
   "execution_count": 13,
   "id": "3a33f88da4d4be7",
   "metadata": {
    "ExecuteTime": {
     "end_time": "2024-09-12T07:05:54.239901Z",
     "start_time": "2024-09-12T07:05:54.230837Z"
    }
   },
   "outputs": [
    {
     "name": "stdout",
     "output_type": "stream",
     "text": [
      "  name      group height\n",
      "0  kim  badminton    192\n",
      "1  han         us    176\n",
      "2  min         us    160\n",
      "       group age\n",
      "0  badminton  20\n",
      "1         us  21 \n",
      "\n"
     ]
    },
    {
     "data": {
      "text/html": [
       "<div>\n",
       "<style scoped>\n",
       "    .dataframe tbody tr th:only-of-type {\n",
       "        vertical-align: middle;\n",
       "    }\n",
       "\n",
       "    .dataframe tbody tr th {\n",
       "        vertical-align: top;\n",
       "    }\n",
       "\n",
       "    .dataframe thead th {\n",
       "        text-align: right;\n",
       "    }\n",
       "</style>\n",
       "<table border=\"1\" class=\"dataframe\">\n",
       "  <thead>\n",
       "    <tr style=\"text-align: right;\">\n",
       "      <th></th>\n",
       "      <th>name</th>\n",
       "      <th>group</th>\n",
       "      <th>height</th>\n",
       "      <th>age</th>\n",
       "    </tr>\n",
       "  </thead>\n",
       "  <tbody>\n",
       "    <tr>\n",
       "      <th>0</th>\n",
       "      <td>kim</td>\n",
       "      <td>badminton</td>\n",
       "      <td>192</td>\n",
       "      <td>20</td>\n",
       "    </tr>\n",
       "    <tr>\n",
       "      <th>1</th>\n",
       "      <td>han</td>\n",
       "      <td>us</td>\n",
       "      <td>176</td>\n",
       "      <td>21</td>\n",
       "    </tr>\n",
       "    <tr>\n",
       "      <th>2</th>\n",
       "      <td>min</td>\n",
       "      <td>us</td>\n",
       "      <td>160</td>\n",
       "      <td>21</td>\n",
       "    </tr>\n",
       "  </tbody>\n",
       "</table>\n",
       "</div>"
      ],
      "text/plain": [
       "  name      group height age\n",
       "0  kim  badminton    192  20\n",
       "1  han         us    176  21\n",
       "2  min         us    160  21"
      ]
     },
     "execution_count": 13,
     "metadata": {},
     "output_type": "execute_result"
    }
   ],
   "source": [
    "# 다대일 조인\n",
    "df4 = pd.DataFrame({'group' : ['badminton', 'us'],\n",
    "                    'age' : ['20', '21']\n",
    "                    })\n",
    "\n",
    "print(df3);print(df4, '\\n')\n",
    "# age열이 입력값에 따라 하나 이상의 위치에 반복해서 등장한다\n",
    "pd.merge(df3, df4)"
   ]
  },
  {
   "cell_type": "markdown",
   "id": "33335901af87d9e8",
   "metadata": {},
   "source": [
    "### 병합 키 지정"
   ]
  },
  {
   "cell_type": "code",
   "execution_count": 15,
   "id": "5ca52342abb37cbb",
   "metadata": {
    "ExecuteTime": {
     "end_time": "2024-09-12T07:09:01.121113Z",
     "start_time": "2024-09-12T07:09:01.114716Z"
    }
   },
   "outputs": [
    {
     "name": "stdout",
     "output_type": "stream",
     "text": [
      "  name      group\n",
      "0  kim  badminton\n",
      "1  han         us\n",
      "2  min         us\n",
      "  name height\n",
      "0  kim    192\n",
      "1  han    176\n",
      "2  min    160 \n",
      "\n",
      "  name      group height\n",
      "0  kim  badminton    192\n",
      "1  han         us    176\n",
      "2  min         us    160\n"
     ]
    }
   ],
   "source": [
    "# 열 이름이나 열 이름의 리스트를 취하는 on 키워드를 사용해 키 열의 이름을 명시적으로 지정한다\n",
    "print(df1);print(df2,'\\n')\n",
    "\n",
    "print(pd.merge(df1, df2, on='name'))"
   ]
  },
  {
   "cell_type": "code",
   "execution_count": 32,
   "id": "16ed36e7b6e3418b",
   "metadata": {
    "ExecuteTime": {
     "end_time": "2024-09-12T07:22:16.823702Z",
     "start_time": "2024-09-12T07:22:16.814102Z"
    }
   },
   "outputs": [
    {
     "name": "stdout",
     "output_type": "stream",
     "text": [
      "  name      group\n",
      "0  kim  badminton\n",
      "1  han         us\n",
      "2  min         us\n",
      "  employee  price\n",
      "0      kim   2000\n",
      "1      han   3000\n",
      "2      min   4000 \n",
      "\n"
     ]
    },
    {
     "data": {
      "text/html": [
       "<div>\n",
       "<style scoped>\n",
       "    .dataframe tbody tr th:only-of-type {\n",
       "        vertical-align: middle;\n",
       "    }\n",
       "\n",
       "    .dataframe tbody tr th {\n",
       "        vertical-align: top;\n",
       "    }\n",
       "\n",
       "    .dataframe thead th {\n",
       "        text-align: right;\n",
       "    }\n",
       "</style>\n",
       "<table border=\"1\" class=\"dataframe\">\n",
       "  <thead>\n",
       "    <tr style=\"text-align: right;\">\n",
       "      <th></th>\n",
       "      <th>name</th>\n",
       "      <th>group</th>\n",
       "      <th>employee</th>\n",
       "      <th>price</th>\n",
       "    </tr>\n",
       "  </thead>\n",
       "  <tbody>\n",
       "    <tr>\n",
       "      <th>0</th>\n",
       "      <td>kim</td>\n",
       "      <td>badminton</td>\n",
       "      <td>kim</td>\n",
       "      <td>2000</td>\n",
       "    </tr>\n",
       "    <tr>\n",
       "      <th>1</th>\n",
       "      <td>han</td>\n",
       "      <td>us</td>\n",
       "      <td>han</td>\n",
       "      <td>3000</td>\n",
       "    </tr>\n",
       "    <tr>\n",
       "      <th>2</th>\n",
       "      <td>min</td>\n",
       "      <td>us</td>\n",
       "      <td>min</td>\n",
       "      <td>4000</td>\n",
       "    </tr>\n",
       "  </tbody>\n",
       "</table>\n",
       "</div>"
      ],
      "text/plain": [
       "  name      group employee  price\n",
       "0  kim  badminton      kim   2000\n",
       "1  han         us      han   3000\n",
       "2  min         us      min   4000"
      ]
     },
     "execution_count": 32,
     "metadata": {},
     "output_type": "execute_result"
    }
   ],
   "source": [
    "# 다른 열 이름을 가진 두 데이터세트를 병합할때\n",
    "# 열 이름은 다르지만 안에 내용은 같아야함.\n",
    "df3 = pd.DataFrame({'employee' : ['kim', 'han', 'min'],\n",
    "                    'price' : [2000,3000,4000]\n",
    "                    })\n",
    "\n",
    "print(df1);print(df3,'\\n')\n",
    "\n",
    "pd.merge(df1, df3, left_on=\"name\", right_on=\"employee\")"
   ]
  },
  {
   "cell_type": "markdown",
   "id": "fc5e8172f0d71a0b",
   "metadata": {},
   "source": [
    "### 조인을 위한 집한 연산 지정하기"
   ]
  },
  {
   "cell_type": "code",
   "execution_count": 39,
   "id": "8033378b8407e283",
   "metadata": {
    "ExecuteTime": {
     "end_time": "2024-09-12T07:29:05.664916Z",
     "start_time": "2024-09-12T07:29:05.658886Z"
    }
   },
   "outputs": [
    {
     "name": "stdout",
     "output_type": "stream",
     "text": [
      "    name   food\n",
      "0  Peter   fish\n",
      "1   Paul  beans\n",
      "2   Mary  bread\n",
      "     name drink\n",
      "0    Mary  wine\n",
      "1  Joseph  beer \n",
      "\n"
     ]
    }
   ],
   "source": [
    "df6 = pd.DataFrame({'name': ['Peter', 'Paul', 'Mary'],\n",
    "                    'food': ['fish', 'beans', 'bread']},\n",
    "                   columns=['name', 'food'])\n",
    "df7 = pd.DataFrame({'name': ['Mary', 'Joseph'],\n",
    "                    'drink': ['wine', 'beer']},\n",
    "                   columns=['name', 'drink'])\n",
    "print(df6);print(df7,'\\n')"
   ]
  },
  {
   "cell_type": "markdown",
   "id": "5896a2f4bdd86704",
   "metadata": {},
   "source": [
    "#### 기본적으로 결과에는 교집합이 들어가는데, 이것이 inner join(내부 조인)이다\n",
    "#### outer join(외부 조인)은 합집합으로 반환하고 누락된 값은 NA로 채운다\n",
    "#### left join, right join은 각각 왼쪽, 오른쪽 기준으로 조인한다."
   ]
  },
  {
   "cell_type": "code",
   "execution_count": 40,
   "id": "a6586fce4ba44800",
   "metadata": {
    "ExecuteTime": {
     "end_time": "2024-09-12T07:30:31.396025Z",
     "start_time": "2024-09-12T07:30:31.379194Z"
    }
   },
   "outputs": [
    {
     "name": "stdout",
     "output_type": "stream",
     "text": [
      "   name   food drink\n",
      "0  Mary  bread  wine \n",
      "\n",
      "     name   food drink\n",
      "0  Joseph    NaN  beer\n",
      "1    Mary  bread  wine\n",
      "2    Paul  beans   NaN\n",
      "3   Peter   fish   NaN \n",
      "\n",
      "    name   food drink\n",
      "0  Peter   fish   NaN\n",
      "1   Paul  beans   NaN\n",
      "2   Mary  bread  wine \n",
      "\n"
     ]
    }
   ],
   "source": [
    "print(pd.merge(df6, df7), '\\n')\n",
    "\n",
    "# how 키워드를 사용해 명시적으로 지정할 수 있다\n",
    "print(pd.merge(df6, df7, how='outer'), '\\n')\n",
    "\n",
    "print(pd.merge(df6, df7, how='left'), '\\n')\n",
    "\n"
   ]
  },
  {
   "cell_type": "markdown",
   "id": "f8f1db38b5610fd",
   "metadata": {},
   "source": [
    "### 열 이름이 겹치는 경우: suffixes 키워드"
   ]
  },
  {
   "cell_type": "code",
   "execution_count": 46,
   "id": "ec1b60ee60a83a27",
   "metadata": {
    "ExecuteTime": {
     "end_time": "2024-09-12T07:33:13.291465Z",
     "start_time": "2024-09-12T07:33:13.280056Z"
    }
   },
   "outputs": [
    {
     "name": "stdout",
     "output_type": "stream",
     "text": [
      "   name  rank\n",
      "0   Bob     1\n",
      "1  Jake     2\n",
      "2  Lisa     3\n",
      "3   Sue     4\n",
      "   name  rank\n",
      "0   Bob     3\n",
      "1  Jake     1\n",
      "2  Lisa     4\n",
      "3   Sue     2 \n",
      "\n",
      "   name  rank_x  rank_y\n",
      "0   Bob       1       3\n",
      "1  Jake       2       1\n",
      "2  Lisa       3       4\n",
      "3   Sue       4       2 \n",
      "\n",
      "   name  rank_one  rank_two\n",
      "0   Bob         1         3\n",
      "1  Jake         2         1\n",
      "2  Lisa         3         4\n",
      "3   Sue         4         2 \n",
      "\n"
     ]
    }
   ],
   "source": [
    "df8 = pd.DataFrame({'name': ['Bob', 'Jake', 'Lisa', 'Sue'],\n",
    "                    'rank': [1, 2, 3, 4]})\n",
    "df9 = pd.DataFrame({'name': ['Bob', 'Jake', 'Lisa', 'Sue'],\n",
    "                    'rank': [3, 1, 4, 2]})\n",
    "print(df8);print(df9,'\\n')\n",
    "\n",
    "print(pd.merge(df8, df9, on='name'), '\\n')\n",
    "\n",
    "# suffixes 키워드를 사용해 접미사를 별도로 지정할 수 있다\n",
    "print(pd.merge(df8, df9, on='name', suffixes=[\"_one\", \"_two\"]), '\\n')"
   ]
  },
  {
   "cell_type": "markdown",
   "id": "b4ddbdf09d9a9abf",
   "metadata": {},
   "source": [
    "# 집계와 분류"
   ]
  },
  {
   "cell_type": "markdown",
   "id": "376d872b3bc2f6ec",
   "metadata": {},
   "source": [
    "### 행성 데이터"
   ]
  },
  {
   "cell_type": "code",
   "execution_count": 47,
   "id": "9d2bd06464348b6c",
   "metadata": {
    "ExecuteTime": {
     "end_time": "2024-09-12T07:42:32.565418Z",
     "start_time": "2024-09-12T07:42:31.262124Z"
    }
   },
   "outputs": [],
   "source": [
    "import seaborn as sns"
   ]
  },
  {
   "cell_type": "code",
   "execution_count": 51,
   "id": "5efadb2f45f4f80e",
   "metadata": {
    "ExecuteTime": {
     "end_time": "2024-09-12T07:43:25.980498Z",
     "start_time": "2024-09-12T07:43:25.971472Z"
    }
   },
   "outputs": [
    {
     "name": "stdout",
     "output_type": "stream",
     "text": [
      "(1035, 6) \n",
      "\n",
      "            method  number  orbital_period   mass  distance  year\n",
      "0  Radial Velocity       1         269.300   7.10     77.40  2006\n",
      "1  Radial Velocity       1         874.774   2.21     56.95  2008\n",
      "2  Radial Velocity       1         763.000   2.60     19.84  2011\n",
      "3  Radial Velocity       1         326.030  19.40    110.62  2007\n",
      "4  Radial Velocity       1         516.220  10.50    119.47  2009\n"
     ]
    }
   ],
   "source": [
    "planets = sns.load_dataset('planets')\n",
    "print(planets.shape, '\\n')\n",
    "print(planets.head())"
   ]
  },
  {
   "cell_type": "markdown",
   "id": "c99f84e2ccdd7634",
   "metadata": {},
   "source": [
    "### Pandas의 간단한 집계 연산\n",
    "\n",
    "* count() : 항목 전체 개수\n",
    "* first(), last() : 첫 항목과 마지막 항목\n",
    "* mean(), median() : 평균값과 중앙 값\n",
    "* min(), max() : 최솟값과 최댓값\n",
    "* std(), var() : 표준편차와 분산\n",
    "* mad() : 절대 평균 편차\n",
    "* prod() : 전체 항목의 곲\n",
    "* sum() : 전체 항목의 합"
   ]
  },
  {
   "cell_type": "code",
   "execution_count": 52,
   "id": "9151b4b5d67ec675",
   "metadata": {
    "ExecuteTime": {
     "end_time": "2024-09-12T07:45:18.410912Z",
     "start_time": "2024-09-12T07:45:18.390780Z"
    }
   },
   "outputs": [
    {
     "data": {
      "text/html": [
       "<div>\n",
       "<style scoped>\n",
       "    .dataframe tbody tr th:only-of-type {\n",
       "        vertical-align: middle;\n",
       "    }\n",
       "\n",
       "    .dataframe tbody tr th {\n",
       "        vertical-align: top;\n",
       "    }\n",
       "\n",
       "    .dataframe thead th {\n",
       "        text-align: right;\n",
       "    }\n",
       "</style>\n",
       "<table border=\"1\" class=\"dataframe\">\n",
       "  <thead>\n",
       "    <tr style=\"text-align: right;\">\n",
       "      <th></th>\n",
       "      <th>number</th>\n",
       "      <th>orbital_period</th>\n",
       "      <th>mass</th>\n",
       "      <th>distance</th>\n",
       "      <th>year</th>\n",
       "    </tr>\n",
       "  </thead>\n",
       "  <tbody>\n",
       "    <tr>\n",
       "      <th>count</th>\n",
       "      <td>498.00000</td>\n",
       "      <td>498.000000</td>\n",
       "      <td>498.000000</td>\n",
       "      <td>498.000000</td>\n",
       "      <td>498.000000</td>\n",
       "    </tr>\n",
       "    <tr>\n",
       "      <th>mean</th>\n",
       "      <td>1.73494</td>\n",
       "      <td>835.778671</td>\n",
       "      <td>2.509320</td>\n",
       "      <td>52.068213</td>\n",
       "      <td>2007.377510</td>\n",
       "    </tr>\n",
       "    <tr>\n",
       "      <th>std</th>\n",
       "      <td>1.17572</td>\n",
       "      <td>1469.128259</td>\n",
       "      <td>3.636274</td>\n",
       "      <td>46.596041</td>\n",
       "      <td>4.167284</td>\n",
       "    </tr>\n",
       "    <tr>\n",
       "      <th>min</th>\n",
       "      <td>1.00000</td>\n",
       "      <td>1.328300</td>\n",
       "      <td>0.003600</td>\n",
       "      <td>1.350000</td>\n",
       "      <td>1989.000000</td>\n",
       "    </tr>\n",
       "    <tr>\n",
       "      <th>25%</th>\n",
       "      <td>1.00000</td>\n",
       "      <td>38.272250</td>\n",
       "      <td>0.212500</td>\n",
       "      <td>24.497500</td>\n",
       "      <td>2005.000000</td>\n",
       "    </tr>\n",
       "    <tr>\n",
       "      <th>50%</th>\n",
       "      <td>1.00000</td>\n",
       "      <td>357.000000</td>\n",
       "      <td>1.245000</td>\n",
       "      <td>39.940000</td>\n",
       "      <td>2009.000000</td>\n",
       "    </tr>\n",
       "    <tr>\n",
       "      <th>75%</th>\n",
       "      <td>2.00000</td>\n",
       "      <td>999.600000</td>\n",
       "      <td>2.867500</td>\n",
       "      <td>59.332500</td>\n",
       "      <td>2011.000000</td>\n",
       "    </tr>\n",
       "    <tr>\n",
       "      <th>max</th>\n",
       "      <td>6.00000</td>\n",
       "      <td>17337.500000</td>\n",
       "      <td>25.000000</td>\n",
       "      <td>354.000000</td>\n",
       "      <td>2014.000000</td>\n",
       "    </tr>\n",
       "  </tbody>\n",
       "</table>\n",
       "</div>"
      ],
      "text/plain": [
       "          number  orbital_period        mass    distance         year\n",
       "count  498.00000      498.000000  498.000000  498.000000   498.000000\n",
       "mean     1.73494      835.778671    2.509320   52.068213  2007.377510\n",
       "std      1.17572     1469.128259    3.636274   46.596041     4.167284\n",
       "min      1.00000        1.328300    0.003600    1.350000  1989.000000\n",
       "25%      1.00000       38.272250    0.212500   24.497500  2005.000000\n",
       "50%      1.00000      357.000000    1.245000   39.940000  2009.000000\n",
       "75%      2.00000      999.600000    2.867500   59.332500  2011.000000\n",
       "max      6.00000    17337.500000   25.000000  354.000000  2014.000000"
      ]
     },
     "execution_count": 52,
     "metadata": {},
     "output_type": "execute_result"
    }
   ],
   "source": [
    "planets.dropna().describe()"
   ]
  },
  {
   "cell_type": "markdown",
   "id": "6e3129afe28ff563",
   "metadata": {},
   "source": [
    "# GroupBy: 분할, 적용, 결합"
   ]
  },
  {
   "cell_type": "code",
   "execution_count": 53,
   "id": "ea402e4cd3e104e6",
   "metadata": {
    "ExecuteTime": {
     "end_time": "2024-09-12T08:23:07.944118Z",
     "start_time": "2024-09-12T08:23:07.929539Z"
    }
   },
   "outputs": [
    {
     "data": {
      "text/html": [
       "<div>\n",
       "<style scoped>\n",
       "    .dataframe tbody tr th:only-of-type {\n",
       "        vertical-align: middle;\n",
       "    }\n",
       "\n",
       "    .dataframe tbody tr th {\n",
       "        vertical-align: top;\n",
       "    }\n",
       "\n",
       "    .dataframe thead th {\n",
       "        text-align: right;\n",
       "    }\n",
       "</style>\n",
       "<table border=\"1\" class=\"dataframe\">\n",
       "  <thead>\n",
       "    <tr style=\"text-align: right;\">\n",
       "      <th></th>\n",
       "      <th>key</th>\n",
       "      <th>data</th>\n",
       "    </tr>\n",
       "  </thead>\n",
       "  <tbody>\n",
       "    <tr>\n",
       "      <th>0</th>\n",
       "      <td>A</td>\n",
       "      <td>0</td>\n",
       "    </tr>\n",
       "    <tr>\n",
       "      <th>1</th>\n",
       "      <td>B</td>\n",
       "      <td>1</td>\n",
       "    </tr>\n",
       "    <tr>\n",
       "      <th>2</th>\n",
       "      <td>C</td>\n",
       "      <td>2</td>\n",
       "    </tr>\n",
       "    <tr>\n",
       "      <th>3</th>\n",
       "      <td>A</td>\n",
       "      <td>3</td>\n",
       "    </tr>\n",
       "    <tr>\n",
       "      <th>4</th>\n",
       "      <td>B</td>\n",
       "      <td>4</td>\n",
       "    </tr>\n",
       "    <tr>\n",
       "      <th>5</th>\n",
       "      <td>C</td>\n",
       "      <td>5</td>\n",
       "    </tr>\n",
       "  </tbody>\n",
       "</table>\n",
       "</div>"
      ],
      "text/plain": [
       "  key  data\n",
       "0   A     0\n",
       "1   B     1\n",
       "2   C     2\n",
       "3   A     3\n",
       "4   B     4\n",
       "5   C     5"
      ]
     },
     "execution_count": 53,
     "metadata": {},
     "output_type": "execute_result"
    }
   ],
   "source": [
    "df = pd.DataFrame({'key' : ['A', 'B', 'C', 'A', 'B', 'C'],\n",
    "                   'data' : range(6)}, columns=['key', 'data'])\n",
    "\n",
    "df"
   ]
  },
  {
   "cell_type": "code",
   "execution_count": 54,
   "id": "a9d6ff4108a20db3",
   "metadata": {
    "ExecuteTime": {
     "end_time": "2024-09-12T08:23:24.865690Z",
     "start_time": "2024-09-12T08:23:24.859532Z"
    }
   },
   "outputs": [
    {
     "data": {
      "text/plain": [
       "<pandas.core.groupby.generic.DataFrameGroupBy object at 0x16ca129c0>"
      ]
     },
     "execution_count": 54,
     "metadata": {},
     "output_type": "execute_result"
    }
   ],
   "source": [
    "df.groupby('key')"
   ]
  },
  {
   "cell_type": "code",
   "execution_count": 55,
   "id": "eb484c5ad8a93fe8",
   "metadata": {
    "ExecuteTime": {
     "end_time": "2024-09-12T08:23:57.218255Z",
     "start_time": "2024-09-12T08:23:57.208997Z"
    }
   },
   "outputs": [
    {
     "data": {
      "text/html": [
       "<div>\n",
       "<style scoped>\n",
       "    .dataframe tbody tr th:only-of-type {\n",
       "        vertical-align: middle;\n",
       "    }\n",
       "\n",
       "    .dataframe tbody tr th {\n",
       "        vertical-align: top;\n",
       "    }\n",
       "\n",
       "    .dataframe thead th {\n",
       "        text-align: right;\n",
       "    }\n",
       "</style>\n",
       "<table border=\"1\" class=\"dataframe\">\n",
       "  <thead>\n",
       "    <tr style=\"text-align: right;\">\n",
       "      <th></th>\n",
       "      <th>data</th>\n",
       "    </tr>\n",
       "    <tr>\n",
       "      <th>key</th>\n",
       "      <th></th>\n",
       "    </tr>\n",
       "  </thead>\n",
       "  <tbody>\n",
       "    <tr>\n",
       "      <th>A</th>\n",
       "      <td>3</td>\n",
       "    </tr>\n",
       "    <tr>\n",
       "      <th>B</th>\n",
       "      <td>5</td>\n",
       "    </tr>\n",
       "    <tr>\n",
       "      <th>C</th>\n",
       "      <td>7</td>\n",
       "    </tr>\n",
       "  </tbody>\n",
       "</table>\n",
       "</div>"
      ],
      "text/plain": [
       "     data\n",
       "key      \n",
       "A       3\n",
       "B       5\n",
       "C       7"
      ]
     },
     "execution_count": 55,
     "metadata": {},
     "output_type": "execute_result"
    }
   ],
   "source": [
    "df.groupby('key').sum()"
   ]
  },
  {
   "cell_type": "markdown",
   "id": "56b025442137b473",
   "metadata": {},
   "source": [
    "### GroupBy 객체\n",
    "#### GroupBy 객체는 매우 유연한 추상화다. GroupBy에서 사용하는 가장 중요한 연산은 집계, 필터, 변환, 적용 이다."
   ]
  },
  {
   "cell_type": "code",
   "execution_count": 60,
   "id": "6373a9eccb7d3d35",
   "metadata": {
    "ExecuteTime": {
     "end_time": "2024-09-12T08:27:01.668465Z",
     "start_time": "2024-09-12T08:27:01.663167Z"
    }
   },
   "outputs": [
    {
     "name": "stdout",
     "output_type": "stream",
     "text": [
      "<pandas.core.groupby.generic.DataFrameGroupBy object at 0x16ce595b0>\n",
      "<pandas.core.groupby.generic.SeriesGroupBy object at 0x16d1f2600>\n",
      "method\n",
      "Astrometry                         631.180000\n",
      "Eclipse Timing Variations         4343.500000\n",
      "Imaging                          27500.000000\n",
      "Microlensing                      3300.000000\n",
      "Orbital Brightness Modulation        0.342887\n",
      "Pulsar Timing                       66.541900\n",
      "Pulsation Timing Variations       1170.000000\n",
      "Radial Velocity                    360.200000\n",
      "Transit                              5.714932\n",
      "Transit Timing Variations           57.011000\n",
      "Name: orbital_period, dtype: float64\n"
     ]
    }
   ],
   "source": [
    "# 열 인덱싱\n",
    "print(planets.groupby('method'))\n",
    "print(planets.groupby('method')['orbital_period'])\n",
    "print(planets.groupby('method')['orbital_period'].median())"
   ]
  },
  {
   "cell_type": "code",
   "execution_count": 65,
   "id": "eb87762ccb4510f5",
   "metadata": {
    "ExecuteTime": {
     "end_time": "2024-09-12T08:28:28.515583Z",
     "start_time": "2024-09-12T08:28:28.509873Z"
    }
   },
   "outputs": [
    {
     "name": "stdout",
     "output_type": "stream",
     "text": [
      "Astrometry                     shape=(2, 6)\n",
      "Eclipse Timing Variations      shape=(9, 6)\n",
      "Imaging                        shape=(38, 6)\n",
      "Microlensing                   shape=(23, 6)\n",
      "Orbital Brightness Modulation  shape=(3, 6)\n",
      "Pulsar Timing                  shape=(5, 6)\n",
      "Pulsation Timing Variations    shape=(1, 6)\n",
      "Radial Velocity                shape=(553, 6)\n",
      "Transit                        shape=(397, 6)\n",
      "Transit Timing Variations      shape=(4, 6)\n"
     ]
    }
   ],
   "source": [
    "# 그룹 내 반복\n",
    "for (method, group) in planets.groupby('method'):\n",
    "    print(\"{0:30s} shape={1}\".format(method, group.shape))"
   ]
  },
  {
   "cell_type": "code",
   "execution_count": 67,
   "id": "c42cdedcd662bca0",
   "metadata": {
    "ExecuteTime": {
     "end_time": "2024-09-12T08:30:22.438518Z",
     "start_time": "2024-09-12T08:30:22.412015Z"
    }
   },
   "outputs": [
    {
     "data": {
      "text/plain": [
       "       method                       \n",
       "count  Astrometry                          2.0\n",
       "       Eclipse Timing Variations           9.0\n",
       "       Imaging                            38.0\n",
       "       Microlensing                       23.0\n",
       "       Orbital Brightness Modulation       3.0\n",
       "                                         ...  \n",
       "max    Pulsar Timing                    2011.0\n",
       "       Pulsation Timing Variations      2007.0\n",
       "       Radial Velocity                  2014.0\n",
       "       Transit                          2014.0\n",
       "       Transit Timing Variations        2014.0\n",
       "Length: 80, dtype: float64"
      ]
     },
     "execution_count": 67,
     "metadata": {},
     "output_type": "execute_result"
    }
   ],
   "source": [
    "# 디스패치 메서드\n",
    "# 디스패치 메서드는 각 개별 그룹에 적용되고 그 결과는 GroupBy 내에서 결합돼 반환된다\n",
    "planets.groupby('method')['year'].describe().unstack()"
   ]
  },
  {
   "cell_type": "code",
   "execution_count": null,
   "id": "afeb2a7933116e11",
   "metadata": {},
   "outputs": [],
   "source": []
  }
 ],
 "metadata": {
  "kernelspec": {
   "display_name": "Python 3 (ipykernel)",
   "language": "python",
   "name": "python3"
  },
  "language_info": {
   "codemirror_mode": {
    "name": "ipython",
    "version": 3
   },
   "file_extension": ".py",
   "mimetype": "text/x-python",
   "name": "python",
   "nbconvert_exporter": "python",
   "pygments_lexer": "ipython3",
   "version": "3.12.4"
  }
 },
 "nbformat": 4,
 "nbformat_minor": 5
}
