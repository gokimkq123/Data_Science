{
 "cells": [
  {
   "metadata": {},
   "cell_type": "markdown",
   "source": [
    "# 시계열 다루기\n",
    "\n",
    "* Time stamps는 특정 시점을 말한다.(예: 2024년 8월 12일 오전2시)\n",
    "* Time intervals and periods는 특정 시작점과 종료점 사이의 길이를 말한다.\n",
    "* Time deltas or durations는 정확한 시간 길이를 말한다(예: 22.6초)\n"
   ],
   "id": "6de756716300d3fb"
  },
  {
   "cell_type": "code",
   "id": "initial_id",
   "metadata": {
    "collapsed": true,
    "ExecuteTime": {
     "end_time": "2024-09-15T07:13:52.273968Z",
     "start_time": "2024-09-15T07:13:51.624445Z"
    }
   },
   "source": [
    "import numpy as np\n",
    "import pandas as pd\n",
    "from datetime import datetime\n",
    "from dateutil import parser"
   ],
   "outputs": [],
   "execution_count": 7
  },
  {
   "metadata": {
    "ExecuteTime": {
     "end_time": "2024-09-15T07:11:36.234043Z",
     "start_time": "2024-09-15T07:11:36.229941Z"
    }
   },
   "cell_type": "code",
   "source": [
    "# datetime 타입을 사용해 날짜를 직접 구성할 수 있다.\n",
    "print(datetime(year = 2024, month=8, day=12))\n",
    "\n",
    "# dateutil 모듈을 이용해 다양한 문자열 형태로부터 날짜를 해석할 수 있다.\n",
    "date = parser.parse('8th of July, 2024')\n",
    "print(date)\n",
    "\n",
    "# 요일을 출력할 수 있다.\n",
    "print(date.strftime('%A, %B %d, %Y'))\n"
   ],
   "id": "943841e43a342c9c",
   "outputs": [
    {
     "name": "stdout",
     "output_type": "stream",
     "text": [
      "2024-08-12 00:00:00\n",
      "2024-07-08 00:00:00\n",
      "Monday, July 08, 2024\n"
     ]
    }
   ],
   "execution_count": 6
  },
  {
   "metadata": {},
   "cell_type": "markdown",
   "source": "### 타입이 지정된 시간 배열: NumPy의 datetime64",
   "id": "cc0b2f741fd91aa1"
  },
  {
   "metadata": {
    "ExecuteTime": {
     "end_time": "2024-09-15T07:18:38.787614Z",
     "start_time": "2024-09-15T07:18:38.783696Z"
    }
   },
   "cell_type": "code",
   "source": [
    "date = np.array('2024-09-15', dtype=np.datetime64)\n",
    "print(date)\n",
    "\n",
    "# 벡터화 연산 가능\n",
    "print(date + np.arange(12))\n",
    "\n",
    "# 시간 단위를 나노초로 정함\n",
    "print(np.datetime64('2024-09-15 12:59:59.50', 'ns'))"
   ],
   "id": "aa580e7a1dc3bfdf",
   "outputs": [
    {
     "name": "stdout",
     "output_type": "stream",
     "text": [
      "2024-09-15\n",
      "['2024-09-15' '2024-09-16' '2024-09-17' '2024-09-18' '2024-09-19'\n",
      " '2024-09-20' '2024-09-21' '2024-09-22' '2024-09-23' '2024-09-24'\n",
      " '2024-09-25' '2024-09-26']\n",
      "2024-09-15T12:59:59.500000000\n"
     ]
    }
   ],
   "execution_count": 12
  },
  {
   "metadata": {},
   "cell_type": "markdown",
   "source": "### Pandas에서의 날짜와 시간",
   "id": "cddd84d611bffbd8"
  },
  {
   "metadata": {
    "ExecuteTime": {
     "end_time": "2024-09-15T07:20:41.612945Z",
     "start_time": "2024-09-15T07:20:41.598550Z"
    }
   },
   "cell_type": "code",
   "source": [
    "date = pd.to_datetime('4th of July, 2024')\n",
    "print(date)\n",
    "\n",
    "# 벡터화된 연산 가능\n",
    "print(date + pd.to_timedelta(np.arange(12), 'D'))"
   ],
   "id": "dad116378cf45b81",
   "outputs": [
    {
     "name": "stdout",
     "output_type": "stream",
     "text": [
      "2024-07-04 00:00:00\n",
      "DatetimeIndex(['2024-07-04', '2024-07-05', '2024-07-06', '2024-07-07',\n",
      "               '2024-07-08', '2024-07-09', '2024-07-10', '2024-07-11',\n",
      "               '2024-07-12', '2024-07-13', '2024-07-14', '2024-07-15'],\n",
      "              dtype='datetime64[ns]', freq=None)\n"
     ]
    }
   ],
   "execution_count": 14
  },
  {
   "metadata": {},
   "cell_type": "markdown",
   "source": "### Pandas 시계열: 시간으로 인덱싱",
   "id": "74beaf4ff418fd06"
  },
  {
   "metadata": {
    "ExecuteTime": {
     "end_time": "2024-09-15T07:22:16.543539Z",
     "start_time": "2024-09-15T07:22:16.524526Z"
    }
   },
   "cell_type": "code",
   "source": [
    "index = pd.DatetimeIndex(['2024-07-04', '2024-08-04',\n",
    "                          '2025-07-04', '2025-08-04'])\n",
    "data = pd.Series([0, 1, 2, 3], index=index)\n",
    "data"
   ],
   "id": "8ffd16c28221d343",
   "outputs": [
    {
     "data": {
      "text/plain": [
       "2024-07-04    0\n",
       "2024-08-04    1\n",
       "2025-07-04    2\n",
       "2025-08-04    3\n",
       "dtype: int64"
      ]
     },
     "execution_count": 15,
     "metadata": {},
     "output_type": "execute_result"
    }
   ],
   "execution_count": 15
  },
  {
   "metadata": {
    "ExecuteTime": {
     "end_time": "2024-09-15T07:23:40.499032Z",
     "start_time": "2024-09-15T07:23:40.494545Z"
    }
   },
   "cell_type": "code",
   "source": [
    "# Series 인덱싱 가능\n",
    "print(data['2024-07-04' : '2025-07-04'], '\\n')\n",
    "\n",
    "# 해당 연도의 모든 데이터 슬라이스 얻기\n",
    "print(data['2024'])"
   ],
   "id": "3fef1fd12fb7f035",
   "outputs": [
    {
     "name": "stdout",
     "output_type": "stream",
     "text": [
      "2024-07-04    0\n",
      "2024-08-04    1\n",
      "2025-07-04    2\n",
      "dtype: int64 \n",
      "\n",
      "2024-07-04    0\n",
      "2024-08-04    1\n",
      "dtype: int64\n"
     ]
    }
   ],
   "execution_count": 19
  },
  {
   "metadata": {},
   "cell_type": "markdown",
   "source": [
    "### Pandas 시계열 데이터 구조\n",
    "\n",
    "* Time stamps : Timestamp 타입을 제공한다.\n",
    "* Time intervals and periods : Period 타입을 제공한다.\n",
    "* Time deltas or durations : Timedelta 타입을 제공한다.\n",
    "\n"
   ],
   "id": "91501dca5ee23ff6"
  },
  {
   "metadata": {
    "ExecuteTime": {
     "end_time": "2024-09-15T07:40:44.183277Z",
     "start_time": "2024-09-15T07:40:44.176995Z"
    }
   },
   "cell_type": "code",
   "source": [
    "# 단일 날짜를 pd.to_datetime()에 전달하면 Timestamp를 생성하고, 일연의 날짜를 전달하면 DatetimeIndex를 생성하는 것이 기본이다.\n",
    "dates = pd.to_datetime([datetime(2024, 8, 12), '13th of Aug, 2024', '2024-Aug-14', '08-15-2024', '20240816'])\n",
    "print(dates,'\\n')\n",
    "\n",
    "# to_period() 함수에 주기 코드를 추가해 PeriodIndex로 전환할 수 있다. 'D'는 일별 주기를 가리킨다.\n",
    "print(dates.to_period('D'), '\\n')\n",
    "\n",
    "# 어떤 날짜에서 다른 날짜를 빼면 TimedeltaIndex가 생성된다.\n",
    "print(dates-dates[0])"
   ],
   "id": "e922705277853f7e",
   "outputs": [
    {
     "name": "stdout",
     "output_type": "stream",
     "text": [
      "DatetimeIndex(['2024-08-12', '2024-08-13', '2024-08-14', '2024-08-15',\n",
      "               '2024-08-16'],\n",
      "              dtype='datetime64[ns]', freq=None) \n",
      "\n",
      "PeriodIndex(['2024-08-12', '2024-08-13', '2024-08-14', '2024-08-15',\n",
      "             '2024-08-16'],\n",
      "            dtype='period[D]') \n",
      "\n",
      "TimedeltaIndex(['0 days', '1 days', '2 days', '3 days', '4 days'], dtype='timedelta64[ns]', freq=None)\n"
     ]
    }
   ],
   "execution_count": 28
  },
  {
   "metadata": {},
   "cell_type": "markdown",
   "source": "### 정규 시퀀스: pd.date_range()",
   "id": "717b957bce79aa16"
  },
  {
   "metadata": {
    "ExecuteTime": {
     "end_time": "2024-09-15T07:44:36.403228Z",
     "start_time": "2024-09-15T07:44:36.398144Z"
    }
   },
   "cell_type": "code",
   "source": [
    "print(pd.date_range('2024-08-12', '2024-09-15'), '\\n')\n",
    "\n",
    "# 날짜 범위를 시작점과 종료점이 아니라 시작점과 기간의 수로 지정할 수 있다.\n",
    "print(pd.date_range('2024-08-12', periods=8), '\\n')\n",
    "\n",
    "# freq 인수를 바꿔서 간격을 조정할 수 있는데 기본적으로 'D'로 돼 있다.\n",
    "print(pd.date_range('2024-08-12', periods=8, freq='h'), '\\n')"
   ],
   "id": "cc0c557e3f908f3f",
   "outputs": [
    {
     "name": "stdout",
     "output_type": "stream",
     "text": [
      "DatetimeIndex(['2024-08-12', '2024-08-13', '2024-08-14', '2024-08-15',\n",
      "               '2024-08-16', '2024-08-17', '2024-08-18', '2024-08-19',\n",
      "               '2024-08-20', '2024-08-21', '2024-08-22', '2024-08-23',\n",
      "               '2024-08-24', '2024-08-25', '2024-08-26', '2024-08-27',\n",
      "               '2024-08-28', '2024-08-29', '2024-08-30', '2024-08-31',\n",
      "               '2024-09-01', '2024-09-02', '2024-09-03', '2024-09-04',\n",
      "               '2024-09-05', '2024-09-06', '2024-09-07', '2024-09-08',\n",
      "               '2024-09-09', '2024-09-10', '2024-09-11', '2024-09-12',\n",
      "               '2024-09-13', '2024-09-14', '2024-09-15'],\n",
      "              dtype='datetime64[ns]', freq='D') \n",
      "\n",
      "DatetimeIndex(['2024-08-12', '2024-08-13', '2024-08-14', '2024-08-15',\n",
      "               '2024-08-16', '2024-08-17', '2024-08-18', '2024-08-19'],\n",
      "              dtype='datetime64[ns]', freq='D') \n",
      "\n",
      "DatetimeIndex(['2024-08-12 00:00:00', '2024-08-12 01:00:00',\n",
      "               '2024-08-12 02:00:00', '2024-08-12 03:00:00',\n",
      "               '2024-08-12 04:00:00', '2024-08-12 05:00:00',\n",
      "               '2024-08-12 06:00:00', '2024-08-12 07:00:00'],\n",
      "              dtype='datetime64[ns]', freq='h') \n",
      "\n"
     ]
    }
   ],
   "execution_count": 34
  },
  {
   "metadata": {},
   "cell_type": "markdown",
   "source": [
    "### 주기와 오프셋\n",
    "\n",
    "* D : 일\n",
    "* W : 주\n",
    "* M : 월 말\n",
    "* Q : 분기 말\n",
    "* A : 연말\n",
    "* h : 시간\n",
    "* min : 분\n",
    "* S : 초\n",
    "* L : 밀리초\n",
    "* U : 마이크로초\n",
    "* N : 나노초"
   ],
   "id": "a1f2f7bbe0578dba"
  },
  {
   "metadata": {
    "ExecuteTime": {
     "end_time": "2024-09-15T07:47:44.267287Z",
     "start_time": "2024-09-15T07:47:44.260353Z"
    }
   },
   "cell_type": "code",
   "source": [
    "# 2시간 30분 간격의 주기를 만들려면 H + T를 결합하면 된다.\n",
    "pd.timedelta_range(0, periods=9, freq=\"2h30min\")"
   ],
   "id": "248ed2f4642fb950",
   "outputs": [
    {
     "data": {
      "text/plain": [
       "TimedeltaIndex(['0 days 00:00:00', '0 days 02:30:00', '0 days 05:00:00',\n",
       "                '0 days 07:30:00', '0 days 10:00:00', '0 days 12:30:00',\n",
       "                '0 days 15:00:00', '0 days 17:30:00', '0 days 20:00:00'],\n",
       "               dtype='timedelta64[ns]', freq='150min')"
      ]
     },
     "execution_count": 40,
     "metadata": {},
     "output_type": "execute_result"
    }
   ],
   "execution_count": 40
  },
  {
   "metadata": {},
   "cell_type": "markdown",
   "source": "# 고성능 Pandas: eval()과 query()",
   "id": "a8ddf74ebba16eb5"
  },
  {
   "metadata": {
    "ExecuteTime": {
     "end_time": "2024-09-15T08:18:44.669512Z",
     "start_time": "2024-09-15T08:18:30.368282Z"
    }
   },
   "cell_type": "code",
   "source": [
    "# Pandas의 eval함수는 연산을 효율적으로 계산하기 위해 문자열 표현식을 사용한다.\n",
    "nrows, ncols = 100000, 100\n",
    "rng = np.random.RandomState(42)\n",
    "df1, df2, df3, df4 =  (pd.DataFrame(rng.rand(nrows, ncols)) for i in range(4))\n",
    "\n",
    "%timeit df1 + df2 + df3 + df4\n",
    "# 표현식을 문자열로 구성함으로써 더 빠르고 메모리도 훨씬 더 적게 사용한다.\n",
    "%timeit pd.eval('df1 + df2 + df3 + df4')"
   ],
   "id": "52348a8c5ca9327c",
   "outputs": [
    {
     "name": "stdout",
     "output_type": "stream",
     "text": [
      "11.1 ms ± 20.4 μs per loop (mean ± std. dev. of 7 runs, 100 loops each)\n",
      "5.99 ms ± 25.3 μs per loop (mean ± std. dev. of 7 runs, 100 loops each)\n"
     ]
    }
   ],
   "execution_count": 44
  },
  {
   "metadata": {
    "ExecuteTime": {
     "end_time": "2024-09-15T08:29:40.958983Z",
     "start_time": "2024-09-15T08:29:40.944824Z"
    }
   },
   "cell_type": "code",
   "source": [
    "df = pd.DataFrame(rng.rand(1000, 3), columns=['A', 'B', 'C'])\n",
    "df.head()"
   ],
   "id": "9abbd41e75133c19",
   "outputs": [
    {
     "data": {
      "text/plain": [
       "          A         B         C\n",
       "0  0.615875  0.525167  0.047354\n",
       "1  0.330858  0.412879  0.441564\n",
       "2  0.689047  0.559068  0.230350\n",
       "3  0.290486  0.695479  0.852587\n",
       "4  0.424280  0.534344  0.245216"
      ],
      "text/html": [
       "<div>\n",
       "<style scoped>\n",
       "    .dataframe tbody tr th:only-of-type {\n",
       "        vertical-align: middle;\n",
       "    }\n",
       "\n",
       "    .dataframe tbody tr th {\n",
       "        vertical-align: top;\n",
       "    }\n",
       "\n",
       "    .dataframe thead th {\n",
       "        text-align: right;\n",
       "    }\n",
       "</style>\n",
       "<table border=\"1\" class=\"dataframe\">\n",
       "  <thead>\n",
       "    <tr style=\"text-align: right;\">\n",
       "      <th></th>\n",
       "      <th>A</th>\n",
       "      <th>B</th>\n",
       "      <th>C</th>\n",
       "    </tr>\n",
       "  </thead>\n",
       "  <tbody>\n",
       "    <tr>\n",
       "      <th>0</th>\n",
       "      <td>0.615875</td>\n",
       "      <td>0.525167</td>\n",
       "      <td>0.047354</td>\n",
       "    </tr>\n",
       "    <tr>\n",
       "      <th>1</th>\n",
       "      <td>0.330858</td>\n",
       "      <td>0.412879</td>\n",
       "      <td>0.441564</td>\n",
       "    </tr>\n",
       "    <tr>\n",
       "      <th>2</th>\n",
       "      <td>0.689047</td>\n",
       "      <td>0.559068</td>\n",
       "      <td>0.230350</td>\n",
       "    </tr>\n",
       "    <tr>\n",
       "      <th>3</th>\n",
       "      <td>0.290486</td>\n",
       "      <td>0.695479</td>\n",
       "      <td>0.852587</td>\n",
       "    </tr>\n",
       "    <tr>\n",
       "      <th>4</th>\n",
       "      <td>0.424280</td>\n",
       "      <td>0.534344</td>\n",
       "      <td>0.245216</td>\n",
       "    </tr>\n",
       "  </tbody>\n",
       "</table>\n",
       "</div>"
      ]
     },
     "execution_count": 45,
     "metadata": {},
     "output_type": "execute_result"
    }
   ],
   "execution_count": 45
  },
  {
   "metadata": {
    "ExecuteTime": {
     "end_time": "2024-09-15T08:31:18.799794Z",
     "start_time": "2024-09-15T08:31:18.794101Z"
    }
   },
   "cell_type": "code",
   "source": [
    "result1 = (df['A'] + df['B']) / (df['C'] - 1)\n",
    "result2 = pd.eval(\"(df.A + df.B) / (df.C - 1)\")\n",
    "np.allclose(result1, result2)"
   ],
   "id": "7cb8bd9fe7ffe0bc",
   "outputs": [
    {
     "data": {
      "text/plain": [
       "True"
      ]
     },
     "execution_count": 47,
     "metadata": {},
     "output_type": "execute_result"
    }
   ],
   "execution_count": 47
  },
  {
   "metadata": {
    "ExecuteTime": {
     "end_time": "2024-09-15T08:32:07.728724Z",
     "start_time": "2024-09-15T08:32:07.719405Z"
    }
   },
   "cell_type": "code",
   "source": [
    "# eval DataFrame.eval 메서드를 사용해 훨씬 간결하게 할 수 있다.\n",
    "result3 = df.eval('(A + B) / (C - 1)')\n",
    "np.allclose(result1, result3)"
   ],
   "id": "c37079fc827d8215",
   "outputs": [
    {
     "data": {
      "text/plain": [
       "True"
      ]
     },
     "execution_count": 48,
     "metadata": {},
     "output_type": "execute_result"
    }
   ],
   "execution_count": 48
  },
  {
   "metadata": {},
   "cell_type": "markdown",
   "source": [
    "### DataFrame.eval()의 지역변수\n",
    "\n",
    "#### @ 기호는 열의 namespace와 파이썬 객체의 namespace를 포함하는 표현식을 효율적으로 평가할 수 있게 해준다."
   ],
   "id": "1b1a6ffff48ff546"
  },
  {
   "metadata": {
    "ExecuteTime": {
     "end_time": "2024-09-15T08:33:46.152708Z",
     "start_time": "2024-09-15T08:33:46.144875Z"
    }
   },
   "cell_type": "code",
   "source": [
    "column_mean = df.mean(1)\n",
    "result1 = df['A'] + column_mean\n",
    "result2 = df.eval('A + @column_mean')\n",
    "np.allclose(result1, result2)"
   ],
   "id": "eb09782f64c8927b",
   "outputs": [
    {
     "data": {
      "text/plain": [
       "True"
      ]
     },
     "execution_count": 51,
     "metadata": {},
     "output_type": "execute_result"
    }
   ],
   "execution_count": 51
  },
  {
   "metadata": {},
   "cell_type": "markdown",
   "source": "### DataFrame.query() 메서드",
   "id": "9dd48775cc4dea1c"
  },
  {
   "metadata": {
    "ExecuteTime": {
     "end_time": "2024-09-15T08:38:04.010023Z",
     "start_time": "2024-09-15T08:38:04.004390Z"
    }
   },
   "cell_type": "code",
   "source": [
    "# DataFrame의 열을 포함하는 표현식이라서 df.eval()구문을 사용해 표현할 수 없다 따라서 query를 쓴다.\n",
    "result1 = df[(df.A < 0.5) & (df.B < 0.5)]\n",
    "result2 = df.query('A < 0.5 and B < 0.5')\n",
    "\n",
    "np.allclose(result1, result2)\n"
   ],
   "id": "6209919723a038a2",
   "outputs": [
    {
     "data": {
      "text/plain": [
       "True"
      ]
     },
     "execution_count": 52,
     "metadata": {},
     "output_type": "execute_result"
    }
   ],
   "execution_count": 52
  }
 ],
 "metadata": {
  "kernelspec": {
   "display_name": "Python 3",
   "language": "python",
   "name": "python3"
  },
  "language_info": {
   "codemirror_mode": {
    "name": "ipython",
    "version": 2
   },
   "file_extension": ".py",
   "mimetype": "text/x-python",
   "name": "python",
   "nbconvert_exporter": "python",
   "pygments_lexer": "ipython2",
   "version": "2.7.6"
  }
 },
 "nbformat": 4,
 "nbformat_minor": 5
}
