{
 "cells": [
  {
   "metadata": {},
   "cell_type": "markdown",
   "source": "<h1> 예제 미국 대통령이 평균 신장은 얼마일까?",
   "id": "1009ce05e746d439"
  },
  {
   "cell_type": "code",
   "id": "initial_id",
   "metadata": {
    "collapsed": true,
    "ExecuteTime": {
     "end_time": "2024-08-31T14:37:19.350263Z",
     "start_time": "2024-08-31T14:37:19.216823Z"
    }
   },
   "source": [
    "from sympy import series\n",
    "from sympy.physics.units import inches\n",
    "!head -4 ./president_heights.csv"
   ],
   "outputs": [
    {
     "name": "stdout",
     "output_type": "stream",
     "text": [
      "order,name,height(cm)\r\n",
      "1,George Washington,189\r\n",
      "2,John Adams,170\r\n",
      "3,Thomas Jefferson,189\r\n"
     ]
    }
   ],
   "execution_count": 2
  },
  {
   "metadata": {
    "ExecuteTime": {
     "end_time": "2024-08-31T14:37:19.397579Z",
     "start_time": "2024-08-31T14:37:19.395642Z"
    }
   },
   "cell_type": "code",
   "source": [
    "import pandas as pd\n",
    "import numpy as np"
   ],
   "id": "88d484bb05eab0ec",
   "outputs": [],
   "execution_count": 3
  },
  {
   "metadata": {
    "ExecuteTime": {
     "end_time": "2024-08-31T07:23:08.947582Z",
     "start_time": "2024-08-31T07:23:08.940784Z"
    }
   },
   "cell_type": "code",
   "source": [
    "data = pd.read_csv('./president_heights.csv')\n",
    "heights = np.array(data['height(cm)'])\n",
    "\n",
    "data"
   ],
   "id": "56808ef237aa1e7f",
   "outputs": [
    {
     "data": {
      "text/plain": [
       "    order                    name  height(cm)\n",
       "0       1       George Washington         189\n",
       "1       2              John Adams         170\n",
       "2       3        Thomas Jefferson         189\n",
       "3       4           James Madison         163\n",
       "4       5            James Monroe         183\n",
       "5       6       John Quincy Adams         171\n",
       "6       7          Andrew Jackson         185\n",
       "7       8        Martin Van Buren         168\n",
       "8       9  William Henry Harrison         173\n",
       "9      10              John Tyler         183\n",
       "10     11           James K. Polk         173\n",
       "11     12          Zachary Taylor         173\n",
       "12     13        Millard Fillmore         175\n",
       "13     14         Franklin Pierce         178\n",
       "14     15          James Buchanan         183\n",
       "15     16         Abraham Lincoln         193\n",
       "16     17          Andrew Johnson         178\n",
       "17     18        Ulysses S. Grant         173\n",
       "18     19     Rutherford B. Hayes         174\n",
       "19     20       James A. Garfield         183\n",
       "20     21       Chester A. Arthur         183\n",
       "21     23       Benjamin Harrison         168\n",
       "22     25        William McKinley         170\n",
       "23     26      Theodore Roosevelt         178\n",
       "24     27     William Howard Taft         182\n",
       "25     28          Woodrow Wilson         180\n",
       "26     29       Warren G. Harding         183\n",
       "27     30         Calvin Coolidge         178\n",
       "28     31          Herbert Hoover         182\n",
       "29     32   Franklin D. Roosevelt         188\n",
       "30     33         Harry S. Truman         175\n",
       "31     34    Dwight D. Eisenhower         179\n",
       "32     35         John F. Kennedy         183\n",
       "33     36       Lyndon B. Johnson         193\n",
       "34     37           Richard Nixon         182\n",
       "35     38             Gerald Ford         183\n",
       "36     39            Jimmy Carter         177\n",
       "37     40           Ronald Reagan         185\n",
       "38     41       George H. W. Bush         188\n",
       "39     42            Bill Clinton         188\n",
       "40     43          George W. Bush         182\n",
       "41     44            Barack Obama         185\n",
       "42     45            Donald Trump         191\n",
       "43     46            Joseph Biden         182"
      ],
      "text/html": [
       "<div>\n",
       "<style scoped>\n",
       "    .dataframe tbody tr th:only-of-type {\n",
       "        vertical-align: middle;\n",
       "    }\n",
       "\n",
       "    .dataframe tbody tr th {\n",
       "        vertical-align: top;\n",
       "    }\n",
       "\n",
       "    .dataframe thead th {\n",
       "        text-align: right;\n",
       "    }\n",
       "</style>\n",
       "<table border=\"1\" class=\"dataframe\">\n",
       "  <thead>\n",
       "    <tr style=\"text-align: right;\">\n",
       "      <th></th>\n",
       "      <th>order</th>\n",
       "      <th>name</th>\n",
       "      <th>height(cm)</th>\n",
       "    </tr>\n",
       "  </thead>\n",
       "  <tbody>\n",
       "    <tr>\n",
       "      <th>0</th>\n",
       "      <td>1</td>\n",
       "      <td>George Washington</td>\n",
       "      <td>189</td>\n",
       "    </tr>\n",
       "    <tr>\n",
       "      <th>1</th>\n",
       "      <td>2</td>\n",
       "      <td>John Adams</td>\n",
       "      <td>170</td>\n",
       "    </tr>\n",
       "    <tr>\n",
       "      <th>2</th>\n",
       "      <td>3</td>\n",
       "      <td>Thomas Jefferson</td>\n",
       "      <td>189</td>\n",
       "    </tr>\n",
       "    <tr>\n",
       "      <th>3</th>\n",
       "      <td>4</td>\n",
       "      <td>James Madison</td>\n",
       "      <td>163</td>\n",
       "    </tr>\n",
       "    <tr>\n",
       "      <th>4</th>\n",
       "      <td>5</td>\n",
       "      <td>James Monroe</td>\n",
       "      <td>183</td>\n",
       "    </tr>\n",
       "    <tr>\n",
       "      <th>5</th>\n",
       "      <td>6</td>\n",
       "      <td>John Quincy Adams</td>\n",
       "      <td>171</td>\n",
       "    </tr>\n",
       "    <tr>\n",
       "      <th>6</th>\n",
       "      <td>7</td>\n",
       "      <td>Andrew Jackson</td>\n",
       "      <td>185</td>\n",
       "    </tr>\n",
       "    <tr>\n",
       "      <th>7</th>\n",
       "      <td>8</td>\n",
       "      <td>Martin Van Buren</td>\n",
       "      <td>168</td>\n",
       "    </tr>\n",
       "    <tr>\n",
       "      <th>8</th>\n",
       "      <td>9</td>\n",
       "      <td>William Henry Harrison</td>\n",
       "      <td>173</td>\n",
       "    </tr>\n",
       "    <tr>\n",
       "      <th>9</th>\n",
       "      <td>10</td>\n",
       "      <td>John Tyler</td>\n",
       "      <td>183</td>\n",
       "    </tr>\n",
       "    <tr>\n",
       "      <th>10</th>\n",
       "      <td>11</td>\n",
       "      <td>James K. Polk</td>\n",
       "      <td>173</td>\n",
       "    </tr>\n",
       "    <tr>\n",
       "      <th>11</th>\n",
       "      <td>12</td>\n",
       "      <td>Zachary Taylor</td>\n",
       "      <td>173</td>\n",
       "    </tr>\n",
       "    <tr>\n",
       "      <th>12</th>\n",
       "      <td>13</td>\n",
       "      <td>Millard Fillmore</td>\n",
       "      <td>175</td>\n",
       "    </tr>\n",
       "    <tr>\n",
       "      <th>13</th>\n",
       "      <td>14</td>\n",
       "      <td>Franklin Pierce</td>\n",
       "      <td>178</td>\n",
       "    </tr>\n",
       "    <tr>\n",
       "      <th>14</th>\n",
       "      <td>15</td>\n",
       "      <td>James Buchanan</td>\n",
       "      <td>183</td>\n",
       "    </tr>\n",
       "    <tr>\n",
       "      <th>15</th>\n",
       "      <td>16</td>\n",
       "      <td>Abraham Lincoln</td>\n",
       "      <td>193</td>\n",
       "    </tr>\n",
       "    <tr>\n",
       "      <th>16</th>\n",
       "      <td>17</td>\n",
       "      <td>Andrew Johnson</td>\n",
       "      <td>178</td>\n",
       "    </tr>\n",
       "    <tr>\n",
       "      <th>17</th>\n",
       "      <td>18</td>\n",
       "      <td>Ulysses S. Grant</td>\n",
       "      <td>173</td>\n",
       "    </tr>\n",
       "    <tr>\n",
       "      <th>18</th>\n",
       "      <td>19</td>\n",
       "      <td>Rutherford B. Hayes</td>\n",
       "      <td>174</td>\n",
       "    </tr>\n",
       "    <tr>\n",
       "      <th>19</th>\n",
       "      <td>20</td>\n",
       "      <td>James A. Garfield</td>\n",
       "      <td>183</td>\n",
       "    </tr>\n",
       "    <tr>\n",
       "      <th>20</th>\n",
       "      <td>21</td>\n",
       "      <td>Chester A. Arthur</td>\n",
       "      <td>183</td>\n",
       "    </tr>\n",
       "    <tr>\n",
       "      <th>21</th>\n",
       "      <td>23</td>\n",
       "      <td>Benjamin Harrison</td>\n",
       "      <td>168</td>\n",
       "    </tr>\n",
       "    <tr>\n",
       "      <th>22</th>\n",
       "      <td>25</td>\n",
       "      <td>William McKinley</td>\n",
       "      <td>170</td>\n",
       "    </tr>\n",
       "    <tr>\n",
       "      <th>23</th>\n",
       "      <td>26</td>\n",
       "      <td>Theodore Roosevelt</td>\n",
       "      <td>178</td>\n",
       "    </tr>\n",
       "    <tr>\n",
       "      <th>24</th>\n",
       "      <td>27</td>\n",
       "      <td>William Howard Taft</td>\n",
       "      <td>182</td>\n",
       "    </tr>\n",
       "    <tr>\n",
       "      <th>25</th>\n",
       "      <td>28</td>\n",
       "      <td>Woodrow Wilson</td>\n",
       "      <td>180</td>\n",
       "    </tr>\n",
       "    <tr>\n",
       "      <th>26</th>\n",
       "      <td>29</td>\n",
       "      <td>Warren G. Harding</td>\n",
       "      <td>183</td>\n",
       "    </tr>\n",
       "    <tr>\n",
       "      <th>27</th>\n",
       "      <td>30</td>\n",
       "      <td>Calvin Coolidge</td>\n",
       "      <td>178</td>\n",
       "    </tr>\n",
       "    <tr>\n",
       "      <th>28</th>\n",
       "      <td>31</td>\n",
       "      <td>Herbert Hoover</td>\n",
       "      <td>182</td>\n",
       "    </tr>\n",
       "    <tr>\n",
       "      <th>29</th>\n",
       "      <td>32</td>\n",
       "      <td>Franklin D. Roosevelt</td>\n",
       "      <td>188</td>\n",
       "    </tr>\n",
       "    <tr>\n",
       "      <th>30</th>\n",
       "      <td>33</td>\n",
       "      <td>Harry S. Truman</td>\n",
       "      <td>175</td>\n",
       "    </tr>\n",
       "    <tr>\n",
       "      <th>31</th>\n",
       "      <td>34</td>\n",
       "      <td>Dwight D. Eisenhower</td>\n",
       "      <td>179</td>\n",
       "    </tr>\n",
       "    <tr>\n",
       "      <th>32</th>\n",
       "      <td>35</td>\n",
       "      <td>John F. Kennedy</td>\n",
       "      <td>183</td>\n",
       "    </tr>\n",
       "    <tr>\n",
       "      <th>33</th>\n",
       "      <td>36</td>\n",
       "      <td>Lyndon B. Johnson</td>\n",
       "      <td>193</td>\n",
       "    </tr>\n",
       "    <tr>\n",
       "      <th>34</th>\n",
       "      <td>37</td>\n",
       "      <td>Richard Nixon</td>\n",
       "      <td>182</td>\n",
       "    </tr>\n",
       "    <tr>\n",
       "      <th>35</th>\n",
       "      <td>38</td>\n",
       "      <td>Gerald Ford</td>\n",
       "      <td>183</td>\n",
       "    </tr>\n",
       "    <tr>\n",
       "      <th>36</th>\n",
       "      <td>39</td>\n",
       "      <td>Jimmy Carter</td>\n",
       "      <td>177</td>\n",
       "    </tr>\n",
       "    <tr>\n",
       "      <th>37</th>\n",
       "      <td>40</td>\n",
       "      <td>Ronald Reagan</td>\n",
       "      <td>185</td>\n",
       "    </tr>\n",
       "    <tr>\n",
       "      <th>38</th>\n",
       "      <td>41</td>\n",
       "      <td>George H. W. Bush</td>\n",
       "      <td>188</td>\n",
       "    </tr>\n",
       "    <tr>\n",
       "      <th>39</th>\n",
       "      <td>42</td>\n",
       "      <td>Bill Clinton</td>\n",
       "      <td>188</td>\n",
       "    </tr>\n",
       "    <tr>\n",
       "      <th>40</th>\n",
       "      <td>43</td>\n",
       "      <td>George W. Bush</td>\n",
       "      <td>182</td>\n",
       "    </tr>\n",
       "    <tr>\n",
       "      <th>41</th>\n",
       "      <td>44</td>\n",
       "      <td>Barack Obama</td>\n",
       "      <td>185</td>\n",
       "    </tr>\n",
       "    <tr>\n",
       "      <th>42</th>\n",
       "      <td>45</td>\n",
       "      <td>Donald Trump</td>\n",
       "      <td>191</td>\n",
       "    </tr>\n",
       "    <tr>\n",
       "      <th>43</th>\n",
       "      <td>46</td>\n",
       "      <td>Joseph Biden</td>\n",
       "      <td>182</td>\n",
       "    </tr>\n",
       "  </tbody>\n",
       "</table>\n",
       "</div>"
      ]
     },
     "execution_count": 8,
     "metadata": {},
     "output_type": "execute_result"
    }
   ],
   "execution_count": 8
  },
  {
   "metadata": {
    "ExecuteTime": {
     "end_time": "2024-08-31T07:26:24.743221Z",
     "start_time": "2024-08-31T07:26:24.738072Z"
    }
   },
   "cell_type": "code",
   "source": [
    "print(heights)\n",
    "\n",
    "print('Mean height: ', heights.mean())\n",
    "print('Standard deviation: ', heights.std())\n",
    "print('Minimum height: ', heights.min())\n",
    "print('Maximum height: ', heights.max())"
   ],
   "id": "fb8cca56231ac140",
   "outputs": [
    {
     "name": "stdout",
     "output_type": "stream",
     "text": [
      "[189 170 189 163 183 171 185 168 173 183 173 173 175 178 183 193 178 173\n",
      " 174 183 183 168 170 178 182 180 183 178 182 188 175 179 183 193 182 183\n",
      " 177 185 188 188 182 185 191 182]\n",
      "Mean height:  180.04545454545453\n",
      "Standard deviation:  6.983599441335736\n",
      "Minimum height:  163\n",
      "Maximum height:  193\n"
     ]
    }
   ],
   "execution_count": 11
  },
  {
   "metadata": {
    "ExecuteTime": {
     "end_time": "2024-08-31T07:28:27.552570Z",
     "start_time": "2024-08-31T07:28:25.013685Z"
    }
   },
   "cell_type": "code",
   "source": [
    "%matplotlib inline\n",
    "import matplotlib.pyplot as plt\n",
    "import seaborn; seaborn.set()\n",
    "\n",
    "plt.hist(heights)\n",
    "plt.title('Height Distribution of US Presidents')\n",
    "plt.xlabel('Height (cm)')\n",
    "plt.ylabel('number')"
   ],
   "id": "d130ea90c8e89e0a",
   "outputs": [
    {
     "data": {
      "text/plain": [
       "Text(0, 0.5, 'number')"
      ]
     },
     "execution_count": 12,
     "metadata": {},
     "output_type": "execute_result"
    },
    {
     "data": {
      "text/plain": [
       "<Figure size 640x480 with 1 Axes>"
      ],
      "image/png": "[encoded data removed]"
     },
     "metadata": {},
     "output_type": "display_data"
    }
   ],
   "execution_count": 12
  },
  {
   "metadata": {},
   "cell_type": "markdown",
   "source": [
    "<h1> 배열 연산: 브로드캐스팅\n",
    "<h3> 브로드캐스팅 규칙\n",
    "\n",
    "* 두 배열의 차원 수가 다르면 더 작은 수의 차원을 가진 배열 형상의 앞쪽(왼쪽)을 1로 채운다\n",
    "* 두 배열의 형상이 어떤 차원에서도 일치하지 않는다면 해당 차원의 형상이 1인 배열이 다른 형상과 일치하도록 늘어난다\n",
    "* 임의의 차원에서 크기가 일치하지 않고 1도 아니라면 오류가 발생한다"
   ],
   "id": "185f2321d9b0e8b9"
  },
  {
   "metadata": {
    "ExecuteTime": {
     "end_time": "2024-08-31T08:00:14.835040Z",
     "start_time": "2024-08-31T08:00:14.830888Z"
    }
   },
   "cell_type": "code",
   "source": [
    "a = np.array([0, 1, 2])\n",
    "b = np.array([5, 5, 5])\n",
    "\n",
    "print(a + b)\n",
    "print(a + 5)\n"
   ],
   "id": "c7b8372c3ca506dd",
   "outputs": [
    {
     "name": "stdout",
     "output_type": "stream",
     "text": [
      "[5 6 7]\n",
      "[5 6 7]\n"
     ]
    }
   ],
   "execution_count": 14
  },
  {
   "metadata": {
    "ExecuteTime": {
     "end_time": "2024-08-31T08:00:35.086062Z",
     "start_time": "2024-08-31T08:00:35.080986Z"
    }
   },
   "cell_type": "code",
   "source": [
    "M = np.ones((3, 3))\n",
    "print(M)\n",
    "\n",
    "# a 는 1차원 배열이지만 2차원으로 확장해서 더해준다\n",
    "print(M + a)"
   ],
   "id": "33c9b42843415e3f",
   "outputs": [
    {
     "name": "stdout",
     "output_type": "stream",
     "text": [
      "[[1. 1. 1.]\n",
      " [1. 1. 1.]\n",
      " [1. 1. 1.]]\n",
      "[[1. 2. 3.]\n",
      " [1. 2. 3.]\n",
      " [1. 2. 3.]]\n"
     ]
    }
   ],
   "execution_count": 15
  },
  {
   "metadata": {
    "ExecuteTime": {
     "end_time": "2024-08-31T08:04:35.447419Z",
     "start_time": "2024-08-31T08:04:35.442995Z"
    }
   },
   "cell_type": "code",
   "source": [
    "# 예 1\n",
    "M = np.ones((2, 3))\n",
    "a = np.arange(3)\n",
    "# M.shape(2, 3), a.shape(3, )이므로 규칙 1에 따라 a.shape(1, 3)이 된다\n",
    "# 규칙 2에따라 첫 번째 차원이 일치하지 않으므로 이 차원이 일치하도록 늘린다 a.shape(2, 3)\n",
    "M + a"
   ],
   "id": "4a84361044612e4d",
   "outputs": [
    {
     "data": {
      "text/plain": [
       "array([[1., 2., 3.],\n",
       "       [1., 2., 3.]])"
      ]
     },
     "execution_count": 16,
     "metadata": {},
     "output_type": "execute_result"
    }
   ],
   "execution_count": 16
  },
  {
   "metadata": {
    "ExecuteTime": {
     "end_time": "2024-08-31T08:07:39.525037Z",
     "start_time": "2024-08-31T08:07:39.518721Z"
    }
   },
   "cell_type": "code",
   "source": [
    "# 예 2\n",
    "a = np.arange(3).reshape((3, 1))\n",
    "b = np.arange(3)\n",
    "\n",
    "# a.shape(3, 1), b.shape(3, )이다 규칙 1에 따라 b.shape(1, 3)이 되야한다\n",
    "# 규칙 2에따라 첫 번째 차원이 일치하지 않으므로 각 차원이 일치하도록 늘린다 a.shape(3, 3) b.shape(3, 3)\n",
    "\n",
    "a + b "
   ],
   "id": "7724a960df8a97c3",
   "outputs": [
    {
     "data": {
      "text/plain": [
       "array([[0, 1, 2],\n",
       "       [1, 2, 3],\n",
       "       [2, 3, 4]])"
      ]
     },
     "execution_count": 18,
     "metadata": {},
     "output_type": "execute_result"
    }
   ],
   "execution_count": 18
  },
  {
   "metadata": {
    "ExecuteTime": {
     "end_time": "2024-08-31T08:10:29.945463Z",
     "start_time": "2024-08-31T08:10:29.894082Z"
    }
   },
   "cell_type": "code",
   "source": [
    "# 예 3\n",
    "M = np.ones((3, 2))\n",
    "a = np.arange(3)\n",
    "\n",
    "# M.shape(3, 2), a.shape(3, )이고 규칙 1에 따라 a.shape(1, 3)이 된다\n",
    "# 규칙 2에 따라 a의 첫 번째 차원을 M의 첫 번째 차원과 일치하도록 늘린다. M.shape(3, 2), a.shape(3, 3)\n",
    "# 규칙 3에 따라 최종 현상이 서로 일치하지 않으므로 오류다\n",
    "\n",
    "M + a"
   ],
   "id": "2927a19202191418",
   "outputs": [
    {
     "ename": "ValueError",
     "evalue": "operands could not be broadcast together with shapes (3,2) (3,) ",
     "output_type": "error",
     "traceback": [
      "\u001B[0;31m---------------------------------------------------------------------------\u001B[0m",
      "\u001B[0;31mValueError\u001B[0m                                Traceback (most recent call last)",
      "Cell \u001B[0;32mIn[19], line 8\u001B[0m\n\u001B[1;32m      3\u001B[0m a \u001B[38;5;241m=\u001B[39m np\u001B[38;5;241m.\u001B[39marange(\u001B[38;5;241m3\u001B[39m)\n\u001B[1;32m      5\u001B[0m \u001B[38;5;66;03m# M.shape(3, 2), a.shape(3, )이고 규칙 1에 따라 a.shape(1, 3)이 된다\u001B[39;00m\n\u001B[1;32m      6\u001B[0m \u001B[38;5;66;03m# 규칙 2에 따라 a의 첫 번째 차원을 M의 첫 번째 차원과 일치하도록 늘린다. M.shape(3, 2), a.shape(3, 3)\u001B[39;00m\n\u001B[0;32m----> 8\u001B[0m M \u001B[38;5;241m+\u001B[39m a\n",
      "\u001B[0;31mValueError\u001B[0m: operands could not be broadcast together with shapes (3,2) (3,) "
     ]
    }
   ],
   "execution_count": 19
  },
  {
   "metadata": {},
   "cell_type": "markdown",
   "source": "<h2> 브로드캐스트 실전",
   "id": "79fbcba61f3e38fc"
  },
  {
   "metadata": {},
   "cell_type": "markdown",
   "source": "<h3> 배열을 중앙 정렬하기",
   "id": "cb883ee7a0771a5d"
  },
  {
   "metadata": {
    "ExecuteTime": {
     "end_time": "2024-08-31T08:14:34.449227Z",
     "start_time": "2024-08-31T08:14:34.446463Z"
    }
   },
   "cell_type": "code",
   "source": [
    "X = np.random.random((10, 3))\n",
    "print(X)\n",
    "\n",
    "Xmean = X.mean(0)\n",
    "print(Xmean)\n",
    "\n",
    "X_centered = X - Xmean\n",
    "print(X_centered)\n",
    "\n",
    "print(X_centered.mean(0))"
   ],
   "id": "3892b327a7d46f15",
   "outputs": [
    {
     "name": "stdout",
     "output_type": "stream",
     "text": [
      "[[0.00789037 0.39514276 0.36327634]\n",
      " [0.23809766 0.58117392 0.21884446]\n",
      " [0.91439706 0.44125165 0.86388888]\n",
      " [0.5756018  0.16558318 0.68611709]\n",
      " [0.10795797 0.61824215 0.39757061]\n",
      " [0.98331641 0.27808281 0.21099626]\n",
      " [0.57363082 0.60644253 0.42235193]\n",
      " [0.06001027 0.85952502 0.54008148]\n",
      " [0.60296285 0.98014221 0.16687503]\n",
      " [0.60491857 0.97667504 0.63425296]]\n",
      "[0.46687838 0.59022613 0.4504255 ]\n",
      "[[-0.45898801 -0.19508337 -0.08714916]\n",
      " [-0.22878072 -0.00905221 -0.23158105]\n",
      " [ 0.44751868 -0.14897448  0.41346337]\n",
      " [ 0.10872342 -0.42464294  0.23569159]\n",
      " [-0.35892041  0.02801602 -0.05285489]\n",
      " [ 0.51643804 -0.31214332 -0.23942925]\n",
      " [ 0.10675244  0.01621641 -0.02807357]\n",
      " [-0.40686811  0.26929889  0.08965598]\n",
      " [ 0.13608448  0.38991608 -0.28355047]\n",
      " [ 0.13804019  0.38644891  0.18382746]]\n",
      "[-7.77156117e-17  6.66133815e-17 -5.55111512e-17]\n"
     ]
    }
   ],
   "execution_count": 25
  },
  {
   "metadata": {},
   "cell_type": "markdown",
   "source": "<h3> 2차원 함수 플로팅하기",
   "id": "cb94bd94a19f974a"
  },
  {
   "metadata": {
    "ExecuteTime": {
     "end_time": "2024-08-31T08:17:45.988751Z",
     "start_time": "2024-08-31T08:17:45.986183Z"
    }
   },
   "cell_type": "code",
   "source": [
    "# x, y는 0에서 5까지 50단계로 나눈 배열이다\n",
    "x = np.linspace(0, 5, 50)\n",
    "y = np.linspace(0, 5, 50)[:, np.newaxis]\n",
    "z = np.sin(x) ** 10 + np.cos(10 + y * x) * np.cos(x)"
   ],
   "id": "e19e9396b1383c26",
   "outputs": [],
   "execution_count": 28
  },
  {
   "metadata": {
    "ExecuteTime": {
     "end_time": "2024-08-31T08:19:12.188338Z",
     "start_time": "2024-08-31T08:19:12.047732Z"
    }
   },
   "cell_type": "code",
   "source": [
    "%matplotlib inline\n",
    "import matplotlib.pyplot as plt\n",
    "\n",
    "plt.imshow(z, origin='lower', extent=[0, 5, 0, 5], cmap='viridis')\n",
    "plt.colorbar()"
   ],
   "id": "50f4867cd8763062",
   "outputs": [
    {
     "data": {
      "text/plain": [
       "<matplotlib.colorbar.Colorbar at 0x16be58290>"
      ]
     },
     "execution_count": 30,
     "metadata": {},
     "output_type": "execute_result"
    },
    {
     "data": {
      "text/plain": [
       "<Figure size 640x480 with 2 Axes>"
      ],
      "image/png": "[encoded data removed]"
     },
     "metadata": {},
     "output_type": "display_data"
    }
   ],
   "execution_count": 30
  },
  {
   "metadata": {},
   "cell_type": "markdown",
   "source": [
    "<h1> 비교, 마스크, 부울 로직\n",
    "<h3> 마스킹은 특정 기준에 따라 배열의 값을 추출하거나 수정, 계산, 조작할 때 사용한다"
   ],
   "id": "14cebb7487289a97"
  },
  {
   "metadata": {
    "ExecuteTime": {
     "end_time": "2024-08-31T08:35:42.456970Z",
     "start_time": "2024-08-31T08:35:42.454135Z"
    }
   },
   "cell_type": "code",
   "source": [
    "x = np.arange(6)\n",
    "print(x > 4)\n",
    "\n",
    "x = np.random.random((3, 3))\n",
    "print(x > 0.5)"
   ],
   "id": "4fd35fbd1a6f0183",
   "outputs": [
    {
     "name": "stdout",
     "output_type": "stream",
     "text": [
      "[False False False False False  True]\n",
      "[[ True False  True]\n",
      " [False  True  True]\n",
      " [False  True False]]\n"
     ]
    }
   ],
   "execution_count": 51
  },
  {
   "metadata": {
    "ExecuteTime": {
     "end_time": "2024-08-31T08:37:56.332231Z",
     "start_time": "2024-08-31T08:37:56.330119Z"
    }
   },
   "cell_type": "code",
   "source": [
    "# 요소 개수 세기\n",
    "x = np.arange(10)\n",
    "np.count_nonzero(x > 6)\n",
    "\n",
    "# 6보다 큰 값이 하나라도 있는가?\n",
    "print(np.any(x > 6))\n",
    "\n",
    "# 모든 값이 10보다 작은가?\n",
    "print(np.any(x < 10))"
   ],
   "id": "20edc62266fdffa0",
   "outputs": [
    {
     "name": "stdout",
     "output_type": "stream",
     "text": [
      "True\n",
      "True\n"
     ]
    }
   ],
   "execution_count": 53
  },
  {
   "metadata": {},
   "cell_type": "markdown",
   "source": [
    "<h3> 부울 연산자\n",
    "<h4>\n",
    "\n",
    "* & : and\n",
    "* | : or\n",
    "* ^ : Xor\n",
    "* ~ : Not"
   ],
   "id": "6223aa0ddaf51d3e"
  },
  {
   "metadata": {
    "ExecuteTime": {
     "end_time": "2024-08-31T08:41:19.908924Z",
     "start_time": "2024-08-31T08:41:19.903445Z"
    }
   },
   "cell_type": "code",
   "source": [
    "X = np.random.random((3, 3))\n",
    "\n",
    "print(X < 0.2)\n",
    "\n",
    "# 배열 bool, 마스킹 연산\n",
    "print(X[X < 0.2])"
   ],
   "id": "d470c7fa91b374d8",
   "outputs": [
    {
     "name": "stdout",
     "output_type": "stream",
     "text": [
      "[[False False  True]\n",
      " [False False False]\n",
      " [False False False]]\n",
      "[0.05477986]\n"
     ]
    }
   ],
   "execution_count": 58
  },
  {
   "metadata": {},
   "cell_type": "markdown",
   "source": "<h3> 팬시 인덱싱",
   "id": "14cbeba2870162af"
  },
  {
   "metadata": {
    "ExecuteTime": {
     "end_time": "2024-08-31T08:44:59.639545Z",
     "start_time": "2024-08-31T08:44:59.635499Z"
    }
   },
   "cell_type": "code",
   "source": [
    "rand = np.random.RandomState(42)\n",
    "x = rand.randint(100, size=10)\n",
    "print(x)"
   ],
   "id": "740608b4548a7534",
   "outputs": [
    {
     "name": "stdout",
     "output_type": "stream",
     "text": [
      "[51 92 14 71 60 20 82 86 74 74]\n"
     ]
    }
   ],
   "execution_count": 60
  },
  {
   "metadata": {
    "ExecuteTime": {
     "end_time": "2024-08-31T08:46:52.360974Z",
     "start_time": "2024-08-31T08:46:52.358031Z"
    }
   },
   "cell_type": "code",
   "source": [
    "# 세 개의 요소 접근\n",
    "print([x[3], x[7], x[2]])\n",
    "\n",
    "# 배열 전달로 요소 접근\n",
    "idx = [3, 7, 4]\n",
    "print(x[idx])\n",
    "\n",
    "# 팬시 인덱싱을 이용하면 결과의 형상이 인덱싱 대상 배열의 형상이 아니라 인덱스 배열의 형상을 반영한다\n",
    "idx = np.array([[3, 7], [4, 5]])\n",
    "x[idx]"
   ],
   "id": "3b072193d73cae59",
   "outputs": [
    {
     "name": "stdout",
     "output_type": "stream",
     "text": [
      "[71, 86, 14]\n",
      "[71 86 60]\n"
     ]
    },
    {
     "data": {
      "text/plain": [
       "array([[71, 86],\n",
       "       [60, 20]])"
      ]
     },
     "execution_count": 63,
     "metadata": {},
     "output_type": "execute_result"
    }
   ],
   "execution_count": 63
  },
  {
   "metadata": {},
   "cell_type": "markdown",
   "source": "<h3> 임의의 점 선택하기",
   "id": "ed3d78a85a6d5436"
  },
  {
   "metadata": {
    "ExecuteTime": {
     "end_time": "2024-08-31T08:50:07.232905Z",
     "start_time": "2024-08-31T08:50:07.226891Z"
    }
   },
   "cell_type": "code",
   "source": [
    "mean = [0,0]\n",
    "cov = [[1, 2], [2, 5]]\n",
    "\n",
    "X = rand.multivariate_normal(mean, cov, 100)\n",
    "X.shape"
   ],
   "id": "57a64079f66802b4",
   "outputs": [
    {
     "data": {
      "text/plain": [
       "(100, 2)"
      ]
     },
     "execution_count": 64,
     "metadata": {},
     "output_type": "execute_result"
    }
   ],
   "execution_count": 64
  },
  {
   "metadata": {
    "ExecuteTime": {
     "end_time": "2024-08-31T08:50:39.670269Z",
     "start_time": "2024-08-31T08:50:39.562027Z"
    }
   },
   "cell_type": "code",
   "source": [
    "%matplotlib inline\n",
    "import matplotlib.pyplot as plt\n",
    "import seaborn; seaborn.set()\n",
    "\n",
    "# 정규 분포된 점들\n",
    "plt.scatter(X[:, 0], X[:, 1])"
   ],
   "id": "ba55e8e624bd3e2",
   "outputs": [
    {
     "data": {
      "text/plain": [
       "<matplotlib.collections.PathCollection at 0x16bed0620>"
      ]
     },
     "execution_count": 65,
     "metadata": {},
     "output_type": "execute_result"
    },
    {
     "data": {
      "text/plain": [
       "<Figure size 640x480 with 1 Axes>"
      ],
      "image/png": "[encoded data removed]"
     },
     "metadata": {},
     "output_type": "display_data"
    }
   ],
   "execution_count": 65
  },
  {
   "metadata": {
    "ExecuteTime": {
     "end_time": "2024-08-31T08:55:10.339330Z",
     "start_time": "2024-08-31T08:55:10.334803Z"
    }
   },
   "cell_type": "code",
   "source": [
    "# 팬시 인덱싱을 통해 임의의 점 20개 선택하자\n",
    "indices = np.random.choice(X.shape[0], 20, replace=False)\n",
    "print(indices)\n",
    "\n",
    "selection = X[indices] # 팬싱 인덱싱 사용\n",
    "selection.shape"
   ],
   "id": "fc71807cf390ff53",
   "outputs": [
    {
     "name": "stdout",
     "output_type": "stream",
     "text": [
      "[56 50 45  1 33 71 51 10 90 79 67 40 38 81 26 17 88 13  4 11]\n"
     ]
    },
    {
     "data": {
      "text/plain": [
       "(20, 2)"
      ]
     },
     "execution_count": 68,
     "metadata": {},
     "output_type": "execute_result"
    }
   ],
   "execution_count": 68
  },
  {
   "metadata": {
    "ExecuteTime": {
     "end_time": "2024-08-31T08:58:25.063948Z",
     "start_time": "2024-08-31T08:58:24.969119Z"
    }
   },
   "cell_type": "code",
   "source": [
    "plt.scatter(X[:, 0], X[:, 1], alpha=0.3)\n",
    "plt.scatter(selection[:, 0], selection[:, 1], facecolor='red', s=10)"
   ],
   "id": "d901fee204a668ba",
   "outputs": [
    {
     "data": {
      "text/plain": [
       "<matplotlib.collections.PathCollection at 0x16f8fa270>"
      ]
     },
     "execution_count": 80,
     "metadata": {},
     "output_type": "execute_result"
    },
    {
     "data": {
      "text/plain": [
       "<Figure size 640x480 with 1 Axes>"
      ],
      "image/png": "[encoded data removed]"
     },
     "metadata": {},
     "output_type": "display_data"
    }
   ],
   "execution_count": 80
  },
  {
   "metadata": {},
   "cell_type": "code",
   "outputs": [],
   "execution_count": null,
   "source": "",
   "id": "4434120ea9439fff"
  }
 ],
 "metadata": {
  "kernelspec": {
   "display_name": "Python 3",
   "language": "python",
   "name": "python3"
  },
  "language_info": {
   "codemirror_mode": {
    "name": "ipython",
    "version": 2
   },
   "file_extension": ".py",
   "mimetype": "text/x-python",
   "name": "python",
   "nbconvert_exporter": "python",
   "pygments_lexer": "ipython2",
   "version": "2.7.6"
  }
 },
 "nbformat": 4,
 "nbformat_minor": 5
}
