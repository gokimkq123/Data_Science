{
 "cells": [
  {
   "metadata": {},
   "cell_type": "markdown",
   "source": "<h1> 예제 미국 대통령이 평균 신장은 얼마일까?",
   "id": "1009ce05e746d439"
  },
  {
   "cell_type": "code",
   "id": "initial_id",
   "metadata": {
    "collapsed": true,
    "ExecuteTime": {
     "end_time": "2024-08-31T14:37:19.350263Z",
     "start_time": "2024-08-31T14:37:19.216823Z"
    }
   },
   "source": [
    "from matplotlib.lines import drawStyles\n",
    "from sympy import series\n",
    "from sympy.physics.units import inches\n",
    "!head -4 ./president_heights.csv"
   ],
   "outputs": [
    {
     "name": "stdout",
     "output_type": "stream",
     "text": [
      "order,name,height(cm)\r\n",
      "1,George Washington,189\r\n",
      "2,John Adams,170\r\n",
      "3,Thomas Jefferson,189\r\n"
     ]
    }
   ],
   "execution_count": 2
  },
  {
   "metadata": {
    "ExecuteTime": {
     "end_time": "2024-08-31T14:37:19.397579Z",
     "start_time": "2024-08-31T14:37:19.395642Z"
    }
   },
   "cell_type": "code",
   "source": [
    "import pandas as pd\n",
    "import numpy as np"
   ],
   "id": "88d484bb05eab0ec",
   "outputs": [],
   "execution_count": 3
  },
  {
   "metadata": {
    "ExecuteTime": {
     "end_time": "2024-08-31T07:23:08.947582Z",
     "start_time": "2024-08-31T07:23:08.940784Z"
    }
   },
   "cell_type": "code",
   "source": [
    "data = pd.read_csv('./president_heights.csv')\n",
    "heights = np.array(data['height(cm)'])\n",
    "\n",
    "data"
   ],
   "id": "56808ef237aa1e7f",
   "outputs": [
    {
     "data": {
      "text/plain": [
       "    order                    name  height(cm)\n",
       "0       1       George Washington         189\n",
       "1       2              John Adams         170\n",
       "2       3        Thomas Jefferson         189\n",
       "3       4           James Madison         163\n",
       "4       5            James Monroe         183\n",
       "5       6       John Quincy Adams         171\n",
       "6       7          Andrew Jackson         185\n",
       "7       8        Martin Van Buren         168\n",
       "8       9  William Henry Harrison         173\n",
       "9      10              John Tyler         183\n",
       "10     11           James K. Polk         173\n",
       "11     12          Zachary Taylor         173\n",
       "12     13        Millard Fillmore         175\n",
       "13     14         Franklin Pierce         178\n",
       "14     15          James Buchanan         183\n",
       "15     16         Abraham Lincoln         193\n",
       "16     17          Andrew Johnson         178\n",
       "17     18        Ulysses S. Grant         173\n",
       "18     19     Rutherford B. Hayes         174\n",
       "19     20       James A. Garfield         183\n",
       "20     21       Chester A. Arthur         183\n",
       "21     23       Benjamin Harrison         168\n",
       "22     25        William McKinley         170\n",
       "23     26      Theodore Roosevelt         178\n",
       "24     27     William Howard Taft         182\n",
       "25     28          Woodrow Wilson         180\n",
       "26     29       Warren G. Harding         183\n",
       "27     30         Calvin Coolidge         178\n",
       "28     31          Herbert Hoover         182\n",
       "29     32   Franklin D. Roosevelt         188\n",
       "30     33         Harry S. Truman         175\n",
       "31     34    Dwight D. Eisenhower         179\n",
       "32     35         John F. Kennedy         183\n",
       "33     36       Lyndon B. Johnson         193\n",
       "34     37           Richard Nixon         182\n",
       "35     38             Gerald Ford         183\n",
       "36     39            Jimmy Carter         177\n",
       "37     40           Ronald Reagan         185\n",
       "38     41       George H. W. Bush         188\n",
       "39     42            Bill Clinton         188\n",
       "40     43          George W. Bush         182\n",
       "41     44            Barack Obama         185\n",
       "42     45            Donald Trump         191\n",
       "43     46            Joseph Biden         182"
      ],
      "text/html": [
       "<div>\n",
       "<style scoped>\n",
       "    .dataframe tbody tr th:only-of-type {\n",
       "        vertical-align: middle;\n",
       "    }\n",
       "\n",
       "    .dataframe tbody tr th {\n",
       "        vertical-align: top;\n",
       "    }\n",
       "\n",
       "    .dataframe thead th {\n",
       "        text-align: right;\n",
       "    }\n",
       "</style>\n",
       "<table border=\"1\" class=\"dataframe\">\n",
       "  <thead>\n",
       "    <tr style=\"text-align: right;\">\n",
       "      <th></th>\n",
       "      <th>order</th>\n",
       "      <th>name</th>\n",
       "      <th>height(cm)</th>\n",
       "    </tr>\n",
       "  </thead>\n",
       "  <tbody>\n",
       "    <tr>\n",
       "      <th>0</th>\n",
       "      <td>1</td>\n",
       "      <td>George Washington</td>\n",
       "      <td>189</td>\n",
       "    </tr>\n",
       "    <tr>\n",
       "      <th>1</th>\n",
       "      <td>2</td>\n",
       "      <td>John Adams</td>\n",
       "      <td>170</td>\n",
       "    </tr>\n",
       "    <tr>\n",
       "      <th>2</th>\n",
       "      <td>3</td>\n",
       "      <td>Thomas Jefferson</td>\n",
       "      <td>189</td>\n",
       "    </tr>\n",
       "    <tr>\n",
       "      <th>3</th>\n",
       "      <td>4</td>\n",
       "      <td>James Madison</td>\n",
       "      <td>163</td>\n",
       "    </tr>\n",
       "    <tr>\n",
       "      <th>4</th>\n",
       "      <td>5</td>\n",
       "      <td>James Monroe</td>\n",
       "      <td>183</td>\n",
       "    </tr>\n",
       "    <tr>\n",
       "      <th>5</th>\n",
       "      <td>6</td>\n",
       "      <td>John Quincy Adams</td>\n",
       "      <td>171</td>\n",
       "    </tr>\n",
       "    <tr>\n",
       "      <th>6</th>\n",
       "      <td>7</td>\n",
       "      <td>Andrew Jackson</td>\n",
       "      <td>185</td>\n",
       "    </tr>\n",
       "    <tr>\n",
       "      <th>7</th>\n",
       "      <td>8</td>\n",
       "      <td>Martin Van Buren</td>\n",
       "      <td>168</td>\n",
       "    </tr>\n",
       "    <tr>\n",
       "      <th>8</th>\n",
       "      <td>9</td>\n",
       "      <td>William Henry Harrison</td>\n",
       "      <td>173</td>\n",
       "    </tr>\n",
       "    <tr>\n",
       "      <th>9</th>\n",
       "      <td>10</td>\n",
       "      <td>John Tyler</td>\n",
       "      <td>183</td>\n",
       "    </tr>\n",
       "    <tr>\n",
       "      <th>10</th>\n",
       "      <td>11</td>\n",
       "      <td>James K. Polk</td>\n",
       "      <td>173</td>\n",
       "    </tr>\n",
       "    <tr>\n",
       "      <th>11</th>\n",
       "      <td>12</td>\n",
       "      <td>Zachary Taylor</td>\n",
       "      <td>173</td>\n",
       "    </tr>\n",
       "    <tr>\n",
       "      <th>12</th>\n",
       "      <td>13</td>\n",
       "      <td>Millard Fillmore</td>\n",
       "      <td>175</td>\n",
       "    </tr>\n",
       "    <tr>\n",
       "      <th>13</th>\n",
       "      <td>14</td>\n",
       "      <td>Franklin Pierce</td>\n",
       "      <td>178</td>\n",
       "    </tr>\n",
       "    <tr>\n",
       "      <th>14</th>\n",
       "      <td>15</td>\n",
       "      <td>James Buchanan</td>\n",
       "      <td>183</td>\n",
       "    </tr>\n",
       "    <tr>\n",
       "      <th>15</th>\n",
       "      <td>16</td>\n",
       "      <td>Abraham Lincoln</td>\n",
       "      <td>193</td>\n",
       "    </tr>\n",
       "    <tr>\n",
       "      <th>16</th>\n",
       "      <td>17</td>\n",
       "      <td>Andrew Johnson</td>\n",
       "      <td>178</td>\n",
       "    </tr>\n",
       "    <tr>\n",
       "      <th>17</th>\n",
       "      <td>18</td>\n",
       "      <td>Ulysses S. Grant</td>\n",
       "      <td>173</td>\n",
       "    </tr>\n",
       "    <tr>\n",
       "      <th>18</th>\n",
       "      <td>19</td>\n",
       "      <td>Rutherford B. Hayes</td>\n",
       "      <td>174</td>\n",
       "    </tr>\n",
       "    <tr>\n",
       "      <th>19</th>\n",
       "      <td>20</td>\n",
       "      <td>James A. Garfield</td>\n",
       "      <td>183</td>\n",
       "    </tr>\n",
       "    <tr>\n",
       "      <th>20</th>\n",
       "      <td>21</td>\n",
       "      <td>Chester A. Arthur</td>\n",
       "      <td>183</td>\n",
       "    </tr>\n",
       "    <tr>\n",
       "      <th>21</th>\n",
       "      <td>23</td>\n",
       "      <td>Benjamin Harrison</td>\n",
       "      <td>168</td>\n",
       "    </tr>\n",
       "    <tr>\n",
       "      <th>22</th>\n",
       "      <td>25</td>\n",
       "      <td>William McKinley</td>\n",
       "      <td>170</td>\n",
       "    </tr>\n",
       "    <tr>\n",
       "      <th>23</th>\n",
       "      <td>26</td>\n",
       "      <td>Theodore Roosevelt</td>\n",
       "      <td>178</td>\n",
       "    </tr>\n",
       "    <tr>\n",
       "      <th>24</th>\n",
       "      <td>27</td>\n",
       "      <td>William Howard Taft</td>\n",
       "      <td>182</td>\n",
       "    </tr>\n",
       "    <tr>\n",
       "      <th>25</th>\n",
       "      <td>28</td>\n",
       "      <td>Woodrow Wilson</td>\n",
       "      <td>180</td>\n",
       "    </tr>\n",
       "    <tr>\n",
       "      <th>26</th>\n",
       "      <td>29</td>\n",
       "      <td>Warren G. Harding</td>\n",
       "      <td>183</td>\n",
       "    </tr>\n",
       "    <tr>\n",
       "      <th>27</th>\n",
       "      <td>30</td>\n",
       "      <td>Calvin Coolidge</td>\n",
       "      <td>178</td>\n",
       "    </tr>\n",
       "    <tr>\n",
       "      <th>28</th>\n",
       "      <td>31</td>\n",
       "      <td>Herbert Hoover</td>\n",
       "      <td>182</td>\n",
       "    </tr>\n",
       "    <tr>\n",
       "      <th>29</th>\n",
       "      <td>32</td>\n",
       "      <td>Franklin D. Roosevelt</td>\n",
       "      <td>188</td>\n",
       "    </tr>\n",
       "    <tr>\n",
       "      <th>30</th>\n",
       "      <td>33</td>\n",
       "      <td>Harry S. Truman</td>\n",
       "      <td>175</td>\n",
       "    </tr>\n",
       "    <tr>\n",
       "      <th>31</th>\n",
       "      <td>34</td>\n",
       "      <td>Dwight D. Eisenhower</td>\n",
       "      <td>179</td>\n",
       "    </tr>\n",
       "    <tr>\n",
       "      <th>32</th>\n",
       "      <td>35</td>\n",
       "      <td>John F. Kennedy</td>\n",
       "      <td>183</td>\n",
       "    </tr>\n",
       "    <tr>\n",
       "      <th>33</th>\n",
       "      <td>36</td>\n",
       "      <td>Lyndon B. Johnson</td>\n",
       "      <td>193</td>\n",
       "    </tr>\n",
       "    <tr>\n",
       "      <th>34</th>\n",
       "      <td>37</td>\n",
       "      <td>Richard Nixon</td>\n",
       "      <td>182</td>\n",
       "    </tr>\n",
       "    <tr>\n",
       "      <th>35</th>\n",
       "      <td>38</td>\n",
       "      <td>Gerald Ford</td>\n",
       "      <td>183</td>\n",
       "    </tr>\n",
       "    <tr>\n",
       "      <th>36</th>\n",
       "      <td>39</td>\n",
       "      <td>Jimmy Carter</td>\n",
       "      <td>177</td>\n",
       "    </tr>\n",
       "    <tr>\n",
       "      <th>37</th>\n",
       "      <td>40</td>\n",
       "      <td>Ronald Reagan</td>\n",
       "      <td>185</td>\n",
       "    </tr>\n",
       "    <tr>\n",
       "      <th>38</th>\n",
       "      <td>41</td>\n",
       "      <td>George H. W. Bush</td>\n",
       "      <td>188</td>\n",
       "    </tr>\n",
       "    <tr>\n",
       "      <th>39</th>\n",
       "      <td>42</td>\n",
       "      <td>Bill Clinton</td>\n",
       "      <td>188</td>\n",
       "    </tr>\n",
       "    <tr>\n",
       "      <th>40</th>\n",
       "      <td>43</td>\n",
       "      <td>George W. Bush</td>\n",
       "      <td>182</td>\n",
       "    </tr>\n",
       "    <tr>\n",
       "      <th>41</th>\n",
       "      <td>44</td>\n",
       "      <td>Barack Obama</td>\n",
       "      <td>185</td>\n",
       "    </tr>\n",
       "    <tr>\n",
       "      <th>42</th>\n",
       "      <td>45</td>\n",
       "      <td>Donald Trump</td>\n",
       "      <td>191</td>\n",
       "    </tr>\n",
       "    <tr>\n",
       "      <th>43</th>\n",
       "      <td>46</td>\n",
       "      <td>Joseph Biden</td>\n",
       "      <td>182</td>\n",
       "    </tr>\n",
       "  </tbody>\n",
       "</table>\n",
       "</div>"
      ]
     },
     "execution_count": 8,
     "metadata": {},
     "output_type": "execute_result"
    }
   ],
   "execution_count": 8
  },
  {
   "metadata": {
    "ExecuteTime": {
     "end_time": "2024-08-31T07:26:24.743221Z",
     "start_time": "2024-08-31T07:26:24.738072Z"
    }
   },
   "cell_type": "code",
   "source": [
    "print(heights)\n",
    "\n",
    "print('Mean height: ', heights.mean())\n",
    "print('Standard deviation: ', heights.std())\n",
    "print('Minimum height: ', heights.min())\n",
    "print('Maximum height: ', heights.max())"
   ],
   "id": "fb8cca56231ac140",
   "outputs": [
    {
     "name": "stdout",
     "output_type": "stream",
     "text": [
      "[189 170 189 163 183 171 185 168 173 183 173 173 175 178 183 193 178 173\n",
      " 174 183 183 168 170 178 182 180 183 178 182 188 175 179 183 193 182 183\n",
      " 177 185 188 188 182 185 191 182]\n",
      "Mean height:  180.04545454545453\n",
      "Standard deviation:  6.983599441335736\n",
      "Minimum height:  163\n",
      "Maximum height:  193\n"
     ]
    }
   ],
   "execution_count": 11
  },
  {
   "metadata": {
    "ExecuteTime": {
     "end_time": "2024-08-31T07:28:27.552570Z",
     "start_time": "2024-08-31T07:28:25.013685Z"
    }
   },
   "cell_type": "code",
   "source": [
    "%matplotlib inline\n",
    "import matplotlib.pyplot as plt\n",
    "import seaborn; seaborn.set()\n",
    "\n",
    "plt.hist(heights)\n",
    "plt.title('Height Distribution of US Presidents')\n",
    "plt.xlabel('Height (cm)')\n",
    "plt.ylabel('number')"
   ],
   "id": "d130ea90c8e89e0a",
   "outputs": [
    {
     "data": {
      "text/plain": [
       "Text(0, 0.5, 'number')"
      ]
     },
     "execution_count": 12,
     "metadata": {},
     "output_type": "execute_result"
    },
    {
     "data": {
      "text/plain": [
       "<Figure size 640x480 with 1 Axes>"
      ],
      "image/png": "[encoded data removed]"
     },
     "metadata": {},
     "output_type": "display_data"
    }
   ],
   "execution_count": 12
  },
  {
   "metadata": {},
   "cell_type": "markdown",
   "source": [
    "<h1> 배열 연산: 브로드캐스팅\n",
    "<h3> 브로드캐스팅 규칙\n",
    "\n",
    "* 두 배열의 차원 수가 다르면 더 작은 수의 차원을 가진 배열 형상의 앞쪽(왼쪽)을 1로 채운다\n",
    "* 두 배열의 형상이 어떤 차원에서도 일치하지 않는다면 해당 차원의 형상이 1인 배열이 다른 형상과 일치하도록 늘어난다\n",
    "* 임의의 차원에서 크기가 일치하지 않고 1도 아니라면 오류가 발생한다"
   ],
   "id": "185f2321d9b0e8b9"
  },
  {
   "metadata": {
    "ExecuteTime": {
     "end_time": "2024-08-31T08:00:14.835040Z",
     "start_time": "2024-08-31T08:00:14.830888Z"
    }
   },
   "cell_type": "code",
   "source": [
    "a = np.array([0, 1, 2])\n",
    "b = np.array([5, 5, 5])\n",
    "\n",
    "print(a + b)\n",
    "print(a + 5)\n"
   ],
   "id": "c7b8372c3ca506dd",
   "outputs": [
    {
     "name": "stdout",
     "output_type": "stream",
     "text": [
      "[5 6 7]\n",
      "[5 6 7]\n"
     ]
    }
   ],
   "execution_count": 14
  },
  {
   "metadata": {
    "ExecuteTime": {
     "end_time": "2024-08-31T08:00:35.086062Z",
     "start_time": "2024-08-31T08:00:35.080986Z"
    }
   },
   "cell_type": "code",
   "source": [
    "M = np.ones((3, 3))\n",
    "print(M)\n",
    "\n",
    "# a 는 1차원 배열이지만 2차원으로 확장해서 더해준다\n",
    "print(M + a)"
   ],
   "id": "33c9b42843415e3f",
   "outputs": [
    {
     "name": "stdout",
     "output_type": "stream",
     "text": [
      "[[1. 1. 1.]\n",
      " [1. 1. 1.]\n",
      " [1. 1. 1.]]\n",
      "[[1. 2. 3.]\n",
      " [1. 2. 3.]\n",
      " [1. 2. 3.]]\n"
     ]
    }
   ],
   "execution_count": 15
  },
  {
   "metadata": {
    "ExecuteTime": {
     "end_time": "2024-08-31T08:04:35.447419Z",
     "start_time": "2024-08-31T08:04:35.442995Z"
    }
   },
   "cell_type": "code",
   "source": [
    "# 예 1\n",
    "M = np.ones((2, 3))\n",
    "a = np.arange(3)\n",
    "# M.shape(2, 3), a.shape(3, )이므로 규칙 1에 따라 a.shape(1, 3)이 된다\n",
    "# 규칙 2에따라 첫 번째 차원이 일치하지 않으므로 이 차원이 일치하도록 늘린다 a.shape(2, 3)\n",
    "M + a"
   ],
   "id": "4a84361044612e4d",
   "outputs": [
    {
     "data": {
      "text/plain": [
       "array([[1., 2., 3.],\n",
       "       [1., 2., 3.]])"
      ]
     },
     "execution_count": 16,
     "metadata": {},
     "output_type": "execute_result"
    }
   ],
   "execution_count": 16
  },
  {
   "metadata": {
    "ExecuteTime": {
     "end_time": "2024-08-31T08:07:39.525037Z",
     "start_time": "2024-08-31T08:07:39.518721Z"
    }
   },
   "cell_type": "code",
   "source": [
    "# 예 2\n",
    "a = np.arange(3).reshape((3, 1))\n",
    "b = np.arange(3)\n",
    "\n",
    "# a.shape(3, 1), b.shape(3, )이다 규칙 1에 따라 b.shape(1, 3)이 되야한다\n",
    "# 규칙 2에따라 첫 번째 차원이 일치하지 않으므로 각 차원이 일치하도록 늘린다 a.shape(3, 3) b.shape(3, 3)\n",
    "\n",
    "a + b "
   ],
   "id": "7724a960df8a97c3",
   "outputs": [
    {
     "data": {
      "text/plain": [
       "array([[0, 1, 2],\n",
       "       [1, 2, 3],\n",
       "       [2, 3, 4]])"
      ]
     },
     "execution_count": 18,
     "metadata": {},
     "output_type": "execute_result"
    }
   ],
   "execution_count": 18
  },
  {
   "metadata": {
    "ExecuteTime": {
     "end_time": "2024-08-31T08:10:29.945463Z",
     "start_time": "2024-08-31T08:10:29.894082Z"
    }
   },
   "cell_type": "code",
   "source": [
    "# 예 3\n",
    "M = np.ones((3, 2))\n",
    "a = np.arange(3)\n",
    "\n",
    "# M.shape(3, 2), a.shape(3, )이고 규칙 1에 따라 a.shape(1, 3)이 된다\n",
    "# 규칙 2에 따라 a의 첫 번째 차원을 M의 첫 번째 차원과 일치하도록 늘린다. M.shape(3, 2), a.shape(3, 3)\n",
    "# 규칙 3에 따라 최종 현상이 서로 일치하지 않으므로 오류다\n",
    "\n",
    "M + a"
   ],
   "id": "2927a19202191418",
   "outputs": [
    {
     "ename": "ValueError",
     "evalue": "operands could not be broadcast together with shapes (3,2) (3,) ",
     "output_type": "error",
     "traceback": [
      "\u001B[0;31m---------------------------------------------------------------------------\u001B[0m",
      "\u001B[0;31mValueError\u001B[0m                                Traceback (most recent call last)",
      "Cell \u001B[0;32mIn[19], line 8\u001B[0m\n\u001B[1;32m      3\u001B[0m a \u001B[38;5;241m=\u001B[39m np\u001B[38;5;241m.\u001B[39marange(\u001B[38;5;241m3\u001B[39m)\n\u001B[1;32m      5\u001B[0m \u001B[38;5;66;03m# M.shape(3, 2), a.shape(3, )이고 규칙 1에 따라 a.shape(1, 3)이 된다\u001B[39;00m\n\u001B[1;32m      6\u001B[0m \u001B[38;5;66;03m# 규칙 2에 따라 a의 첫 번째 차원을 M의 첫 번째 차원과 일치하도록 늘린다. M.shape(3, 2), a.shape(3, 3)\u001B[39;00m\n\u001B[0;32m----> 8\u001B[0m M \u001B[38;5;241m+\u001B[39m a\n",
      "\u001B[0;31mValueError\u001B[0m: operands could not be broadcast together with shapes (3,2) (3,) "
     ]
    }
   ],
   "execution_count": 19
  },
  {
   "metadata": {},
   "cell_type": "markdown",
   "source": "<h2> 브로드캐스트 실전",
   "id": "79fbcba61f3e38fc"
  },
  {
   "metadata": {},
   "cell_type": "markdown",
   "source": "<h3> 배열을 중앙 정렬하기",
   "id": "cb883ee7a0771a5d"
  },
  {
   "metadata": {
    "ExecuteTime": {
     "end_time": "2024-08-31T08:14:34.449227Z",
     "start_time": "2024-08-31T08:14:34.446463Z"
    }
   },
   "cell_type": "code",
   "source": [
    "X = np.random.random((10, 3))\n",
    "print(X)\n",
    "\n",
    "Xmean = X.mean(0)\n",
    "print(Xmean)\n",
    "\n",
    "X_centered = X - Xmean\n",
    "print(X_centered)\n",
    "\n",
    "print(X_centered.mean(0))"
   ],
   "id": "3892b327a7d46f15",
   "outputs": [
    {
     "name": "stdout",
     "output_type": "stream",
     "text": [
      "[[0.00789037 0.39514276 0.36327634]\n",
      " [0.23809766 0.58117392 0.21884446]\n",
      " [0.91439706 0.44125165 0.86388888]\n",
      " [0.5756018  0.16558318 0.68611709]\n",
      " [0.10795797 0.61824215 0.39757061]\n",
      " [0.98331641 0.27808281 0.21099626]\n",
      " [0.57363082 0.60644253 0.42235193]\n",
      " [0.06001027 0.85952502 0.54008148]\n",
      " [0.60296285 0.98014221 0.16687503]\n",
      " [0.60491857 0.97667504 0.63425296]]\n",
      "[0.46687838 0.59022613 0.4504255 ]\n",
      "[[-0.45898801 -0.19508337 -0.08714916]\n",
      " [-0.22878072 -0.00905221 -0.23158105]\n",
      " [ 0.44751868 -0.14897448  0.41346337]\n",
      " [ 0.10872342 -0.42464294  0.23569159]\n",
      " [-0.35892041  0.02801602 -0.05285489]\n",
      " [ 0.51643804 -0.31214332 -0.23942925]\n",
      " [ 0.10675244  0.01621641 -0.02807357]\n",
      " [-0.40686811  0.26929889  0.08965598]\n",
      " [ 0.13608448  0.38991608 -0.28355047]\n",
      " [ 0.13804019  0.38644891  0.18382746]]\n",
      "[-7.77156117e-17  6.66133815e-17 -5.55111512e-17]\n"
     ]
    }
   ],
   "execution_count": 25
  },
  {
   "metadata": {},
   "cell_type": "markdown",
   "source": "<h3> 2차원 함수 플로팅하기",
   "id": "cb94bd94a19f974a"
  },
  {
   "metadata": {
    "ExecuteTime": {
     "end_time": "2024-08-31T08:17:45.988751Z",
     "start_time": "2024-08-31T08:17:45.986183Z"
    }
   },
   "cell_type": "code",
   "source": [
    "# x, y는 0에서 5까지 50단계로 나눈 배열이다\n",
    "x = np.linspace(0, 5, 50)\n",
    "y = np.linspace(0, 5, 50)[:, np.newaxis]\n",
    "z = np.sin(x) ** 10 + np.cos(10 + y * x) * np.cos(x)"
   ],
   "id": "e19e9396b1383c26",
   "outputs": [],
   "execution_count": 28
  },
  {
   "metadata": {
    "ExecuteTime": {
     "end_time": "2024-08-31T08:19:12.188338Z",
     "start_time": "2024-08-31T08:19:12.047732Z"
    }
   },
   "cell_type": "code",
   "source": [
    "%matplotlib inline\n",
    "import matplotlib.pyplot as plt\n",
    "\n",
    "plt.imshow(z, origin='lower', extent=[0, 5, 0, 5], cmap='viridis')\n",
    "plt.colorbar()"
   ],
   "id": "50f4867cd8763062",
   "outputs": [
    {
     "data": {
      "text/plain": [
       "<matplotlib.colorbar.Colorbar at 0x16be58290>"
      ]
     },
     "execution_count": 30,
     "metadata": {},
     "output_type": "execute_result"
    },
    {
     "data": {
      "text/plain": [
       "<Figure size 640x480 with 2 Axes>"
      ],
      "image/png": "[encoded data removed]"
     },
     "metadata": {},
     "output_type": "display_data"
    }
   ],
   "execution_count": 30
  },
  {
   "metadata": {},
   "cell_type": "markdown",
   "source": [
    "<h1> 비교, 마스크, 부울 로직\n",
    "<h3> 마스킹은 특정 기준에 따라 배열의 값을 추출하거나 수정, 계산, 조작할 때 사용한다"
   ],
   "id": "14cebb7487289a97"
  },
  {
   "metadata": {
    "ExecuteTime": {
     "end_time": "2024-08-31T08:35:42.456970Z",
     "start_time": "2024-08-31T08:35:42.454135Z"
    }
   },
   "cell_type": "code",
   "source": [
    "x = np.arange(6)\n",
    "print(x > 4)\n",
    "\n",
    "x = np.random.random((3, 3))\n",
    "print(x > 0.5)"
   ],
   "id": "4fd35fbd1a6f0183",
   "outputs": [
    {
     "name": "stdout",
     "output_type": "stream",
     "text": [
      "[False False False False False  True]\n",
      "[[ True False  True]\n",
      " [False  True  True]\n",
      " [False  True False]]\n"
     ]
    }
   ],
   "execution_count": 51
  },
  {
   "metadata": {
    "ExecuteTime": {
     "end_time": "2024-08-31T08:37:56.332231Z",
     "start_time": "2024-08-31T08:37:56.330119Z"
    }
   },
   "cell_type": "code",
   "source": [
    "# 요소 개수 세기\n",
    "x = np.arange(10)\n",
    "np.count_nonzero(x > 6)\n",
    "\n",
    "# 6보다 큰 값이 하나라도 있는가?\n",
    "print(np.any(x > 6))\n",
    "\n",
    "# 모든 값이 10보다 작은가?\n",
    "print(np.any(x < 10))"
   ],
   "id": "20edc62266fdffa0",
   "outputs": [
    {
     "name": "stdout",
     "output_type": "stream",
     "text": [
      "True\n",
      "True\n"
     ]
    }
   ],
   "execution_count": 53
  },
  {
   "metadata": {},
   "cell_type": "markdown",
   "source": [
    "<h3> 부울 연산자\n",
    "<h4>\n",
    "\n",
    "* & : and\n",
    "* | : or\n",
    "* ^ : Xor\n",
    "* ~ : Not"
   ],
   "id": "6223aa0ddaf51d3e"
  },
  {
   "metadata": {
    "ExecuteTime": {
     "end_time": "2024-08-31T08:41:19.908924Z",
     "start_time": "2024-08-31T08:41:19.903445Z"
    }
   },
   "cell_type": "code",
   "source": [
    "X = np.random.random((3, 3))\n",
    "\n",
    "print(X < 0.2)\n",
    "\n",
    "# 배열 bool, 마스킹 연산\n",
    "print(X[X < 0.2])"
   ],
   "id": "d470c7fa91b374d8",
   "outputs": [
    {
     "name": "stdout",
     "output_type": "stream",
     "text": [
      "[[False False  True]\n",
      " [False False False]\n",
      " [False False False]]\n",
      "[0.05477986]\n"
     ]
    }
   ],
   "execution_count": 58
  },
  {
   "metadata": {},
   "cell_type": "markdown",
   "source": "<h1> 팬시 인덱싱",
   "id": "14cbeba2870162af"
  },
  {
   "metadata": {
    "ExecuteTime": {
     "end_time": "2024-08-31T08:44:59.639545Z",
     "start_time": "2024-08-31T08:44:59.635499Z"
    }
   },
   "cell_type": "code",
   "source": [
    "rand = np.random.RandomState(42)\n",
    "x = rand.randint(100, size=10)\n",
    "print(x)"
   ],
   "id": "740608b4548a7534",
   "outputs": [
    {
     "name": "stdout",
     "output_type": "stream",
     "text": [
      "[51 92 14 71 60 20 82 86 74 74]\n"
     ]
    }
   ],
   "execution_count": 60
  },
  {
   "metadata": {
    "ExecuteTime": {
     "end_time": "2024-08-31T08:46:52.360974Z",
     "start_time": "2024-08-31T08:46:52.358031Z"
    }
   },
   "cell_type": "code",
   "source": [
    "# 세 개의 요소 접근\n",
    "print([x[3], x[7], x[2]])\n",
    "\n",
    "# 배열 전달로 요소 접근\n",
    "idx = [3, 7, 4]\n",
    "print(x[idx])\n",
    "\n",
    "# 팬시 인덱싱을 이용하면 결과의 형상이 인덱싱 대상 배열의 형상이 아니라 인덱스 배열의 형상을 반영한다\n",
    "idx = np.array([[3, 7], [4, 5]])\n",
    "x[idx]"
   ],
   "id": "3b072193d73cae59",
   "outputs": [
    {
     "name": "stdout",
     "output_type": "stream",
     "text": [
      "[71, 86, 14]\n",
      "[71 86 60]\n"
     ]
    },
    {
     "data": {
      "text/plain": [
       "array([[71, 86],\n",
       "       [60, 20]])"
      ]
     },
     "execution_count": 63,
     "metadata": {},
     "output_type": "execute_result"
    }
   ],
   "execution_count": 63
  },
  {
   "metadata": {},
   "cell_type": "markdown",
   "source": "<h3> 임의의 점 선택하기",
   "id": "ed3d78a85a6d5436"
  },
  {
   "metadata": {
    "ExecuteTime": {
     "end_time": "2024-08-31T08:50:07.232905Z",
     "start_time": "2024-08-31T08:50:07.226891Z"
    }
   },
   "cell_type": "code",
   "source": [
    "mean = [0,0]\n",
    "cov = [[1, 2], [2, 5]]\n",
    "\n",
    "X = rand.multivariate_normal(mean, cov, 100)\n",
    "X.shape"
   ],
   "id": "57a64079f66802b4",
   "outputs": [
    {
     "data": {
      "text/plain": [
       "(100, 2)"
      ]
     },
     "execution_count": 64,
     "metadata": {},
     "output_type": "execute_result"
    }
   ],
   "execution_count": 64
  },
  {
   "metadata": {
    "ExecuteTime": {
     "end_time": "2024-08-31T08:50:39.670269Z",
     "start_time": "2024-08-31T08:50:39.562027Z"
    }
   },
   "cell_type": "code",
   "source": [
    "%matplotlib inline\n",
    "import matplotlib.pyplot as plt\n",
    "import seaborn; seaborn.set()\n",
    "\n",
    "# 정규 분포된 점들\n",
    "plt.scatter(X[:, 0], X[:, 1])"
   ],
   "id": "ba55e8e624bd3e2",
   "outputs": [
    {
     "data": {
      "text/plain": [
       "<matplotlib.collections.PathCollection at 0x16bed0620>"
      ]
     },
     "execution_count": 65,
     "metadata": {},
     "output_type": "execute_result"
    },
    {
     "data": {
      "text/plain": [
       "<Figure size 640x480 with 1 Axes>"
      ],
      "image/png": "[encoded data removed]"
     },
     "metadata": {},
     "output_type": "display_data"
    }
   ],
   "execution_count": 65
  },
  {
   "metadata": {
    "ExecuteTime": {
     "end_time": "2024-08-31T08:55:10.339330Z",
     "start_time": "2024-08-31T08:55:10.334803Z"
    }
   },
   "cell_type": "code",
   "source": [
    "# 팬시 인덱싱을 통해 임의의 점 20개 선택하자\n",
    "indices = np.random.choice(X.shape[0], 20, replace=False)\n",
    "print(indices)\n",
    "\n",
    "selection = X[indices] # 팬싱 인덱싱 사용\n",
    "selection.shape"
   ],
   "id": "fc71807cf390ff53",
   "outputs": [
    {
     "name": "stdout",
     "output_type": "stream",
     "text": [
      "[56 50 45  1 33 71 51 10 90 79 67 40 38 81 26 17 88 13  4 11]\n"
     ]
    },
    {
     "data": {
      "text/plain": [
       "(20, 2)"
      ]
     },
     "execution_count": 68,
     "metadata": {},
     "output_type": "execute_result"
    }
   ],
   "execution_count": 68
  },
  {
   "metadata": {
    "ExecuteTime": {
     "end_time": "2024-08-31T08:58:25.063948Z",
     "start_time": "2024-08-31T08:58:24.969119Z"
    }
   },
   "cell_type": "code",
   "source": [
    "plt.scatter(X[:, 0], X[:, 1], alpha=0.3)\n",
    "plt.scatter(selection[:, 0], selection[:, 1], facecolor='red', s=10)"
   ],
   "id": "d901fee204a668ba",
   "outputs": [
    {
     "data": {
      "text/plain": [
       "<matplotlib.collections.PathCollection at 0x16f8fa270>"
      ]
     },
     "execution_count": 80,
     "metadata": {},
     "output_type": "execute_result"
    },
    {
     "data": {
      "text/plain": [
       "<Figure size 640x480 with 1 Axes>"
      ],
      "image/png": "[encoded data removed]"
     },
     "metadata": {},
     "output_type": "display_data"
    }
   ],
   "execution_count": 80
  },
  {
   "metadata": {},
   "cell_type": "markdown",
   "source": "<h3> 펜시 인덱싱으로 값 변경하기",
   "id": "b0cccd1682156634"
  },
  {
   "metadata": {
    "ExecuteTime": {
     "end_time": "2024-08-31T15:00:28.518997Z",
     "start_time": "2024-08-31T15:00:28.516480Z"
    }
   },
   "cell_type": "code",
   "source": [
    "x = np.arange(10)\n",
    "i = np.array([2, 1, 8, 4])\n",
    "x[i] = 99\n",
    "print(x)"
   ],
   "id": "4434120ea9439fff",
   "outputs": [
    {
     "name": "stdout",
     "output_type": "stream",
     "text": [
      "[ 0 99 99  3 99  5  6  7 99  9]\n"
     ]
    }
   ],
   "execution_count": 4
  },
  {
   "metadata": {
    "ExecuteTime": {
     "end_time": "2024-08-31T15:04:18.739684Z",
     "start_time": "2024-08-31T15:04:18.736567Z"
    }
   },
   "cell_type": "code",
   "source": [
    "x = np.zeros(10)\n",
    "i = [2, 3, 3, 4, 4, 4]\n",
    "\n",
    "x[i] += 1\n",
    "\n",
    "# i는 3인덱스 2개, 4인덱스 3개를 포함하는데 누적이 안되고 그냥 1로 표시된다\n",
    "# x[i] = x[i] + 1의 축약형을 의미하고, x[i] + 1이 평가되고 나면 결과가 x의 인덱스에 할당된다\n",
    "print(x)\n",
    "\n",
    "# at 메서드를 사용하면 반복되는 연삭을 사용 가능하다\n",
    "x = np.zeros(10)\n",
    "np.add.at(x, i, 1)\n",
    "print(x)"
   ],
   "id": "a808af70cdf7375e",
   "outputs": [
    {
     "name": "stdout",
     "output_type": "stream",
     "text": [
      "[0. 0. 1. 1. 1. 0. 0. 0. 0. 0.]\n",
      "[0. 0. 1. 2. 3. 0. 0. 0. 0. 0.]\n"
     ]
    }
   ],
   "execution_count": 7
  },
  {
   "metadata": {},
   "cell_type": "markdown",
   "source": [
    "<h1> 데이터 구간화\n",
    "<h4> 1000개의 값이 있고 그 값들이 구간 배열에서 어디에 속하는지 빠르게 찾고 싶은 경우"
   ],
   "id": "cc8db32708ef6a5d"
  },
  {
   "metadata": {
    "ExecuteTime": {
     "end_time": "2024-08-31T15:19:24.533624Z",
     "start_time": "2024-08-31T15:19:24.446896Z"
    }
   },
   "cell_type": "code",
   "source": [
    "np.random.seed(42)\n",
    "x = np.random.random(100)\n",
    "\n",
    "bins = np.linspace(-5, 5, 20)\n",
    "\n",
    "# zero는 그냥 0으로 채워진 배열을 말하고, zeros_like는 변수 사이즈 만큼 0으로 채운 배열을 말한다.\n",
    "counts = np.zeros_like(bins)\n",
    "\n",
    "# 각 x에 대한 적절한 구간 찾기\n",
    "# numpy.searchsorted(a, v, side='left', sorter=None)\n",
    "# a 는 정렬 된 배열, v는 찾고자 하는 값, v가 처음 나오는 값의 인덱스를 알려준다.\n",
    "i = np.searchsorted(bins, x)\n",
    "\n",
    "# 각 구간에 1 더하기(0부터 인덱스가 시작하기 때문이다.)\n",
    "np.add.at(counts, i, 1)\n",
    "\n",
    "%matplotlib inline\n",
    "import matplotlib.pyplot as plt\n",
    "\n",
    "plt.plot(bins, counts, drawstyle='steps')\n",
    "plt.hist(x, bins, histtype='step')"
   ],
   "id": "99fc4ed0e4637c2d",
   "outputs": [
    {
     "data": {
      "text/plain": [
       "(array([ 0.,  0.,  0.,  0.,  0.,  0.,  0.,  0.,  0., 30., 52., 18.,  0.,\n",
       "         0.,  0.,  0.,  0.,  0.,  0.]),\n",
       " array([-5.        , -4.47368421, -3.94736842, -3.42105263, -2.89473684,\n",
       "        -2.36842105, -1.84210526, -1.31578947, -0.78947368, -0.26315789,\n",
       "         0.26315789,  0.78947368,  1.31578947,  1.84210526,  2.36842105,\n",
       "         2.89473684,  3.42105263,  3.94736842,  4.47368421,  5.        ]),\n",
       " [<matplotlib.patches.Polygon at 0x175a7e330>])"
      ]
     },
     "execution_count": 20,
     "metadata": {},
     "output_type": "execute_result"
    },
    {
     "data": {
      "text/plain": [
       "<Figure size 640x480 with 1 Axes>"
      ],
      "image/png": "[encoded data removed]"
     },
     "metadata": {},
     "output_type": "display_data"
    }
   ],
   "execution_count": 20
  },
  {
   "metadata": {},
   "cell_type": "markdown",
   "source": "<h1> 배열 정렬",
   "id": "9bff04887bda7bb3"
  },
  {
   "metadata": {
    "ExecuteTime": {
     "end_time": "2024-08-31T15:24:50.846439Z",
     "start_time": "2024-08-31T15:24:50.841338Z"
    }
   },
   "cell_type": "code",
   "source": [
    "# np.sort는 x가 안 변하고, x.sort는 x가 변한다\n",
    "x = np.array([2, 1, 4, 3, 5])\n",
    "\n",
    "print(np.sort(x))\n",
    "x.sort()\n",
    "print(x,'\\n')\n",
    "\n",
    "# 정렬된 요소의 인덱스 반환\n",
    "x = np.array([2, 1, 4, 3, 5])\n",
    "i = np.argsort(x)\n",
    "print(i)\n",
    "print(x[i]) # 팬시 인덱"
   ],
   "id": "288ef67f7d9f8a50",
   "outputs": [
    {
     "name": "stdout",
     "output_type": "stream",
     "text": [
      "[1 2 3 4 5]\n",
      "[1 2 3 4 5] \n",
      "\n",
      "[1 0 3 2 4]\n",
      "[1 2 3 4 5]\n"
     ]
    }
   ],
   "execution_count": 27
  },
  {
   "metadata": {
    "ExecuteTime": {
     "end_time": "2024-08-31T15:27:16.338954Z",
     "start_time": "2024-08-31T15:27:16.334594Z"
    }
   },
   "cell_type": "code",
   "source": [
    "rand = np.random.RandomState(42)\n",
    "x = rand.randint(0, 10, (4, 6))\n",
    "print(x,'\\n')\n",
    "\n",
    "# x의 각 열을 정렬\n",
    "print(np.sort(x, axis=0),'\\n')\n",
    "\n",
    "# x의 각 행을 정렬\n",
    "print(np.sort(x, axis=1))"
   ],
   "id": "1278119f74581c3a",
   "outputs": [
    {
     "name": "stdout",
     "output_type": "stream",
     "text": [
      "[[6 3 7 4 6 9]\n",
      " [2 6 7 4 3 7]\n",
      " [7 2 5 4 1 7]\n",
      " [5 1 4 0 9 5]] \n",
      "\n",
      "[[2 1 4 0 1 5]\n",
      " [5 2 5 4 3 7]\n",
      " [6 3 7 4 6 7]\n",
      " [7 6 7 4 9 9]] \n",
      "\n",
      "[[3 4 6 6 7 9]\n",
      " [2 3 4 6 7 7]\n",
      " [1 2 4 5 7 7]\n",
      " [0 1 4 5 5 9]]\n"
     ]
    }
   ],
   "execution_count": 33
  },
  {
   "metadata": {},
   "cell_type": "markdown",
   "source": "<h3> 부분 정렬 : 파티션 나누기",
   "id": "5efbea33eb8c28dd"
  },
  {
   "metadata": {
    "ExecuteTime": {
     "end_time": "2024-08-31T15:30:37.051932Z",
     "start_time": "2024-08-31T15:30:37.047723Z"
    }
   },
   "cell_type": "code",
   "source": [
    "# 결과로 얻은 배열의 처음 세 개의 값은 배열의 가장 작은 값 세 개에 해당하며, 배열의 나머지 위치에는 나머지 값이 들어 있다.\n",
    "x = np.array([7, 2, 3, 1, 6, 5, 4])\n",
    "print(np.partition(x, 3))"
   ],
   "id": "74a7659196f029b",
   "outputs": [
    {
     "name": "stdout",
     "output_type": "stream",
     "text": [
      "[2 1 3 4 6 5 7]\n"
     ]
    }
   ],
   "execution_count": 38
  },
  {
   "metadata": {},
   "cell_type": "markdown",
   "source": "<h1> k-최근접 이웃 알고리즘",
   "id": "11553357226680e4"
  },
  {
   "metadata": {
    "ExecuteTime": {
     "end_time": "2024-08-31T15:45:45.029771Z",
     "start_time": "2024-08-31T15:45:45.025573Z"
    }
   },
   "cell_type": "code",
   "source": [
    "X = rand.rand(10, 2)\n",
    "X"
   ],
   "id": "393789b7effd3e12",
   "outputs": [
    {
     "data": {
      "text/plain": [
       "array([[0.23089383, 0.24102547],\n",
       "       [0.68326352, 0.60999666],\n",
       "       [0.83319491, 0.17336465],\n",
       "       [0.39106061, 0.18223609],\n",
       "       [0.75536141, 0.42515587],\n",
       "       [0.20794166, 0.56770033],\n",
       "       [0.03131329, 0.84228477],\n",
       "       [0.44975413, 0.39515024],\n",
       "       [0.92665887, 0.727272  ],\n",
       "       [0.32654077, 0.57044397]])"
      ]
     },
     "execution_count": 48,
     "metadata": {},
     "output_type": "execute_result"
    }
   ],
   "execution_count": 48
  },
  {
   "metadata": {
    "ExecuteTime": {
     "end_time": "2024-08-31T15:45:46.422219Z",
     "start_time": "2024-08-31T15:45:46.334815Z"
    }
   },
   "cell_type": "code",
   "source": [
    "%matplotlib inline\n",
    "import matplotlib.pyplot as plt\n",
    "import seaborn; seaborn.set()\n",
    "plt.scatter(X[:, 0], X[:, 1], s=100);"
   ],
   "id": "dd459f551c536d1a",
   "outputs": [
    {
     "data": {
      "text/plain": [
       "<Figure size 640x480 with 1 Axes>"
      ],
      "image/png": "[encoded data removed]"
     },
     "metadata": {},
     "output_type": "display_data"
    }
   ],
   "execution_count": 49
  },
  {
   "metadata": {
    "ExecuteTime": {
     "end_time": "2024-08-31T15:48:07.586425Z",
     "start_time": "2024-08-31T15:48:07.582356Z"
    }
   },
   "cell_type": "code",
   "source": [
    "# 각 쌍의 점 사이의 거리 계산\n",
    "# 두 점 사이의 거리 제곱 = 각 차원 간의 차이 제곱해서 더한 값\n",
    "dist_sq = np.sum((X[:, np.newaxis, :] - X[np.newaxis, :, :]) ** 2, axis=-1)\n",
    "\n",
    "'''\n",
    "위 식은 익숙 하지 않을 수 있으므로 나눠보자\n",
    "각 쌍의 점 사이의 좌표 차이 계산\n",
    "differences = X[:, np.newaxis, :] - X[np.newaxis, :, :]\n",
    "differences.shape = (10, 10, 2)\n",
    "\n",
    "좌표 차이 제곱\n",
    "sq_dif = differences ** 2\n",
    "sq_dif.shape = (10, 10, 2)\n",
    "\n",
    "제곱 거리를 구하기 위해 좌표 차이 더함\n",
    "dist_sq = sq.dif.sum(-1)\n",
    "dist_sq.shape = (10, 10)\n",
    "'''\n",
    "\n",
    "# 행렬의 대각선(즉, 각 점과 그 점 자신 사이의 거리 집합)이 모두 0인지\n",
    "dist_sq.diagonal()"
   ],
   "id": "44733fa462463102",
   "outputs": [
    {
     "data": {
      "text/plain": [
       "array([0., 0., 0., 0., 0., 0., 0., 0., 0., 0.])"
      ]
     },
     "execution_count": 54,
     "metadata": {},
     "output_type": "execute_result"
    }
   ],
   "execution_count": 54
  },
  {
   "metadata": {
    "ExecuteTime": {
     "end_time": "2024-08-31T15:48:16.139597Z",
     "start_time": "2024-08-31T15:48:16.135005Z"
    }
   },
   "cell_type": "code",
   "source": [
    "# 각 점의 가장 가까운 이웃은 자기자신이기 때문에 0~9는 순서대로 나온다\n",
    "nearest = np.argsort(dist_sq, axis=1)\n",
    "print(nearest)"
   ],
   "id": "b6e37f33d9e3d874",
   "outputs": [
    {
     "name": "stdout",
     "output_type": "stream",
     "text": [
      "[[0 3 7 5 9 4 1 2 6 8]\n",
      " [1 4 8 7 9 2 5 3 0 6]\n",
      " [2 4 3 7 1 8 0 9 5 6]\n",
      " [3 0 7 9 5 4 2 1 6 8]\n",
      " [4 1 2 7 8 3 9 0 5 6]\n",
      " [5 9 7 6 0 3 1 4 8 2]\n",
      " [6 5 9 7 0 1 3 4 8 2]\n",
      " [7 9 3 0 5 4 1 2 8 6]\n",
      " [8 1 4 2 7 9 5 3 0 6]\n",
      " [9 5 7 0 1 3 6 4 8 2]]\n"
     ]
    }
   ],
   "execution_count": 55
  },
  {
   "metadata": {
    "ExecuteTime": {
     "end_time": "2024-08-31T15:51:09.038999Z",
     "start_time": "2024-08-31T15:51:09.034142Z"
    }
   },
   "cell_type": "code",
   "source": [
    "# 가장 가까운 k 이웃을 구하기만 하면 된다면 각 행을 파티션으로 나눠 가장 작은 k + 1개의 제곱 거리가 먼저 오고 그 보다 큰 거리의 요소를 배열로 채운다\n",
    "k = 2\n",
    "nearest_partition = np.argpartition(dist_sq, k + 1, axis = 1)\n",
    "nearest_partition"
   ],
   "id": "4fb53926a7d0ce57",
   "outputs": [
    {
     "data": {
      "text/plain": [
       "array([[0, 3, 7, 5, 9, 1, 6, 2, 8, 4],\n",
       "       [1, 4, 8, 7, 9, 5, 6, 3, 2, 0],\n",
       "       [3, 2, 4, 7, 1, 8, 0, 6, 5, 9],\n",
       "       [3, 0, 7, 9, 1, 5, 6, 2, 8, 4],\n",
       "       [1, 2, 4, 7, 3, 8, 9, 6, 5, 0],\n",
       "       [5, 9, 7, 6, 0, 1, 3, 2, 8, 4],\n",
       "       [6, 5, 9, 7, 0, 1, 3, 2, 8, 4],\n",
       "       [3, 9, 7, 0, 1, 5, 6, 2, 8, 4],\n",
       "       [8, 1, 4, 2, 7, 9, 6, 5, 3, 0],\n",
       "       [5, 9, 7, 0, 1, 3, 6, 2, 8, 4]])"
      ]
     },
     "execution_count": 58,
     "metadata": {},
     "output_type": "execute_result"
    }
   ],
   "execution_count": 58
  },
  {
   "metadata": {
    "ExecuteTime": {
     "end_time": "2024-08-31T15:52:05.510052Z",
     "start_time": "2024-08-31T15:52:05.402422Z"
    }
   },
   "cell_type": "code",
   "source": [
    "plt.scatter(X[:, 0], X[:, 1], s=100)\n",
    "\n",
    "k = 2\n",
    "\n",
    "for i in range(X.shape[0]):\n",
    "    for j in nearest_partition[i, :k+1]:\n",
    "        plt.plot(*zip(X[j], X[i]), color='black')"
   ],
   "id": "cf272ce84d29de78",
   "outputs": [
    {
     "data": {
      "text/plain": [
       "<Figure size 640x480 with 1 Axes>"
      ],
      "image/png": "[encoded data removed]"
     },
     "metadata": {},
     "output_type": "display_data"
    }
   ],
   "execution_count": 59
  },
  {
   "metadata": {},
   "cell_type": "markdown",
   "source": "<h1> 구조화된 데이터: NumPy의 구조화된 배열",
   "id": "c9b853aa612522ae"
  },
  {
   "metadata": {
    "ExecuteTime": {
     "end_time": "2024-08-31T15:56:05.468264Z",
     "start_time": "2024-08-31T15:56:05.464191Z"
    }
   },
   "cell_type": "code",
   "source": [
    "# U10 = 최대 길이 10의 유니코드 문자열, i4 = 4바이트 정수, f8 = 8바이트 정수\n",
    "data = np.zeros(4, dtype={'names' : ('name', 'age', 'weight'), 'formats' : ('U10', 'i4', 'f8')})\n",
    "print(data.dtype)"
   ],
   "id": "4f2df955256d274c",
   "outputs": [
    {
     "name": "stdout",
     "output_type": "stream",
     "text": [
      "[('name', '<U10'), ('age', '<i4'), ('weight', '<f8')]\n"
     ]
    }
   ],
   "execution_count": 62
  },
  {
   "metadata": {
    "ExecuteTime": {
     "end_time": "2024-08-31T15:58:02.729175Z",
     "start_time": "2024-08-31T15:58:02.726361Z"
    }
   },
   "cell_type": "code",
   "source": [
    "name = ['a', 'b', 'c', 'd']\n",
    "age = [100, 200, 300, 400]\n",
    "weight = [10.2, 20.3, 30.5, 50.6]\n",
    "\n",
    "data['name'] = name\n",
    "data['age'] = age\n",
    "data['weight'] = weight\n",
    "\n",
    "print(data)"
   ],
   "id": "5c36cff92008704a",
   "outputs": [
    {
     "name": "stdout",
     "output_type": "stream",
     "text": [
      "[('a', 100, 10.2) ('b', 200, 20.3) ('c', 300, 30.5) ('d', 400, 50.6)]\n"
     ]
    }
   ],
   "execution_count": 65
  }
 ],
 "metadata": {
  "kernelspec": {
   "display_name": "Python 3",
   "language": "python",
   "name": "python3"
  },
  "language_info": {
   "codemirror_mode": {
    "name": "ipython",
    "version": 2
   },
   "file_extension": ".py",
   "mimetype": "text/x-python",
   "name": "python",
   "nbconvert_exporter": "python",
   "pygments_lexer": "ipython2",
   "version": "2.7.6"
  }
 },
 "nbformat": 4,
 "nbformat_minor": 5
}
