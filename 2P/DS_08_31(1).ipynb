{
 "cells": [
  {
   "cell_type": "markdown",
   "id": "df6076eab5f01193",
   "metadata": {},
   "source": [
    "<h1> 배열 연산: 유니버설 함수"
   ]
  },
  {
   "cell_type": "code",
   "execution_count": 54,
   "id": "initial_id",
   "metadata": {
    "ExecuteTime": {
     "end_time": "2024-08-31T06:25:41.710591Z",
     "start_time": "2024-08-31T06:25:40.958962Z"
    },
    "collapsed": true,
    "jupyter": {
     "outputs_hidden": true
    }
   },
   "outputs": [],
   "source": [
    "import numpy as np\n",
    "from scipy import special"
   ]
  },
  {
   "cell_type": "markdown",
   "id": "ea4c22f476009c6e",
   "metadata": {},
   "source": [
    "<h3> 작은 연산 반복은 느리다\n",
    "<h4> 역수가 계산될 때마다 파이썬은 먼저 객체의  타입을 확인하고 해당 타입에 맞게 사용할 적절한 함수를 동적으로 검색한다"
   ]
  },
  {
   "cell_type": "code",
   "execution_count": 18,
   "id": "1a49578208ca2441",
   "metadata": {
    "ExecuteTime": {
     "end_time": "2024-08-31T05:34:46.149035Z",
     "start_time": "2024-08-31T05:34:32.905743Z"
    }
   },
   "outputs": [
    {
     "name": "stdout",
     "output_type": "stream",
     "text": [
      "5.6 μs ± 22.7 ns per loop (mean ± std. dev. of 7 runs, 100,000 loops each)\n",
      "10.7 ms ± 134 μs per loop (mean ± std. dev. of 7 runs, 100 loops each)\n"
     ]
    }
   ],
   "source": [
    "np.random.seed(0)\n",
    "\n",
    "def compute_reciprocals(val):\n",
    "    output = np.empty(len(val))\n",
    "    for i in range(len(val)):\n",
    "        output[i] = 1.0 / val[i]\n",
    "    return output\n",
    "\n",
    "val = np.random.randint(1, 10, size = 5)\n",
    "%timeit compute_reciprocals(val)\n",
    "\n",
    "big_val = np.random.randint(1, 100, size = 10000)\n",
    "%timeit compute_reciprocals(big_val)"
   ]
  },
  {
   "cell_type": "markdown",
   "id": "db361ef7da8a7621",
   "metadata": {},
   "source": [
    "<h3> Ufuncs\n",
    "<h4> 벡터화 연산을 통해 빠르게 계산"
   ]
  },
  {
   "cell_type": "code",
   "execution_count": 19,
   "id": "8b805bd474ae4792",
   "metadata": {
    "ExecuteTime": {
     "end_time": "2024-08-31T05:36:11.316463Z",
     "start_time": "2024-08-31T05:35:57.596061Z"
    }
   },
   "outputs": [
    {
     "name": "stdout",
     "output_type": "stream",
     "text": [
      "10.7 ms ± 159 μs per loop (mean ± std. dev. of 7 runs, 100 loops each)\n",
      "6.17 μs ± 562 ns per loop (mean ± std. dev. of 7 runs, 100,000 loops each)\n"
     ]
    }
   ],
   "source": [
    "%timeit compute_reciprocals(big_val)\n",
    "%timeit 1.0 / big_val"
   ]
  },
  {
   "cell_type": "code",
   "execution_count": 27,
   "id": "ae6a384bfe634e52",
   "metadata": {
    "ExecuteTime": {
     "end_time": "2024-08-31T05:39:19.107782Z",
     "start_time": "2024-08-31T05:39:19.103599Z"
    }
   },
   "outputs": [
    {
     "name": "stdout",
     "output_type": "stream",
     "text": [
      "[[  1   2   4]\n",
      " [  8  16  32]\n",
      " [ 64 128 256]]\n"
     ]
    }
   ],
   "source": [
    "# 두 배열의 연산도 가능\n",
    "np.arange(5) / np.arange(1, 6)\n",
    "\n",
    "# 다차원 배열\n",
    "x = np.arange(9).reshape(3, 3)\n",
    "print(2 ** x)"
   ]
  },
  {
   "cell_type": "markdown",
   "id": "854035ac328db777",
   "metadata": {},
   "source": [
    "<h3> NumPy 유니버설 함수(Ufuncs)\n",
    "<h4> Ufuncs는 단항 Ufuncs와 이항 Ufuncs로 두 종류가 있다  \n",
    "\n",
    "<h3> 단항 Ufuncs\n",
    "<h4> \n",
    "\n",
    "* \\+ -> np.add\n",
    "* \\- -> np.subtract\n",
    "* \\- -> np.negative\n",
    "* \\* -> np.multiply\n",
    "* \\/ -> np.divide\n",
    "* \\// -> np.floor_divide\n",
    "* \\** -> np.power\n",
    "* \\% -> np.mod"
   ]
  },
  {
   "cell_type": "code",
   "execution_count": 37,
   "id": "1cde0d08a40cad24",
   "metadata": {
    "ExecuteTime": {
     "end_time": "2024-08-31T05:45:49.909991Z",
     "start_time": "2024-08-31T05:45:49.905544Z"
    }
   },
   "outputs": [
    {
     "name": "stdout",
     "output_type": "stream",
     "text": [
      "x =  [0 1 2 3]\n",
      "x + 5 =  [5 6 7 8]\n",
      "x * 5 =  [ 0  5 10 15]\n",
      "x / 5 =  [0.  0.2 0.4 0.6]\n",
      "x // 5 =  [0 1 2 3]\n",
      "x + 5 =  [5 6 7 8]\n",
      "-x =  [ 0 -1 -2 -3]\n",
      "x ** 2 =  [0 1 4 9]\n",
      "x % 2 =  [0 1 0 1]\n",
      "[1.   2.25 4.   6.25]\n"
     ]
    }
   ],
   "source": [
    "x = np.arange(4)\n",
    "\n",
    "print(\"x = \", x)\n",
    "print(\"x + 5 = \", x + 5)\n",
    "print(\"x * 5 = \", x * 5)\n",
    "print(\"x / 5 = \", x / 5)\n",
    "print(\"x // 5 = \", x % 5)\n",
    "print(\"x + 5 = \", x + 5)\n",
    "print(\"-x = \", -x)\n",
    "print(\"x ** 2 = \", x ** 2)\n",
    "print(\"x % 2 = \", x % 2)\n",
    "\n",
    "# 이 연산들은 원하는 만큼 사용 가능하며 표준 연산 순서를 따른다\n",
    "print(-(0.5 * x + 1) ** 2)"
   ]
  },
  {
   "cell_type": "code",
   "execution_count": 50,
   "id": "5edf8ac477f405c5",
   "metadata": {
    "ExecuteTime": {
     "end_time": "2024-08-31T06:11:28.770521Z",
     "start_time": "2024-08-31T06:11:28.766370Z"
    }
   },
   "outputs": [
    {
     "name": "stdout",
     "output_type": "stream",
     "text": [
      "[0 1 2 3 4]\n",
      "[5. 5. 2. 1.] \n",
      "\n",
      "theta =  [0.         1.57079633 3.14159265]\n",
      "sin(theta) =  [0.0000000e+00 1.0000000e+00 1.2246468e-16]\n",
      "cos(theta) =  [ 1.000000e+00  6.123234e-17 -1.000000e+00]\n",
      "tan(theta) =  [ 0.00000000e+00  1.63312394e+16 -1.22464680e-16] \n",
      "\n",
      "arcsin(theta) =  [-1.57079633  0.          1.57079633]\n",
      "arccos(theta) =  [3.14159265 1.57079633 0.        ]\n",
      "arctan(theta) =  [-0.78539816  0.          0.78539816]\n"
     ]
    }
   ],
   "source": [
    "# 절댓값 함수 np.abs\n",
    "x = -np.arange(5)\n",
    "print(np.abs(x))\n",
    "\n",
    "# 복소수 데이터 처리, 이 경우 절댓값은 크기를 반환한다\n",
    "x = np.array([3 - 4j, 4 - 3j, 2 + 0j, 0 + 1j])\n",
    "print(np.abs(x),'\\n')\n",
    "\n",
    "# 삼각함수\n",
    "# linspace(start, stop, num = 50, endpoint = True, retstep = False, dtype = None, axis = 0, *, device = None)\n",
    "theta = np.linspace(0, np.pi, 3)\n",
    "print(\"theta = \", theta)\n",
    "print(\"sin(theta) = \", np.sin(theta))\n",
    "print(\"cos(theta) = \", np.cos(theta))\n",
    "print(\"tan(theta) = \", np.tan(theta), '\\n')\n",
    "\n",
    "# 역삼각함수\n",
    "x = [-1, 0, 1]\n",
    "print(\"arcsin(theta) = \", np.arcsin(x))\n",
    "print(\"arccos(theta) = \", np.arccos(x))\n",
    "print(\"arctan(theta) = \", np.arctan(x))"
   ]
  },
  {
   "cell_type": "code",
   "execution_count": 52,
   "id": "64ff87946448e4ed",
   "metadata": {
    "ExecuteTime": {
     "end_time": "2024-08-31T06:14:04.785225Z",
     "start_time": "2024-08-31T06:14:04.778826Z"
    }
   },
   "outputs": [
    {
     "name": "stdout",
     "output_type": "stream",
     "text": [
      "x =  [1, 2, 3]\n",
      "e^x =  [ 2.71828183  7.3890561  20.08553692]\n",
      "2^x =  [2. 4. 8.]\n",
      "3^x =  [ 3  9 27] \n",
      "\n",
      "x =  [1, 2, 4, 10]\n",
      "ln(x) =  [0.         0.69314718 1.38629436 2.30258509]\n",
      "log2(x) =  [0.         1.         2.         3.32192809]\n",
      "log10(x) =  [0.         0.30103    0.60205999 1.        ]\n"
     ]
    }
   ],
   "source": [
    "# 지수\n",
    "x = [1, 2, 3]\n",
    "print(\"x = \", x)\n",
    "print(\"e^x = \", np.exp(x))\n",
    "print(\"2^x = \", np.exp2(x))\n",
    "print(\"3^x = \", np.power(3, x),'\\n')\n",
    "\n",
    "# 로그\n",
    "x = [1, 2, 4, 10]\n",
    "print(\"x = \", x)\n",
    "print(\"ln(x) = \", np.log(x))\n",
    "print(\"log2(x) = \", np.log2(x))\n",
    "print(\"log10(x) = \", np.log10(x))\n"
   ]
  },
  {
   "cell_type": "markdown",
   "id": "a9c6908ccb0b5bb",
   "metadata": {},
   "source": [
    "<h3> 특화된 유니버설 함수"
   ]
  },
  {
   "cell_type": "code",
   "execution_count": 57,
   "id": "bab01a2823d817fc",
   "metadata": {
    "ExecuteTime": {
     "end_time": "2024-08-31T06:28:50.655701Z",
     "start_time": "2024-08-31T06:28:50.650285Z"
    }
   },
   "outputs": [
    {
     "name": "stdout",
     "output_type": "stream",
     "text": [
      "gamma(x) =  [1.0000e+00 2.4000e+01 3.6288e+05]\n",
      "erf(x) =  [0.         0.32862676 0.67780119 0.84270079]\n",
      "erfc(x) =  [1.         0.67137324 0.32219881 0.15729921]\n",
      "erfinv(x) =  [0.         0.27246271 0.73286908        inf]\n"
     ]
    }
   ],
   "source": [
    "# 감마 함수\n",
    "x = [1, 5, 10]\n",
    "print(\"gamma(x) = \", special.gamma(x))\n",
    "\n",
    "# 오차 함수(가우스 적분), 그 보수와 역수\n",
    "x = np.array([0, 0.3, 0.7, 1.0])\n",
    "print(\"erf(x) = \", special.erf(x))\n",
    "print(\"erfc(x) = \", special.erfc(x))\n",
    "print(\"erfinv(x) = \", special.erfinv(x))"
   ]
  },
  {
   "cell_type": "markdown",
   "id": "c949dd5474f1477f",
   "metadata": {},
   "source": [
    "<h3> 고급 Ufunc 기능"
   ]
  },
  {
   "cell_type": "code",
   "execution_count": 60,
   "id": "58f5004360d9972",
   "metadata": {
    "ExecuteTime": {
     "end_time": "2024-08-31T06:31:16.732443Z",
     "start_time": "2024-08-31T06:31:16.727424Z"
    }
   },
   "outputs": [
    {
     "name": "stdout",
     "output_type": "stream",
     "text": [
      "[0.0e+000 4.9e-324 9.9e-324 1.5e-323 2.0e-323]\n",
      "[ 0. 10. 20. 30. 40.]\n"
     ]
    }
   ],
   "source": [
    "# 출력 지정, 지정한 배열을 이용해 원하는 메모리 위치에 연산 결과를 쓸 수 있다\n",
    "x = np.arange(5)\n",
    "y = np.empty(5)\n",
    "np.multiply(x, 10, out=y)\n",
    "print(y)"
   ]
  },
  {
   "cell_type": "code",
   "execution_count": 63,
   "id": "183aef68fa9a95c0",
   "metadata": {
    "ExecuteTime": {
     "end_time": "2024-08-31T06:39:59.187608Z",
     "start_time": "2024-08-31T06:39:59.185101Z"
    }
   },
   "outputs": [
    {
     "name": "stdout",
     "output_type": "stream",
     "text": [
      "15\n",
      "120\n",
      "[ 1  3  6 10 15]\n",
      "[  1   2   6  24 120]\n"
     ]
    }
   ],
   "source": [
    "# 집계\n",
    "x = np.arange(1, 6)\n",
    "\n",
    "# reduce 멧드는 결과가 하나만 남을 때까지 해당 연산을 배열 요소에 반복해서 적용하낟\n",
    "print(np.add.reduce(x))\n",
    "print(np.multiply.reduce(x))\n",
    "\n",
    "# 계산 중간 결과를 모두 저장하고 싶다면 accumulate\n",
    "print(np.add.accumulate(x))\n",
    "print(np.multiply.accumulate(x))"
   ]
  },
  {
   "cell_type": "code",
   "execution_count": 64,
   "id": "7bf1bc7285d29156",
   "metadata": {
    "ExecuteTime": {
     "end_time": "2024-08-31T06:41:30.878509Z",
     "start_time": "2024-08-31T06:41:30.871291Z"
    }
   },
   "outputs": [
    {
     "data": {
      "text/plain": [
       "array([[ 1,  2,  3,  4,  5],\n",
       "       [ 2,  4,  6,  8, 10],\n",
       "       [ 3,  6,  9, 12, 15],\n",
       "       [ 4,  8, 12, 16, 20],\n",
       "       [ 5, 10, 15, 20, 25]])"
      ]
     },
     "execution_count": 64,
     "metadata": {},
     "output_type": "execute_result"
    }
   ],
   "source": [
    "# 외적(Outer products)\n",
    "# outer 메서드를 이용해 서로 다른 두 입력값의 모든 쌍에 대한 출력값을 계산 할 수 있다\n",
    "x = np.arange(1, 6)\n",
    "np.multiply.outer(x, x)\n"
   ]
  },
  {
   "cell_type": "markdown",
   "id": "f11f9a268241c4f6",
   "metadata": {},
   "source": [
    "<h3> 집계: 최솟값, 최댓값, 그리고 그 사이의 모든 것\n",
    "<h4> 대용량 데이터에 직면했을 때 보편적인 요약 통계는 평균, 표준편차겠지만(합, 곱, 중앙값, 최솟값, 최댓값, 분위 수 등)도 유용하다"
   ]
  },
  {
   "cell_type": "code",
   "execution_count": 67,
   "id": "c25e5ed619002468",
   "metadata": {
    "ExecuteTime": {
     "end_time": "2024-08-31T06:45:06.427899Z",
     "start_time": "2024-08-31T06:45:06.425056Z"
    }
   },
   "outputs": [
    {
     "name": "stdout",
     "output_type": "stream",
     "text": [
      "51.18689942644107\n",
      "0.02105699578930975 0.9894734658470377\n"
     ]
    }
   ],
   "source": [
    "# 배열의 값 구하기\n",
    "# 파이썬 내장함수 sum, min, max 보다 np.sum,min,max가 훨씬 빠르다\n",
    "L = np.random.random(100)\n",
    "print(np.sum(L))\n",
    "print(np.min(L), np.max(L))"
   ]
  },
  {
   "cell_type": "code",
   "execution_count": 72,
   "id": "a84e6fa71feecc8c",
   "metadata": {
    "ExecuteTime": {
     "end_time": "2024-08-31T06:47:42.392872Z",
     "start_time": "2024-08-31T06:47:42.389738Z"
    }
   },
   "outputs": [
    {
     "name": "stdout",
     "output_type": "stream",
     "text": [
      "[[0.86527541 0.87522277 0.4375864  0.99733631]\n",
      " [0.2828003  0.09106374 0.56719497 0.00747177]\n",
      " [0.47416375 0.83680379 0.41970708 0.20399237]] \n",
      "\n",
      "[0.2828003  0.09106374 0.41970708 0.00747177]\n",
      "[0.99733631 0.56719497 0.83680379]\n"
     ]
    }
   ],
   "source": [
    "# 다차원 집계\n",
    "M = np.random.random((3, 4))\n",
    "print(M,'\\n')\n",
    "\n",
    "# 집계 함수는 축(axis)에 따라 추가적인 인수를 취한다\n",
    "# 예를들어 각 열의 최솟값을 찾으려면 axis = 0이다\n",
    "print(M.min(axis = 0))\n",
    "print(M.max(axis = 1))"
   ]
  },
  {
   "cell_type": "markdown",
   "id": "ca2bc9b9471baa5b",
   "metadata": {},
   "source": [
    "<h3> 기타 집계 함수\n",
    "\n",
    "* np.sum : 요소의 합 계산\n",
    "* np.prod : 요소의 곱 계산\n",
    "* np.mean : 요소의 평균 계산\n",
    "* np.std : 표준 편차 계산\n",
    "* np.var : 분산 계산\n",
    "* np.min : 최솟값 찾기\n",
    "* np.max : 최댓값 찾기\n",
    "* np.argmin : 최솟값의 인덱스 찾기\n",
    "* np.argmax : 최댓값의 인덱스 찾기\n",
    "* np.median : 요소의 중앙값 계산\n",
    "* np.percentile 요소의 순위 기반 백분위 수 계산\n",
    "* np.any : 요소 중 참이 있는지 검사\n",
    "* np.all : 모슨 요소가 참인지 검사\n",
    "\n",
    "<h4> 누락된 경우를 NaN으로 표시 할때는 np.nan함수를 해주면 된다"
   ]
  },
  {
   "cell_type": "code",
   "execution_count": null,
   "id": "99d9d6f77bc69b31",
   "metadata": {},
   "outputs": [],
   "source": []
  }
 ],
 "metadata": {
  "kernelspec": {
   "display_name": "Python 3 (ipykernel)",
   "language": "python",
   "name": "python3"
  },
  "language_info": {
   "codemirror_mode": {
    "name": "ipython",
    "version": 3
   },
   "file_extension": ".py",
   "mimetype": "text/x-python",
   "name": "python",
   "nbconvert_exporter": "python",
   "pygments_lexer": "ipython3",
   "version": "3.12.4"
  }
 },
 "nbformat": 4,
 "nbformat_minor": 5
}
